{
 "cells": [
  {
   "cell_type": "code",
   "execution_count": 9,
   "metadata": {
    "collapsed": true
   },
   "outputs": [],
   "source": [
    "import warnings\n",
    "warnings.simplefilter(action='ignore')\n",
    "\n",
    "import numpy as np\n",
    "import pandas as pd\n",
    "import seaborn as sns\n",
    "\n",
    "from sklearn.model_selection import train_test_split, cross_val_score, KFold, GridSearchCV, RandomizedSearchCV\n",
    "from sklearn.metrics import roc_auc_score, accuracy_score, recall_score, precision_score\n",
    "from sklearn.tree import DecisionTreeClassifier, export_graphviz, plot_tree\n",
    "from matplotlib import pyplot as plt\n",
    "from sklearn.ensemble import RandomForestClassifier\n",
    "\n",
    "\n",
    "sns.set(rc={'figure.figsize':(10, 8)})"
   ]
  },
  {
   "cell_type": "code",
   "execution_count": 3,
   "outputs": [
    {
     "data": {
      "text/plain": "                 id  target  device_type  manufacturer_category  os_category  \\\n0      4.810120e+10     0.0          7.0                  592.0          3.0   \n1      4.810425e+10     0.0          7.0                 1057.0          3.0   \n2      4.811813e+09     0.0          7.0                 1057.0          3.0   \n3      4.810105e+10     0.0          7.0                  745.0          3.0   \n4      4.830019e+09     0.0          7.0                 1057.0          3.0   \n...             ...     ...          ...                    ...          ...   \n19995  4.894477e+09     1.0          7.0                 1057.0          3.0   \n19996  4.875985e+09     0.0          7.0                  592.0          3.0   \n19997  4.811248e+09     0.0          7.0                  728.0          3.0   \n19998  4.896164e+09     0.0          7.0                 1057.0          3.0   \n19999  4.852292e+09     0.0          7.0                 1228.0          3.0   \n\n       sim_count  tp_flag        lt  block_flag  days_exp  ...  \\\n0            2.0      0.0  0.632435         0.0     108.0  ...   \n1            2.0      0.0  0.540345         0.0     330.0  ...   \n2            2.0      0.0  0.951582         0.0     344.0  ...   \n3            2.0      0.0  0.659047         0.0     361.0  ...   \n4            2.0      0.0  0.926471         0.0     199.0  ...   \n...          ...      ...       ...         ...       ...  ...   \n19995        2.0      0.0  0.707827         0.0     221.0  ...   \n19996        2.0      0.0  0.824135         0.0     355.0  ...   \n19997        1.0      0.0  0.924764         0.0     208.0  ...   \n19998        2.0      0.0  0.716732         0.0     324.0  ...   \n19999        1.0      0.0  0.880862         0.0     343.0  ...   \n\n       service_5_count_m3  service_6_count_m3  service_7_cost_m3  \\\n0                     0.0                 0.0                0.0   \n1                     0.0                 0.0                0.0   \n2                     0.0                 0.0                0.0   \n3                     0.0                 0.0                0.0   \n4                     0.0                 0.0                0.0   \n...                   ...                 ...                ...   \n19995                 0.0                 0.0                0.0   \n19996                 0.0                 0.0                0.0   \n19997                 0.0                 0.0                0.0   \n19998                 0.0                 0.0                0.0   \n19999                92.0                 0.0                0.0   \n\n       service_7_flag_m3  service_8_count_m3  income_brnd_cont_m3  \\\n0                    0.0                 0.0            19.971334   \n1                    0.0                 0.0            10.894140   \n2                    0.0                 0.0             9.894929   \n3                    0.0                 0.0             8.183337   \n4                    0.0                 0.0             2.217369   \n...                  ...                 ...                  ...   \n19995                0.0                 0.0            11.649066   \n19996                0.0                 0.0             2.159549   \n19997                0.0                 0.0            10.999666   \n19998                0.0                 0.0            14.756591   \n19999                0.0                 0.0             2.745100   \n\n       data_type_1_m3  data_type_2_m3  data_type_3_m3  service_9_flag_m3  \n0          127.895751      716.420311      114.566613                1.0  \n1          234.292876       80.144736       14.630618                1.0  \n2            0.018959        0.000977       57.100249                1.0  \n3          189.579215      118.776836       53.537855                1.0  \n4          534.214973     1989.913944       29.685412                1.0  \n...               ...             ...             ...                ...  \n19995      522.172754     2286.497442      452.738112                1.0  \n19996      857.216847     5979.779220      265.482364                1.0  \n19997      196.408633       40.263622        0.071870                1.0  \n19998      274.917012       28.008975       10.813313                1.0  \n19999     4236.638531     5695.405960      109.627658                1.0  \n\n[20000 rows x 461 columns]",
      "text/html": "<div>\n<style scoped>\n    .dataframe tbody tr th:only-of-type {\n        vertical-align: middle;\n    }\n\n    .dataframe tbody tr th {\n        vertical-align: top;\n    }\n\n    .dataframe thead th {\n        text-align: right;\n    }\n</style>\n<table border=\"1\" class=\"dataframe\">\n  <thead>\n    <tr style=\"text-align: right;\">\n      <th></th>\n      <th>id</th>\n      <th>target</th>\n      <th>device_type</th>\n      <th>manufacturer_category</th>\n      <th>os_category</th>\n      <th>sim_count</th>\n      <th>tp_flag</th>\n      <th>lt</th>\n      <th>block_flag</th>\n      <th>days_exp</th>\n      <th>...</th>\n      <th>service_5_count_m3</th>\n      <th>service_6_count_m3</th>\n      <th>service_7_cost_m3</th>\n      <th>service_7_flag_m3</th>\n      <th>service_8_count_m3</th>\n      <th>income_brnd_cont_m3</th>\n      <th>data_type_1_m3</th>\n      <th>data_type_2_m3</th>\n      <th>data_type_3_m3</th>\n      <th>service_9_flag_m3</th>\n    </tr>\n  </thead>\n  <tbody>\n    <tr>\n      <th>0</th>\n      <td>4.810120e+10</td>\n      <td>0.0</td>\n      <td>7.0</td>\n      <td>592.0</td>\n      <td>3.0</td>\n      <td>2.0</td>\n      <td>0.0</td>\n      <td>0.632435</td>\n      <td>0.0</td>\n      <td>108.0</td>\n      <td>...</td>\n      <td>0.0</td>\n      <td>0.0</td>\n      <td>0.0</td>\n      <td>0.0</td>\n      <td>0.0</td>\n      <td>19.971334</td>\n      <td>127.895751</td>\n      <td>716.420311</td>\n      <td>114.566613</td>\n      <td>1.0</td>\n    </tr>\n    <tr>\n      <th>1</th>\n      <td>4.810425e+10</td>\n      <td>0.0</td>\n      <td>7.0</td>\n      <td>1057.0</td>\n      <td>3.0</td>\n      <td>2.0</td>\n      <td>0.0</td>\n      <td>0.540345</td>\n      <td>0.0</td>\n      <td>330.0</td>\n      <td>...</td>\n      <td>0.0</td>\n      <td>0.0</td>\n      <td>0.0</td>\n      <td>0.0</td>\n      <td>0.0</td>\n      <td>10.894140</td>\n      <td>234.292876</td>\n      <td>80.144736</td>\n      <td>14.630618</td>\n      <td>1.0</td>\n    </tr>\n    <tr>\n      <th>2</th>\n      <td>4.811813e+09</td>\n      <td>0.0</td>\n      <td>7.0</td>\n      <td>1057.0</td>\n      <td>3.0</td>\n      <td>2.0</td>\n      <td>0.0</td>\n      <td>0.951582</td>\n      <td>0.0</td>\n      <td>344.0</td>\n      <td>...</td>\n      <td>0.0</td>\n      <td>0.0</td>\n      <td>0.0</td>\n      <td>0.0</td>\n      <td>0.0</td>\n      <td>9.894929</td>\n      <td>0.018959</td>\n      <td>0.000977</td>\n      <td>57.100249</td>\n      <td>1.0</td>\n    </tr>\n    <tr>\n      <th>3</th>\n      <td>4.810105e+10</td>\n      <td>0.0</td>\n      <td>7.0</td>\n      <td>745.0</td>\n      <td>3.0</td>\n      <td>2.0</td>\n      <td>0.0</td>\n      <td>0.659047</td>\n      <td>0.0</td>\n      <td>361.0</td>\n      <td>...</td>\n      <td>0.0</td>\n      <td>0.0</td>\n      <td>0.0</td>\n      <td>0.0</td>\n      <td>0.0</td>\n      <td>8.183337</td>\n      <td>189.579215</td>\n      <td>118.776836</td>\n      <td>53.537855</td>\n      <td>1.0</td>\n    </tr>\n    <tr>\n      <th>4</th>\n      <td>4.830019e+09</td>\n      <td>0.0</td>\n      <td>7.0</td>\n      <td>1057.0</td>\n      <td>3.0</td>\n      <td>2.0</td>\n      <td>0.0</td>\n      <td>0.926471</td>\n      <td>0.0</td>\n      <td>199.0</td>\n      <td>...</td>\n      <td>0.0</td>\n      <td>0.0</td>\n      <td>0.0</td>\n      <td>0.0</td>\n      <td>0.0</td>\n      <td>2.217369</td>\n      <td>534.214973</td>\n      <td>1989.913944</td>\n      <td>29.685412</td>\n      <td>1.0</td>\n    </tr>\n    <tr>\n      <th>...</th>\n      <td>...</td>\n      <td>...</td>\n      <td>...</td>\n      <td>...</td>\n      <td>...</td>\n      <td>...</td>\n      <td>...</td>\n      <td>...</td>\n      <td>...</td>\n      <td>...</td>\n      <td>...</td>\n      <td>...</td>\n      <td>...</td>\n      <td>...</td>\n      <td>...</td>\n      <td>...</td>\n      <td>...</td>\n      <td>...</td>\n      <td>...</td>\n      <td>...</td>\n      <td>...</td>\n    </tr>\n    <tr>\n      <th>19995</th>\n      <td>4.894477e+09</td>\n      <td>1.0</td>\n      <td>7.0</td>\n      <td>1057.0</td>\n      <td>3.0</td>\n      <td>2.0</td>\n      <td>0.0</td>\n      <td>0.707827</td>\n      <td>0.0</td>\n      <td>221.0</td>\n      <td>...</td>\n      <td>0.0</td>\n      <td>0.0</td>\n      <td>0.0</td>\n      <td>0.0</td>\n      <td>0.0</td>\n      <td>11.649066</td>\n      <td>522.172754</td>\n      <td>2286.497442</td>\n      <td>452.738112</td>\n      <td>1.0</td>\n    </tr>\n    <tr>\n      <th>19996</th>\n      <td>4.875985e+09</td>\n      <td>0.0</td>\n      <td>7.0</td>\n      <td>592.0</td>\n      <td>3.0</td>\n      <td>2.0</td>\n      <td>0.0</td>\n      <td>0.824135</td>\n      <td>0.0</td>\n      <td>355.0</td>\n      <td>...</td>\n      <td>0.0</td>\n      <td>0.0</td>\n      <td>0.0</td>\n      <td>0.0</td>\n      <td>0.0</td>\n      <td>2.159549</td>\n      <td>857.216847</td>\n      <td>5979.779220</td>\n      <td>265.482364</td>\n      <td>1.0</td>\n    </tr>\n    <tr>\n      <th>19997</th>\n      <td>4.811248e+09</td>\n      <td>0.0</td>\n      <td>7.0</td>\n      <td>728.0</td>\n      <td>3.0</td>\n      <td>1.0</td>\n      <td>0.0</td>\n      <td>0.924764</td>\n      <td>0.0</td>\n      <td>208.0</td>\n      <td>...</td>\n      <td>0.0</td>\n      <td>0.0</td>\n      <td>0.0</td>\n      <td>0.0</td>\n      <td>0.0</td>\n      <td>10.999666</td>\n      <td>196.408633</td>\n      <td>40.263622</td>\n      <td>0.071870</td>\n      <td>1.0</td>\n    </tr>\n    <tr>\n      <th>19998</th>\n      <td>4.896164e+09</td>\n      <td>0.0</td>\n      <td>7.0</td>\n      <td>1057.0</td>\n      <td>3.0</td>\n      <td>2.0</td>\n      <td>0.0</td>\n      <td>0.716732</td>\n      <td>0.0</td>\n      <td>324.0</td>\n      <td>...</td>\n      <td>0.0</td>\n      <td>0.0</td>\n      <td>0.0</td>\n      <td>0.0</td>\n      <td>0.0</td>\n      <td>14.756591</td>\n      <td>274.917012</td>\n      <td>28.008975</td>\n      <td>10.813313</td>\n      <td>1.0</td>\n    </tr>\n    <tr>\n      <th>19999</th>\n      <td>4.852292e+09</td>\n      <td>0.0</td>\n      <td>7.0</td>\n      <td>1228.0</td>\n      <td>3.0</td>\n      <td>1.0</td>\n      <td>0.0</td>\n      <td>0.880862</td>\n      <td>0.0</td>\n      <td>343.0</td>\n      <td>...</td>\n      <td>92.0</td>\n      <td>0.0</td>\n      <td>0.0</td>\n      <td>0.0</td>\n      <td>0.0</td>\n      <td>2.745100</td>\n      <td>4236.638531</td>\n      <td>5695.405960</td>\n      <td>109.627658</td>\n      <td>1.0</td>\n    </tr>\n  </tbody>\n</table>\n<p>20000 rows × 461 columns</p>\n</div>"
     },
     "execution_count": 3,
     "metadata": {},
     "output_type": "execute_result"
    }
   ],
   "source": [
    "df_ForestImputer = pd.read_csv('../Train_music_ForestImputer.csv')\n",
    "df_ForestImputer"
   ],
   "metadata": {
    "collapsed": false,
    "pycharm": {
     "name": "#%%\n"
    }
   }
  },
  {
   "cell_type": "code",
   "execution_count": 4,
   "outputs": [],
   "source": [
    "X = df_ForestImputer.drop(['target'], axis=1)\n",
    "y = df_ForestImputer.target"
   ],
   "metadata": {
    "collapsed": false,
    "pycharm": {
     "name": "#%%\n"
    }
   }
  },
  {
   "cell_type": "code",
   "execution_count": 5,
   "outputs": [],
   "source": [
    "X_train, X_test, y_train, y_test = train_test_split(X, y, test_size=0.2, random_state=42)"
   ],
   "metadata": {
    "collapsed": false,
    "pycharm": {
     "name": "#%%\n"
    }
   }
  },
  {
   "cell_type": "code",
   "execution_count": 23,
   "outputs": [
    {
     "data": {
      "text/plain": "0.575550766283525"
     },
     "execution_count": 23,
     "metadata": {},
     "output_type": "execute_result"
    }
   ],
   "source": [
    "tree = DecisionTreeClassifier()\n",
    "tree.fit(X_train, y_train)\n",
    "y_pred = tree.predict(X_test)"
   ],
   "metadata": {
    "collapsed": false,
    "pycharm": {
     "name": "#%%\n"
    }
   }
  },
  {
   "cell_type": "raw",
   "source": [
    "https://habr.com/ru/company/ods/blog/328372/"
   ],
   "metadata": {
    "collapsed": false,
    "pycharm": {
     "name": "#%% raw\n"
    }
   }
  },
  {
   "cell_type": "code",
   "execution_count": 27,
   "outputs": [
    {
     "name": "stdout",
     "output_type": "stream",
     "text": [
      "ROC_AUC (MAIN) 0.575550766283525\n",
      "Accuracy 0.878\n",
      "Recall 0.2222222222222222\n",
      "Precision 0.1951219512195122\n"
     ]
    }
   ],
   "source": [
    "print(\"ROC_AUC (MAIN)\", roc_auc_score(y_test, y_pred))\n",
    "print(\"Accuracy\", accuracy_score(y_test, y_pred))\n",
    "print(\"Recall\", recall_score(y_test, y_pred))\n",
    "print(\"Precision\", precision_score(y_test, y_pred))"
   ],
   "metadata": {
    "collapsed": false,
    "pycharm": {
     "name": "#%%\n"
    }
   }
  },
  {
   "cell_type": "code",
   "execution_count": 29,
   "outputs": [],
   "source": [
    "kf = KFold(n_splits=5, shuffle=True, random_state=42) # n_splits играет роль K\n",
    "tree = DecisionTreeClassifier()"
   ],
   "metadata": {
    "collapsed": false,
    "pycharm": {
     "name": "#%%\n"
    }
   }
  },
  {
   "cell_type": "code",
   "execution_count": 32,
   "outputs": [
    {
     "name": "stdout",
     "output_type": "stream",
     "text": [
      "Массив значений метрики: [0.55871348 0.56767797 0.56098124 0.58971793 0.56607439]\n",
      "Средняя метрика на кросс-валидации: 0.5686330036291988\n"
     ]
    }
   ],
   "source": [
    "scores = cross_val_score(tree, X, y, cv=kf, scoring='roc_auc')\n",
    "print('Массив значений метрики:', scores)\n",
    "print('Средняя метрика на кросс-валидации:', np.mean(scores))"
   ],
   "metadata": {
    "collapsed": false,
    "pycharm": {
     "name": "#%%\n"
    }
   }
  },
  {
   "cell_type": "code",
   "execution_count": 35,
   "outputs": [
    {
     "data": {
      "text/plain": "GridSearchCV(cv=KFold(n_splits=5, random_state=42, shuffle=True),\n             estimator=DecisionTreeClassifier(), n_jobs=-1,\n             param_grid={'max_depth': array([ 2,  3,  4,  5,  6,  7,  8,  9, 10]),\n                         'max_features': ['sqrt', 'log2', 'None'],\n                         'min_samples_leaf': array([ 2,  3,  4,  5,  6,  7,  8,  9, 10]),\n                         'min_samples_split': array([ 2,  3,  4,  5,  6,  7,  8,  9, 10, 11, 12, 13, 14, 15, 16, 17, 18,\n       19, 20])},\n             scoring='roc_auc')"
     },
     "execution_count": 35,
     "metadata": {},
     "output_type": "execute_result"
    }
   ],
   "source": [
    "tree = DecisionTreeClassifier()\n",
    "max_depth = np.arange(2, 11)\n",
    "min_samples_split = np.arange(2,21)\n",
    "min_samples_leaf = np.arange(2,11)\n",
    "max_features = [\"sqrt\", \"log2\", \"None\"]\n",
    "\n",
    "tree_params={'max_depth': max_depth, 'min_samples_split': min_samples_split, 'min_samples_leaf': min_samples_leaf, 'max_features': max_features}\n",
    "\n",
    "tree_grid = GridSearchCV(tree, tree_params, cv=kf, scoring='roc_auc', n_jobs = -1)\n",
    "tree_grid.fit(X_train, y_train)"
   ],
   "metadata": {
    "collapsed": false,
    "pycharm": {
     "name": "#%%\n"
    }
   }
  },
  {
   "cell_type": "code",
   "execution_count": 36,
   "outputs": [
    {
     "name": "stdout",
     "output_type": "stream",
     "text": [
      "Найлучшее качество модели при {'max_depth': 5, 'max_features': 'sqrt', 'min_samples_leaf': 7, 'min_samples_split': 19}\n",
      "Наилучшая оценка качества модели: 0.6981740042177453\n"
     ]
    }
   ],
   "source": [
    "print(\"Найлучшее качество модели при\", tree_grid.best_params_)\n",
    "print(\"Наилучшая оценка качества модели:\", tree_grid.best_score_)"
   ],
   "metadata": {
    "collapsed": false,
    "pycharm": {
     "name": "#%%\n"
    }
   }
  },
  {
   "cell_type": "code",
   "execution_count": 68,
   "outputs": [
    {
     "ename": "ValueError",
     "evalue": "cannot reshape array of size 4617 into shape (3,9)",
     "output_type": "error",
     "traceback": [
      "\u001B[1;31m---------------------------------------------------------------------------\u001B[0m",
      "\u001B[1;31mValueError\u001B[0m                                Traceback (most recent call last)",
      "\u001B[1;32m~\\AppData\\Local\\Temp/ipykernel_16180/2876017785.py\u001B[0m in \u001B[0;36m<module>\u001B[1;34m\u001B[0m\n\u001B[0;32m     21\u001B[0m \u001B[1;33m\u001B[0m\u001B[0m\n\u001B[0;32m     22\u001B[0m \u001B[1;31m# Calling Method\u001B[0m\u001B[1;33m\u001B[0m\u001B[1;33m\u001B[0m\u001B[0m\n\u001B[1;32m---> 23\u001B[1;33m \u001B[0mplot_grid_search\u001B[0m\u001B[1;33m(\u001B[0m\u001B[0mtree_grid\u001B[0m\u001B[1;33m.\u001B[0m\u001B[0mcv_results_\u001B[0m\u001B[1;33m,\u001B[0m \u001B[0mmax_depth\u001B[0m\u001B[1;33m,\u001B[0m \u001B[0mmax_features\u001B[0m\u001B[1;33m,\u001B[0m \u001B[1;34m'Max deapth'\u001B[0m\u001B[1;33m,\u001B[0m \u001B[1;34m'Max Features'\u001B[0m\u001B[1;33m)\u001B[0m\u001B[1;33m\u001B[0m\u001B[1;33m\u001B[0m\u001B[0m\n\u001B[0m",
      "\u001B[1;32m~\\AppData\\Local\\Temp/ipykernel_16180/2876017785.py\u001B[0m in \u001B[0;36mplot_grid_search\u001B[1;34m(cv_results, grid_param_1, grid_param_2, name_param_1, name_param_2)\u001B[0m\n\u001B[0;32m      2\u001B[0m     \u001B[1;31m# Get Test Scores Mean and std for each grid search\u001B[0m\u001B[1;33m\u001B[0m\u001B[1;33m\u001B[0m\u001B[0m\n\u001B[0;32m      3\u001B[0m     \u001B[0mscores_mean\u001B[0m \u001B[1;33m=\u001B[0m \u001B[0mcv_results\u001B[0m\u001B[1;33m[\u001B[0m\u001B[1;34m'mean_test_score'\u001B[0m\u001B[1;33m]\u001B[0m\u001B[1;33m\u001B[0m\u001B[1;33m\u001B[0m\u001B[0m\n\u001B[1;32m----> 4\u001B[1;33m     \u001B[0mscores_mean\u001B[0m \u001B[1;33m=\u001B[0m \u001B[0mnp\u001B[0m\u001B[1;33m.\u001B[0m\u001B[0marray\u001B[0m\u001B[1;33m(\u001B[0m\u001B[0mscores_mean\u001B[0m\u001B[1;33m)\u001B[0m\u001B[1;33m.\u001B[0m\u001B[0mreshape\u001B[0m\u001B[1;33m(\u001B[0m\u001B[0mlen\u001B[0m\u001B[1;33m(\u001B[0m\u001B[0mgrid_param_2\u001B[0m\u001B[1;33m)\u001B[0m\u001B[1;33m,\u001B[0m\u001B[0mlen\u001B[0m\u001B[1;33m(\u001B[0m\u001B[0mgrid_param_1\u001B[0m\u001B[1;33m)\u001B[0m\u001B[1;33m)\u001B[0m\u001B[1;33m\u001B[0m\u001B[1;33m\u001B[0m\u001B[0m\n\u001B[0m\u001B[0;32m      5\u001B[0m \u001B[1;33m\u001B[0m\u001B[0m\n\u001B[0;32m      6\u001B[0m     \u001B[0mscores_sd\u001B[0m \u001B[1;33m=\u001B[0m \u001B[0mcv_results\u001B[0m\u001B[1;33m[\u001B[0m\u001B[1;34m'std_test_score'\u001B[0m\u001B[1;33m]\u001B[0m\u001B[1;33m\u001B[0m\u001B[1;33m\u001B[0m\u001B[0m\n",
      "\u001B[1;31mValueError\u001B[0m: cannot reshape array of size 4617 into shape (3,9)"
     ]
    }
   ],
   "source": [
    "# def plot_grid_search(cv_results, grid_param_1, grid_param_2, name_param_1, name_param_2):\n",
    "#     # Get Test Scores Mean and std for each grid search\n",
    "#     scores_mean = cv_results['mean_test_score']\n",
    "#     scores_mean = np.array(scores_mean).reshape(len(grid_param_2),len(grid_param_1))\n",
    "#\n",
    "#     scores_sd = cv_results['std_test_score']\n",
    "#     scores_sd = np.array(scores_sd).reshape(len(grid_param_2),len(grid_param_1))\n",
    "#\n",
    "#     # Plot Grid search scores\n",
    "#     _, ax = plt.subplots(1,1)\n",
    "#\n",
    "#     # Param1 is the X-axis, Param 2 is represented as a different curve (color line)\n",
    "#     for idx, val in enumerate(grid_param_2):\n",
    "#         ax.plot(grid_param_1, scores_mean[idx,:], '-o', label= name_param_2 + ': ' + str(val))\n",
    "#\n",
    "#     ax.set_title(\"Grid Search Scores\", fontsize=20, fontweight='bold')\n",
    "#     ax.set_xlabel(name_param_1, fontsize=16)\n",
    "#     ax.set_ylabel('CV Average Score', fontsize=16)\n",
    "#     ax.legend(loc=\"best\", fontsize=15)\n",
    "#     ax.grid('on')\n",
    "#\n",
    "# # Calling Method\n",
    "# plot_grid_search(tree_grid.cv_results_, max_depth, max_features, 'Max deapth', 'Max Features')"
   ],
   "metadata": {
    "collapsed": false,
    "pycharm": {
     "name": "#%%\n"
    }
   }
  },
  {
   "cell_type": "code",
   "execution_count": 69,
   "outputs": [
    {
     "name": "stdout",
     "output_type": "stream",
     "text": [
      "digraph Tree {\n",
      "node [shape=box, fontname=\"helvetica\"] ;\n",
      "edge [fontname=\"helvetica\"] ;\n",
      "0 [label=\"data_type_2_m3 <= 905.294\\ngini = 0.14\\nsamples = 16000\\nvalue = [14792, 1208]\"] ;\n",
      "1 [label=\"voice_all_out_dur_m1 <= 21117.429\\ngini = 0.114\\nsamples = 9979\\nvalue = [9375, 604]\"] ;\n",
      "0 -> 1 [labeldistance=2.5, labelangle=45, headlabel=\"True\"] ;\n",
      "2 [label=\"data_type_1_m2 <= 253.139\\ngini = 0.128\\nsamples = 6802\\nvalue = [6334, 468]\"] ;\n",
      "1 -> 2 ;\n",
      "3 [label=\"content_count_m1 <= 102.5\\ngini = 0.113\\nsamples = 4693\\nvalue = [4411, 282]\"] ;\n",
      "2 -> 3 ;\n",
      "4 [label=\"gini = 0.103\\nsamples = 4541\\nvalue = [4294, 247]\"] ;\n",
      "3 -> 4 ;\n",
      "5 [label=\"gini = 0.354\\nsamples = 152\\nvalue = [117, 35]\"] ;\n",
      "3 -> 5 ;\n",
      "6 [label=\"lt <= 0.716\\ngini = 0.161\\nsamples = 2109\\nvalue = [1923, 186]\"] ;\n",
      "2 -> 6 ;\n",
      "7 [label=\"gini = 0.281\\nsamples = 699\\nvalue = [581, 118]\"] ;\n",
      "6 -> 7 ;\n",
      "8 [label=\"gini = 0.092\\nsamples = 1410\\nvalue = [1342, 68]\"] ;\n",
      "6 -> 8 ;\n",
      "9 [label=\"count_url_category_2 <= 974.0\\ngini = 0.082\\nsamples = 3177\\nvalue = [3041, 136]\"] ;\n",
      "1 -> 9 ;\n",
      "10 [label=\"vol_app_5 <= 1520043456.0\\ngini = 0.079\\nsamples = 3135\\nvalue = [3006, 129]\"] ;\n",
      "9 -> 10 ;\n",
      "11 [label=\"gini = 0.074\\nsamples = 3008\\nvalue = [2892, 116]\"] ;\n",
      "10 -> 11 ;\n",
      "12 [label=\"gini = 0.184\\nsamples = 127\\nvalue = [114, 13]\"] ;\n",
      "10 -> 12 ;\n",
      "13 [label=\"lt <= 0.879\\ngini = 0.278\\nsamples = 42\\nvalue = [35, 7]\"] ;\n",
      "9 -> 13 ;\n",
      "14 [label=\"gini = 0.397\\nsamples = 22\\nvalue = [16, 6]\"] ;\n",
      "13 -> 14 ;\n",
      "15 [label=\"gini = 0.095\\nsamples = 20\\nvalue = [19, 1]\"] ;\n",
      "13 -> 15 ;\n",
      "16 [label=\"content_count_m2 <= 91.5\\ngini = 0.181\\nsamples = 6021\\nvalue = [5417, 604]\"] ;\n",
      "0 -> 16 [labeldistance=2.5, labelangle=-45, headlabel=\"False\"] ;\n",
      "17 [label=\"voice_onnet_out_day_work_dur_m3 <= 13530.0\\ngini = 0.162\\nsamples = 5055\\nvalue = [4605, 450]\"] ;\n",
      "16 -> 17 ;\n",
      "18 [label=\"block_count_m2 <= 1.271\\ngini = 0.19\\nsamples = 3478\\nvalue = [3109, 369]\"] ;\n",
      "17 -> 18 ;\n",
      "19 [label=\"gini = 0.171\\nsamples = 3016\\nvalue = [2732, 284]\"] ;\n",
      "18 -> 19 ;\n",
      "20 [label=\"gini = 0.3\\nsamples = 462\\nvalue = [377, 85]\"] ;\n",
      "18 -> 20 ;\n",
      "21 [label=\"balance_sum <= 0.017\\ngini = 0.097\\nsamples = 1577\\nvalue = [1496, 81]\"] ;\n",
      "17 -> 21 ;\n",
      "22 [label=\"gini = 0.423\\nsamples = 23\\nvalue = [16, 7]\"] ;\n",
      "21 -> 22 ;\n",
      "23 [label=\"gini = 0.091\\nsamples = 1554\\nvalue = [1480, 74]\"] ;\n",
      "21 -> 23 ;\n",
      "24 [label=\"voice_in_uniq_count_m2 <= 15.5\\ngini = 0.268\\nsamples = 966\\nvalue = [812, 154]\"] ;\n",
      "16 -> 24 ;\n",
      "25 [label=\"vol_app_7 <= 208113232.0\\ngini = 0.5\\nsamples = 59\\nvalue = [29, 30]\"] ;\n",
      "24 -> 25 ;\n",
      "26 [label=\"gini = 0.417\\nsamples = 27\\nvalue = [8, 19]\"] ;\n",
      "25 -> 26 ;\n",
      "27 [label=\"gini = 0.451\\nsamples = 32\\nvalue = [21, 11]\"] ;\n",
      "25 -> 27 ;\n",
      "28 [label=\"voice_onnet_out_night_work_cost_m1 <= 0.706\\ngini = 0.236\\nsamples = 907\\nvalue = [783, 124]\"] ;\n",
      "24 -> 28 ;\n",
      "29 [label=\"gini = 0.205\\nsamples = 768\\nvalue = [679, 89]\"] ;\n",
      "28 -> 29 ;\n",
      "30 [label=\"gini = 0.377\\nsamples = 139\\nvalue = [104, 35]\"] ;\n",
      "28 -> 30 ;\n",
      "}\n"
     ]
    }
   ],
   "source": [
    "tree = DecisionTreeClassifier(max_depth = 4, min_samples_split = 5, min_samples_leaf = 20, max_features = 19)\n",
    "tree.fit(X_train, y_train)\n",
    "\n",
    "export_graphviz(tree, out_file='tree.dot', feature_names=X.columns)\n",
    "print(open('tree.dot').read())"
   ],
   "metadata": {
    "collapsed": false,
    "pycharm": {
     "name": "#%%\n"
    }
   }
  },
  {
   "cell_type": "code",
   "execution_count": 70,
   "outputs": [
    {
     "name": "stdout",
     "output_type": "stream",
     "text": [
      "Feature ranking:\n",
      "1 short_out_calls_part_m2 0.16903129121320384\n",
      "2 sim_count 0.16150112426494123\n",
      "3 income_brnd_cont_m3 0.13125296757669472\n",
      "4 sms_roam_out_count_m1 0.10043536010157726\n",
      "5 sms_roam_out_count_m2 0.08874182209896092\n",
      "6 voice_onnet_out_dur_m3 0.071760223861239\n",
      "7 service_P_flag_m2 0.07135624780540603\n",
      "8 voice_onnet_out_day_work_cost_m1 0.04800107470468737\n",
      "9 vol_app_5 0.0418903829764721\n",
      "10 is_obl_center 0.03298037374359741\n"
     ]
    },
    {
     "data": {
      "text/plain": "<Figure size 1080x360 with 1 Axes>",
      "image/png": "[encoded data removed]"
     },
     "metadata": {},
     "output_type": "display_data"
    }
   ],
   "source": [
    "features = {'f' + str(i + 1):name for (i, name) in zip(range(len(df_ForestImputer.columns)), df_ForestImputer.columns)}\n",
    "importances = tree.feature_importances_\n",
    "\n",
    "indices = np.argsort(importances)[:: -1]\n",
    "num_to_plot = 10\n",
    "feature_indices = [ind + 1 for ind in indices[:num_to_plot]]\n",
    "\n",
    "print(\"Feature ranking:\")\n",
    "for f in range(num_to_plot):\n",
    "    print(f + 1, features[\"f\" + str(feature_indices[f])], importances[indices[f]])\n",
    "\n",
    "plt.figure(figsize=(15,5))\n",
    "plt.title(\"Feature importances\")\n",
    "bars = plt.bar(range(num_to_plot),\n",
    "               importances[indices[:num_to_plot]],\n",
    "               color=([str(i / float(num_to_plot +  1)) for i in range(num_to_plot)]),\n",
    "               align=\"center\")\n",
    "ticks = plt.xticks(range(num_to_plot),\n",
    "                   feature_indices)\n",
    "plt.xlim([-1, num_to_plot])\n",
    "plt.legend(bars, [u''.join(features[\"f\" + str(i)]) for i in feature_indices]);"
   ],
   "metadata": {
    "collapsed": false,
    "pycharm": {
     "name": "#%%\n"
    }
   }
  },
  {
   "cell_type": "code",
   "execution_count": 72,
   "outputs": [],
   "source": [
    "rf = RandomForestClassifier(random_state=42)\n",
    "rf.fit(X_train, y_train)\n",
    "y_pred = rf.predict(X_test)"
   ],
   "metadata": {
    "collapsed": false,
    "pycharm": {
     "name": "#%%\n"
    }
   }
  },
  {
   "cell_type": "code",
   "execution_count": 73,
   "outputs": [
    {
     "name": "stdout",
     "output_type": "stream",
     "text": [
      "ROC_AUC (MAIN) 0.5016014128352491\n",
      "Accuracy 0.928\n",
      "Recall 0.003472222222222222\n",
      "Precision 0.5\n"
     ]
    }
   ],
   "source": [
    "print(\"ROC_AUC (MAIN)\", roc_auc_score(y_test, y_pred))\n",
    "print(\"Accuracy\", accuracy_score(y_test, y_pred))\n",
    "print(\"Recall\", recall_score(y_test, y_pred))\n",
    "print(\"Precision\", precision_score(y_test, y_pred))"
   ],
   "metadata": {
    "collapsed": false,
    "pycharm": {
     "name": "#%%\n"
    }
   }
  },
  {
   "cell_type": "code",
   "execution_count": 6,
   "outputs": [],
   "source": [
    "kf = KFold(n_splits=5, shuffle=True, random_state=42)\n",
    "\n",
    "max_depth = np.arange(2, 6)\n",
    "min_samples_split = np.arange(10,21,2)\n",
    "min_samples_leaf = np.arange(2, 6)\n",
    "max_features = [\"sqrt\", \"log2\", \"None\"]\n",
    "n_estimators = np.arange(100, 450, 50)\n",
    "# rf_params={'max_depth': max_depth, 'min_samples_split': min_samples_split, 'min_samples_leaf': min_samples_leaf, 'max_features': max_features, 'n_estimators': n_estimators}"
   ],
   "metadata": {
    "collapsed": false,
    "pycharm": {
     "name": "#%%\n"
    }
   }
  },
  {
   "cell_type": "code",
   "execution_count": 18,
   "outputs": [
    {
     "data": {
      "text/plain": "GridSearchCV(cv=KFold(n_splits=5, random_state=42, shuffle=True),\n             estimator=RandomForestClassifier(random_state=42), n_jobs=-1,\n             param_grid={'max_features': ['sqrt', 'log2', 'None'],\n                         'n_estimators': array([100, 150, 200, 250, 300, 350, 400])},\n             scoring='roc_auc')"
     },
     "execution_count": 18,
     "metadata": {},
     "output_type": "execute_result"
    }
   ],
   "source": [
    "rf = RandomForestClassifier(random_state=42)\n",
    "rf_params={'n_estimators': n_estimators, 'max_features': max_features}\n",
    "\n",
    "rf_grid = GridSearchCV(rf, rf_params, cv=kf, scoring='roc_auc', n_jobs = -1)\n",
    "rf_grid.fit(X_train, y_train)"
   ],
   "metadata": {
    "collapsed": false,
    "pycharm": {
     "name": "#%%\n"
    }
   }
  },
  {
   "cell_type": "code",
   "execution_count": 19,
   "outputs": [
    {
     "name": "stdout",
     "output_type": "stream",
     "text": [
      "Найлучшее качество модели при {'max_features': 'sqrt', 'n_estimators': 400}\n",
      "Наилучшая оценка качества модели: 0.7838206973693527\n"
     ]
    }
   ],
   "source": [
    "print(\"Найлучшее качество модели при\", rf_grid.best_params_)\n",
    "print(\"Наилучшая оценка качества модели:\", rf_grid.best_score_)"
   ],
   "metadata": {
    "collapsed": false,
    "pycharm": {
     "name": "#%%\n"
    }
   }
  },
  {
   "cell_type": "code",
   "execution_count": 13,
   "outputs": [
    {
     "data": {
      "text/plain": "<Figure size 720x576 with 1 Axes>",
      "image/png": "[encoded data removed]"
     },
     "metadata": {},
     "output_type": "display_data"
    }
   ],
   "source": [
    "def plot_grid_search(cv_results, grid_param_1, grid_param_2, name_param_1, name_param_2):\n",
    "    # Get Test Scores Mean and std for each grid search\n",
    "    scores_mean = cv_results['mean_test_score']\n",
    "    scores_mean = np.array(scores_mean).reshape(len(grid_param_2),len(grid_param_1))\n",
    "\n",
    "    scores_sd = cv_results['std_test_score']\n",
    "    scores_sd = np.array(scores_sd).reshape(len(grid_param_2),len(grid_param_1))\n",
    "\n",
    "    # Plot Grid search scores\n",
    "    _, ax = plt.subplots(1,1)\n",
    "\n",
    "    # Param1 is the X-axis, Param 2 is represented as a different curve (color line)\n",
    "    for idx, val in enumerate(grid_param_2):\n",
    "        ax.plot(grid_param_1, scores_mean[idx,:], '-o', label= name_param_2 + ': ' + str(val))\n",
    "\n",
    "    ax.set_title(\"Grid Search Scores\", fontsize=20, fontweight='bold')\n",
    "    ax.set_xlabel(name_param_1, fontsize=16)\n",
    "    ax.set_ylabel('CV Average Score', fontsize=16)\n",
    "    ax.legend(loc=\"best\", fontsize=15)\n",
    "    ax.grid('on')\n",
    "\n",
    "# Calling Method\n",
    "plot_grid_search(rf_grid.cv_results_, n_estimators, max_features, 'N_estimators', 'Max Features')"
   ],
   "metadata": {
    "collapsed": false,
    "pycharm": {
     "name": "#%%\n"
    }
   }
  },
  {
   "cell_type": "code",
   "execution_count": 7,
   "outputs": [
    {
     "data": {
      "text/plain": "GridSearchCV(cv=KFold(n_splits=5, random_state=42, shuffle=True),\n             estimator=RandomForestClassifier(max_features='sqrt',\n                                              n_estimators=400,\n                                              random_state=42),\n             n_jobs=-1,\n             param_grid={'max_depth': array([2, 3, 4, 5]),\n                         'min_samples_leaf': array([2, 3, 4, 5]),\n                         'min_samples_split': array([10, 12, 14, 16, 18, 20])},\n             scoring='roc_auc')"
     },
     "execution_count": 7,
     "metadata": {},
     "output_type": "execute_result"
    }
   ],
   "source": [
    "rf = RandomForestClassifier(random_state=42, n_estimators = 400, max_features = \"sqrt\")\n",
    "rf_params={'max_depth': max_depth, 'min_samples_split': min_samples_split, 'min_samples_leaf': min_samples_leaf}\n",
    "\n",
    "rf_grid = GridSearchCV(rf, rf_params, cv=kf, scoring='roc_auc', n_jobs = -1)\n",
    "rf_grid.fit(X_train, y_train)"
   ],
   "metadata": {
    "collapsed": false,
    "pycharm": {
     "name": "#%%\n"
    }
   }
  },
  {
   "cell_type": "code",
   "execution_count": 8,
   "outputs": [
    {
     "name": "stdout",
     "output_type": "stream",
     "text": [
      "Найлучшее качество модели при {'max_depth': 5, 'min_samples_leaf': 5, 'min_samples_split': 10}\n",
      "Наилучшая оценка качества модели: 0.7837353372971758\n"
     ]
    }
   ],
   "source": [
    "print(\"Найлучшее качество модели при\", rf_grid.best_params_)\n",
    "print(\"Наилучшая оценка качества модели:\", rf_grid.best_score_)"
   ],
   "metadata": {
    "collapsed": false,
    "pycharm": {
     "name": "#%%\n"
    }
   }
  },
  {
   "cell_type": "code",
   "execution_count": 10,
   "outputs": [
    {
     "data": {
      "text/plain": "RandomForestClassifier(max_depth=5, max_features='sqrt', min_samples_leaf=5,\n                       min_samples_split=10, n_estimators=400, random_state=42)"
     },
     "execution_count": 10,
     "metadata": {},
     "output_type": "execute_result"
    }
   ],
   "source": [
    "rf_model = RandomForestClassifier(random_state=42, n_estimators = 400, max_features = \"sqrt\", max_depth= 5, min_samples_leaf= 5, min_samples_split=10)\n",
    "rf_model.fit(X_train, y_train)"
   ],
   "metadata": {
    "collapsed": false,
    "pycharm": {
     "name": "#%%\n"
    }
   }
  },
  {
   "cell_type": "code",
   "execution_count": 14,
   "outputs": [
    {
     "name": "stdout",
     "output_type": "stream",
     "text": [
      "digraph Tree {\n",
      "node [shape=box, fontname=\"helvetica\"] ;\n",
      "edge [fontname=\"helvetica\"] ;\n",
      "0 [label=\"all_cost_m1 <= 72.941\\ngini = 0.138\\nsamples = 10102\\nvalue = [14804, 1196]\"] ;\n",
      "1 [label=\"content_count_m2 <= 90.5\\ngini = 0.122\\nsamples = 8167\\nvalue = [12106, 845]\"] ;\n",
      "0 -> 1 [labeldistance=2.5, labelangle=45, headlabel=\"True\"] ;\n",
      "2 [label=\"voice_onnet_out_day_work_count_m3 <= 69.5\\ngini = 0.109\\nsamples = 7508\\nvalue = [11246, 688]\"] ;\n",
      "1 -> 2 ;\n",
      "3 [label=\"voice_onnet_out_count_m3 <= 158.0\\ngini = 0.127\\nsamples = 5375\\nvalue = [7947, 583]\"] ;\n",
      "2 -> 3 ;\n",
      "4 [label=\"voice_omo_out_night_rest_cost_m3 <= 0.392\\ngini = 0.126\\nsamples = 5365\\nvalue = [7940, 577]\"] ;\n",
      "3 -> 4 ;\n",
      "5 [label=\"gini = 0.116\\nsamples = 4703\\nvalue = [7024, 463]\"] ;\n",
      "4 -> 5 ;\n",
      "6 [label=\"gini = 0.197\\nsamples = 662\\nvalue = [916, 114]\"] ;\n",
      "4 -> 6 ;\n",
      "7 [label=\"content_count_m3 <= 42.5\\ngini = 0.497\\nsamples = 10\\nvalue = [7, 6]\"] ;\n",
      "3 -> 7 ;\n",
      "8 [label=\"gini = 0.278\\nsamples = 5\\nvalue = [5, 1]\"] ;\n",
      "7 -> 8 ;\n",
      "9 [label=\"gini = 0.408\\nsamples = 5\\nvalue = [2, 5]\"] ;\n",
      "7 -> 9 ;\n",
      "10 [label=\"voice_onnet_in_day_work_dur_m1 <= 2284.5\\ngini = 0.06\\nsamples = 2133\\nvalue = [3299, 105]\"] ;\n",
      "2 -> 10 ;\n",
      "11 [label=\"voice_onnet_in_day_rest_dur_m3 <= 3349.5\\ngini = 0.294\\nsamples = 54\\nvalue = [78, 17]\"] ;\n",
      "10 -> 11 ;\n",
      "12 [label=\"gini = 0.208\\nsamples = 48\\nvalue = [75, 10]\"] ;\n",
      "11 -> 12 ;\n",
      "13 [label=\"gini = 0.42\\nsamples = 6\\nvalue = [3, 7]\"] ;\n",
      "11 -> 13 ;\n",
      "14 [label=\"service_7_flag_m1 <= 3.5\\ngini = 0.052\\nsamples = 2079\\nvalue = [3221, 88]\"] ;\n",
      "10 -> 14 ;\n",
      "15 [label=\"gini = 0.05\\nsamples = 2073\\nvalue = [3216, 84]\"] ;\n",
      "14 -> 15 ;\n",
      "16 [label=\"gini = 0.494\\nsamples = 6\\nvalue = [5, 4]\"] ;\n",
      "14 -> 16 ;\n",
      "17 [label=\"voice_out_uniq_count_m1 <= 8.5\\ngini = 0.261\\nsamples = 659\\nvalue = [860, 157]\"] ;\n",
      "1 -> 17 ;\n",
      "18 [label=\"voice_onnet_out_night_work_count_m1 <= 3.5\\ngini = 0.421\\nsamples = 139\\nvalue = [151, 65]\"] ;\n",
      "17 -> 18 ;\n",
      "19 [label=\"count_act_type_7 <= 3.429\\ngini = 0.391\\nsamples = 129\\nvalue = [146, 53]\"] ;\n",
      "18 -> 19 ;\n",
      "20 [label=\"gini = 0.497\\nsamples = 37\\nvalue = [35, 30]\"] ;\n",
      "19 -> 20 ;\n",
      "21 [label=\"gini = 0.284\\nsamples = 92\\nvalue = [111, 23]\"] ;\n",
      "19 -> 21 ;\n",
      "22 [label=\"com_num_cost_m2 <= 0.646\\ngini = 0.415\\nsamples = 10\\nvalue = [5, 12]\"] ;\n",
      "18 -> 22 ;\n",
      "23 [label=\"gini = 0.18\\nsamples = 5\\nvalue = [1, 9]\"] ;\n",
      "22 -> 23 ;\n",
      "24 [label=\"gini = 0.49\\nsamples = 5\\nvalue = [4, 3]\"] ;\n",
      "22 -> 24 ;\n",
      "25 [label=\"pay_in_P2P_cost_m1 <= 8.0\\ngini = 0.203\\nsamples = 520\\nvalue = [709, 92]\"] ;\n",
      "17 -> 25 ;\n",
      "26 [label=\"content_cost_m2 <= 1.088\\ngini = 0.189\\nsamples = 505\\nvalue = [696, 82]\"] ;\n",
      "25 -> 26 ;\n",
      "27 [label=\"gini = 0.124\\nsamples = 378\\nvalue = [533, 38]\"] ;\n",
      "26 -> 27 ;\n",
      "28 [label=\"gini = 0.335\\nsamples = 127\\nvalue = [163, 44]\"] ;\n",
      "26 -> 28 ;\n",
      "29 [label=\"voice_omo_in_night_rest_dur_m3 <= 6.0\\ngini = 0.491\\nsamples = 15\\nvalue = [13, 10]\"] ;\n",
      "25 -> 29 ;\n",
      "30 [label=\"gini = 0.375\\nsamples = 7\\nvalue = [3, 9]\"] ;\n",
      "29 -> 30 ;\n",
      "31 [label=\"gini = 0.165\\nsamples = 8\\nvalue = [10, 1]\"] ;\n",
      "29 -> 31 ;\n",
      "32 [label=\"voice_onnet_out_night_work_cost_m3 <= 0.152\\ngini = 0.204\\nsamples = 1935\\nvalue = [2698, 351]\"] ;\n",
      "0 -> 32 [labeldistance=2.5, labelangle=-45, headlabel=\"False\"] ;\n",
      "33 [label=\"lt <= 0.772\\ngini = 0.171\\nsamples = 1593\\nvalue = [2261, 236]\"] ;\n",
      "32 -> 33 ;\n",
      "34 [label=\"data_type_1_m2 <= 932.145\\ngini = 0.298\\nsamples = 600\\nvalue = [779, 174]\"] ;\n",
      "33 -> 34 ;\n",
      "35 [label=\"income_brnd_cont_m3 <= 9.41\\ngini = 0.349\\nsamples = 301\\nvalue = [375, 109]\"] ;\n",
      "34 -> 35 ;\n",
      "36 [label=\"gini = 0.235\\nsamples = 168\\nvalue = [223, 35]\"] ;\n",
      "35 -> 36 ;\n",
      "37 [label=\"gini = 0.44\\nsamples = 133\\nvalue = [152, 74]\"] ;\n",
      "35 -> 37 ;\n",
      "38 [label=\"voice_global_night_rest_count_m3 <= 0.5\\ngini = 0.239\\nsamples = 299\\nvalue = [404, 65]\"] ;\n",
      "34 -> 38 ;\n",
      "39 [label=\"gini = 0.226\\nsamples = 290\\nvalue = [396, 59]\"] ;\n",
      "38 -> 39 ;\n",
      "40 [label=\"gini = 0.49\\nsamples = 9\\nvalue = [8, 6]\"] ;\n",
      "38 -> 40 ;\n",
      "41 [label=\"rr_act_type_8 <= 1.417\\ngini = 0.077\\nsamples = 993\\nvalue = [1482, 62]\"] ;\n",
      "33 -> 41 ;\n",
      "42 [label=\"data_type_2_m3 <= 36696.795\\ngini = 0.07\\nsamples = 981\\nvalue = [1470, 55]\"] ;\n",
      "41 -> 42 ;\n",
      "43 [label=\"gini = 0.064\\nsamples = 968\\nvalue = [1454, 50]\"] ;\n",
      "42 -> 43 ;\n",
      "44 [label=\"gini = 0.363\\nsamples = 13\\nvalue = [16, 5]\"] ;\n",
      "42 -> 44 ;\n",
      "45 [label=\"voice_omo_out_day_work_count_m2 <= 2.0\\ngini = 0.465\\nsamples = 12\\nvalue = [12, 7]\"] ;\n",
      "41 -> 45 ;\n",
      "46 [label=\"gini = 0.375\\nsamples = 5\\nvalue = [2, 6]\"] ;\n",
      "45 -> 46 ;\n",
      "47 [label=\"gini = 0.165\\nsamples = 7\\nvalue = [10, 1]\"] ;\n",
      "45 -> 47 ;\n",
      "48 [label=\"balance_sum <= 10.451\\ngini = 0.33\\nsamples = 342\\nvalue = [437, 115]\"] ;\n",
      "32 -> 48 ;\n",
      "49 [label=\"voice_onnet_out_night_work_count_m2 <= 44.0\\ngini = 0.385\\nsamples = 215\\nvalue = [256, 90]\"] ;\n",
      "48 -> 49 ;\n",
      "50 [label=\"voice_omo_in_night_work_dur_m3 <= 4.0\\ngini = 0.343\\nsamples = 173\\nvalue = [213, 60]\"] ;\n",
      "49 -> 50 ;\n",
      "51 [label=\"gini = 0.479\\nsamples = 43\\nvalue = [35, 23]\"] ;\n",
      "50 -> 51 ;\n",
      "52 [label=\"gini = 0.285\\nsamples = 130\\nvalue = [178, 37]\"] ;\n",
      "50 -> 52 ;\n",
      "53 [label=\"id <= 4897936640.0\\ngini = 0.484\\nsamples = 42\\nvalue = [43, 30]\"] ;\n",
      "49 -> 53 ;\n",
      "54 [label=\"gini = 0.32\\nsamples = 31\\nvalue = [40, 10]\"] ;\n",
      "53 -> 54 ;\n",
      "55 [label=\"gini = 0.227\\nsamples = 11\\nvalue = [3, 20]\"] ;\n",
      "53 -> 55 ;\n",
      "56 [label=\"voice_onnet_in_day_work_count_m1 <= 67.5\\ngini = 0.213\\nsamples = 127\\nvalue = [181, 25]\"] ;\n",
      "48 -> 56 ;\n",
      "57 [label=\"short_out_calls_part_m3 <= 0.125\\ngini = 0.367\\nsamples = 63\\nvalue = [75, 24]\"] ;\n",
      "56 -> 57 ;\n",
      "58 [label=\"gini = 0.228\\nsamples = 56\\nvalue = [73, 11]\"] ;\n",
      "57 -> 58 ;\n",
      "59 [label=\"gini = 0.231\\nsamples = 7\\nvalue = [2, 13]\"] ;\n",
      "57 -> 59 ;\n",
      "60 [label=\"voice_omo_out_night_rest_count_m2 <= 6.971\\ngini = 0.019\\nsamples = 64\\nvalue = [106, 1]\"] ;\n",
      "56 -> 60 ;\n",
      "61 [label=\"gini = 0.0\\nsamples = 58\\nvalue = [99, 0]\"] ;\n",
      "60 -> 61 ;\n",
      "62 [label=\"gini = 0.219\\nsamples = 6\\nvalue = [7, 1]\"] ;\n",
      "60 -> 62 ;\n",
      "}\n"
     ]
    }
   ],
   "source": [
    "estimate = rf_model.estimators_[3]\n",
    "export_graphviz(estimate, out_file='tree_from_rf.dot', feature_names = X.columns)\n",
    "\n",
    "export_graphviz(estimate, out_file='tree_from_rf.dot', feature_names=X.columns)\n",
    "print(open('tree_from_rf.dot').read())"
   ],
   "metadata": {
    "collapsed": false,
    "pycharm": {
     "name": "#%%\n"
    }
   }
  },
  {
   "cell_type": "code",
   "execution_count": 17,
   "outputs": [
    {
     "name": "stdout",
     "output_type": "stream",
     "text": [
      "Feature ranking:\n",
      "1 tp_flag 0.11294413430654428\n",
      "2 sms_roam_in_count_m2 0.08284135323626318\n",
      "3 id 0.06673058667673569\n",
      "4 short_in_calls_part_m3 0.06509054708070434\n",
      "5 block_count_m1 0.05800288371234681\n",
      "6 short_out_calls_part_m1 0.05565188412685076\n",
      "7 voice_onnet_out_day_rest_cost_m3 0.05533512812235287\n",
      "8 service_8_count_m3 0.04186293393336145\n",
      "9 count_act_type_6 0.034754874666096953\n",
      "10 voice_onnet_in_count_m3 0.03232966574171372\n"
     ]
    }
   ],
   "source": [
    "features = {'f' + str(i + 1):name for (i, name) in zip(range(len(df_ForestImputer.columns)), df_ForestImputer.columns)}\n",
    "importances = estimate.feature_importances_\n",
    "\n",
    "indices = np.argsort(importances)[:: -1]\n",
    "num_to_plot = 10\n",
    "feature_indices = [ind + 1 for ind in indices[:num_to_plot]]\n",
    "\n",
    "print(\"Feature ranking:\")\n",
    "for f in range(num_to_plot):\n",
    "    print(f + 1, features[\"f\" + str(feature_indices[f])], importances[indices[f]])"
   ],
   "metadata": {
    "collapsed": false,
    "pycharm": {
     "name": "#%%\n"
    }
   }
  },
  {
   "cell_type": "code",
   "execution_count": 18,
   "outputs": [
    {
     "data": {
      "text/plain": "<Figure size 1080x360 with 1 Axes>",
      "image/png": "[encoded data removed]"
     },
     "metadata": {},
     "output_type": "display_data"
    }
   ],
   "source": [
    "plt.figure(figsize=(15,5))\n",
    "plt.title(\"Feature importances\")\n",
    "bars = plt.bar(range(num_to_plot),\n",
    "               importances[indices[:num_to_plot]],\n",
    "               color=([str(i / float(num_to_plot +  1)) for i in range(num_to_plot)]),\n",
    "               align=\"center\")\n",
    "ticks = plt.xticks(range(num_to_plot),\n",
    "                   feature_indices)\n",
    "plt.xlim([-1, num_to_plot])\n",
    "plt.legend(bars, [u''.join(features[\"f\" + str(i)]) for i in feature_indices]);"
   ],
   "metadata": {
    "collapsed": false,
    "pycharm": {
     "name": "#%%\n"
    }
   }
  },
  {
   "cell_type": "code",
   "execution_count": null,
   "outputs": [],
   "source": [],
   "metadata": {
    "collapsed": false,
    "pycharm": {
     "name": "#%%\n"
    }
   }
  }
 ],
 "metadata": {
  "kernelspec": {
   "display_name": "Python 3",
   "language": "python",
   "name": "python3"
  },
  "language_info": {
   "codemirror_mode": {
    "name": "ipython",
    "version": 2
   },
   "file_extension": ".py",
   "mimetype": "text/x-python",
   "name": "python",
   "nbconvert_exporter": "python",
   "pygments_lexer": "ipython2",
   "version": "2.7.6"
  }
 },
 "nbformat": 4,
 "nbformat_minor": 0
}