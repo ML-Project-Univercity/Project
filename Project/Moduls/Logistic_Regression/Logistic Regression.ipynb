{
 "cells": [
  {
   "cell_type": "code",
   "execution_count": 1,
   "id": "94bbd8ec",
   "metadata": {},
   "outputs": [],
   "source": [
    "import warnings\n",
    "warnings.simplefilter(action='ignore')\n",
    "\n",
    "import matplotlib.pyplot as plt\n",
    "import pandas as pd\n",
    "from sklearn.feature_selection import SelectKBest\n",
    "from sklearn.feature_selection import f_classif\n",
    "import numpy as np"
   ]
  },
  {
   "cell_type": "code",
   "execution_count": 2,
   "id": "22e6cd06",
   "metadata": {},
   "outputs": [],
   "source": [
    "df = pd.read_csv('Train_music_ForestImputer.csv')"
   ]
  },
  {
   "cell_type": "code",
   "execution_count": 3,
   "id": "621fb93a",
   "metadata": {},
   "outputs": [],
   "source": [
    "X = df.drop(['target', 'id'], axis=1)\n",
    "y = df['target']"
   ]
  },
  {
   "cell_type": "code",
   "execution_count": 4,
   "id": "181a2531",
   "metadata": {},
   "outputs": [],
   "source": [
    "selector_50 = SelectKBest(f_classif, k=50)\n",
    "selector_100 = SelectKBest(f_classif, k=100)\n",
    "selector_50.fit(X, y)\n",
    "selector_100.fit(X, y)\n",
    "# Get columns to keep and create new dataframe with those only\n",
    "cols_50 = selector_50.get_support(indices=True)\n",
    "cols_100 = selector_100.get_support(indices=True)\n",
    "df_new_50 = X.iloc[:,cols_50]\n",
    "df_new_100 = X.iloc[:,cols_100]"
   ]
  },
  {
   "cell_type": "code",
   "execution_count": 5,
   "id": "5b557608",
   "metadata": {},
   "outputs": [],
   "source": [
    "df_new_50['target'] = y\n",
    "df_new_100['target'] = y"
   ]
  },
  {
   "cell_type": "code",
   "execution_count": 6,
   "id": "889c5cd3",
   "metadata": {},
   "outputs": [],
   "source": [
    "X_50, y_50 = df_new_50.drop(['target'], axis=1), df_new_50['target']\n",
    "X_100, y_100 = df_new_100.drop(['target'], axis=1), df_new_100['target']"
   ]
  },
  {
   "cell_type": "markdown",
   "id": "93c29ab2",
   "metadata": {},
   "source": [
    "# Logistic Regression"
   ]
  },
  {
   "cell_type": "code",
   "execution_count": 7,
   "id": "94ef091b",
   "metadata": {},
   "outputs": [],
   "source": [
    "from sklearn.preprocessing import StandardScaler\n",
    "scaler = StandardScaler()\n",
    "X_sc = scaler.fit_transform(X_100)"
   ]
  },
  {
   "cell_type": "code",
   "execution_count": 8,
   "id": "cba092ca",
   "metadata": {},
   "outputs": [],
   "source": [
    "from sklearn.model_selection import train_test_split\n",
    "from sklearn.metrics import confusion_matrix, ConfusionMatrixDisplay\n",
    "X_train, X_valid, y_train, y_valid = train_test_split(X_sc, y_100, test_size=0.25, random_state=42)"
   ]
  },
  {
   "cell_type": "code",
   "execution_count": 9,
   "id": "8da56121",
   "metadata": {},
   "outputs": [
    {
     "name": "stdout",
     "output_type": "stream",
     "text": [
      "0.9276\n"
     ]
    }
   ],
   "source": [
    "from sklearn.linear_model import LogisticRegression\n",
    "log_reg = LogisticRegression()\n",
    "log_reg.fit(X_train, y_train)\n",
    "y_pred = log_reg.predict(X_valid)\n",
    "\n",
    "from sklearn.metrics import accuracy_score\n",
    "print(accuracy_score(y_valid, y_pred))"
   ]
  },
  {
   "cell_type": "code",
   "execution_count": 10,
   "id": "d7a84010",
   "metadata": {},
   "outputs": [
    {
     "name": "stdout",
     "output_type": "stream",
     "text": [
      "[[4626   23]\n",
      " [ 339   12]]\n"
     ]
    }
   ],
   "source": [
    "from sklearn.metrics import confusion_matrix, ConfusionMatrixDisplay\n",
    "cm = confusion_matrix(y_valid, y_pred)\n",
    "print(cm)"
   ]
  },
  {
   "cell_type": "code",
   "execution_count": 11,
   "id": "222dc07e",
   "metadata": {},
   "outputs": [
    {
     "data": {
      "image/png": "[encoded data removed]",
      "text/plain": [
       "<Figure size 432x288 with 2 Axes>"
      ]
     },
     "metadata": {
      "needs_background": "light"
     },
     "output_type": "display_data"
    }
   ],
   "source": [
    "disp = ConfusionMatrixDisplay(confusion_matrix=cm)\n",
    "disp.plot()\n",
    "plt.show()"
   ]
  },
  {
   "cell_type": "code",
   "execution_count": 12,
   "id": "8f34ebca",
   "metadata": {},
   "outputs": [
    {
     "name": "stdout",
     "output_type": "stream",
     "text": [
      "Precision: 0.34285714285714286\n",
      "Recall: 0.03418803418803419\n",
      "F1 score: 0.06217616580310882\n",
      "ROC AUC score: 0.5146203668466521\n"
     ]
    }
   ],
   "source": [
    "from sklearn.metrics import precision_score, recall_score, f1_score, roc_auc_score\n",
    "print('Precision:', precision_score(y_valid, y_pred))\n",
    "print('Recall:', recall_score(y_valid, y_pred))\n",
    "print('F1 score:', f1_score(y_valid, y_pred))\n",
    "print('ROC AUC score:', roc_auc_score(y_valid, y_pred))"
   ]
  },
  {
   "cell_type": "markdown",
   "id": "69d29380",
   "metadata": {},
   "source": [
    "# Настройка гиперпараметров логистической регрессии по f1_score"
   ]
  },
  {
   "cell_type": "markdown",
   "id": "4c9e853f",
   "metadata": {},
   "source": [
    "## Регуляризация L2"
   ]
  },
  {
   "cell_type": "code",
   "execution_count": 37,
   "id": "c50e2857",
   "metadata": {},
   "outputs": [
    {
     "data": {
      "text/plain": [
       "GridSearchCV(cv=5, estimator=LogisticRegression(solver='liblinear'),\n",
       "             param_grid={'C': array([1.00000000e-03, 2.06913808e-03, 4.28133240e-03, 8.85866790e-03,\n",
       "       1.83298071e-02, 3.79269019e-02, 7.84759970e-02, 1.62377674e-01,\n",
       "       3.35981829e-01, 6.95192796e-01, 1.43844989e+00, 2.97635144e+00,\n",
       "       6.15848211e+00, 1.27427499e+01, 2.63665090e+01, 5.45559478e+01,\n",
       "       1.12883789e+02, 2.33572147e+02, 4.83293024e+02, 1.00000000e+03])},\n",
       "             scoring='f1')"
      ]
     },
     "execution_count": 37,
     "metadata": {},
     "output_type": "execute_result"
    }
   ],
   "source": [
    "from sklearn.model_selection import GridSearchCV\n",
    "\n",
    "log_reg = LogisticRegression(solver='liblinear')\n",
    "\n",
    "C_values = {'C': np.logspace(-3, 3, 20)}\n",
    "logreg_grid = GridSearchCV(log_reg, C_values, cv=5, scoring='f1')\n",
    "logreg_grid.fit(X_train, y_train)"
   ]
  },
  {
   "cell_type": "code",
   "execution_count": 38,
   "id": "393cc519",
   "metadata": {},
   "outputs": [
    {
     "name": "stdout",
     "output_type": "stream",
     "text": [
      "{'C': 26.366508987303554}\n",
      "0.07803019775330772\n"
     ]
    }
   ],
   "source": [
    "print(logreg_grid.best_params_)\n",
    "print(logreg_grid.best_score_)"
   ]
  },
  {
   "cell_type": "code",
   "execution_count": 39,
   "id": "baef9673",
   "metadata": {},
   "outputs": [
    {
     "data": {
      "image/png": "[encoded data removed]",
      "text/plain": [
       "<Figure size 432x288 with 1 Axes>"
      ]
     },
     "metadata": {
      "needs_background": "light"
     },
     "output_type": "display_data"
    }
   ],
   "source": [
    "results_df = pd.DataFrame(logreg_grid.cv_results_)\n",
    "plt.plot(results_df['param_C'], results_df['mean_test_score'])\n",
    "\n",
    "# Подписываем оси и график\n",
    "plt.xlabel('C')\n",
    "plt.ylabel('Test accuracy')\n",
    "plt.title('Validation curve')\n",
    "plt.show()"
   ]
  },
  {
   "cell_type": "code",
   "execution_count": 40,
   "id": "737377fd",
   "metadata": {},
   "outputs": [
    {
     "name": "stdout",
     "output_type": "stream",
     "text": [
      "[[4626   23]\n",
      " [ 339   12]]\n",
      "F1 score valid: 0.06217616580310882\n"
     ]
    }
   ],
   "source": [
    "y_pred = logreg_grid.best_estimator_.predict(X_valid)\n",
    "print(confusion_matrix(y_valid, y_pred))\n",
    "print('F1 score valid:', f1_score(y_valid, y_pred))"
   ]
  },
  {
   "cell_type": "markdown",
   "id": "053319b0",
   "metadata": {},
   "source": [
    "## Регуляризация L1"
   ]
  },
  {
   "cell_type": "code",
   "execution_count": 41,
   "id": "1e111a3a",
   "metadata": {},
   "outputs": [
    {
     "data": {
      "text/plain": [
       "GridSearchCV(cv=5,\n",
       "             estimator=LogisticRegression(penalty='l1', solver='liblinear'),\n",
       "             param_grid={'C': array([1.00000000e-03, 2.06913808e-03, 4.28133240e-03, 8.85866790e-03,\n",
       "       1.83298071e-02, 3.79269019e-02, 7.84759970e-02, 1.62377674e-01,\n",
       "       3.35981829e-01, 6.95192796e-01, 1.43844989e+00, 2.97635144e+00,\n",
       "       6.15848211e+00, 1.27427499e+01, 2.63665090e+01, 5.45559478e+01,\n",
       "       1.12883789e+02, 2.33572147e+02, 4.83293024e+02, 1.00000000e+03])},\n",
       "             scoring='f1')"
      ]
     },
     "execution_count": 41,
     "metadata": {},
     "output_type": "execute_result"
    }
   ],
   "source": [
    "log_reg = LogisticRegression(solver='liblinear', penalty='l1')\n",
    "\n",
    "C_values = {'C': np.logspace(-3, 3, 20)}\n",
    "logreg_grid = GridSearchCV(log_reg, C_values, cv=5, scoring='f1')\n",
    "logreg_grid.fit(X_train, y_train)"
   ]
  },
  {
   "cell_type": "code",
   "execution_count": 42,
   "id": "dd8bfb63",
   "metadata": {},
   "outputs": [
    {
     "name": "stdout",
     "output_type": "stream",
     "text": [
      "{'C': 54.555947811685144}\n",
      "0.07803019775330772\n"
     ]
    }
   ],
   "source": [
    "print(logreg_grid.best_params_)\n",
    "print(logreg_grid.best_score_)"
   ]
  },
  {
   "cell_type": "code",
   "execution_count": 43,
   "id": "5ada1c02",
   "metadata": {},
   "outputs": [
    {
     "data": {
      "image/png": "[encoded data removed]",
      "text/plain": [
       "<Figure size 432x288 with 1 Axes>"
      ]
     },
     "metadata": {
      "needs_background": "light"
     },
     "output_type": "display_data"
    }
   ],
   "source": [
    "results_df = pd.DataFrame(logreg_grid.cv_results_)\n",
    "plt.plot(results_df['param_C'], results_df['mean_test_score'])\n",
    "\n",
    "# Подписываем оси и график\n",
    "plt.xlabel('C')\n",
    "plt.ylabel('Test accuracy')\n",
    "plt.title('Validation curve')\n",
    "plt.show()"
   ]
  },
  {
   "cell_type": "code",
   "execution_count": 44,
   "id": "b9092d1a",
   "metadata": {},
   "outputs": [
    {
     "name": "stdout",
     "output_type": "stream",
     "text": [
      "[[4626   23]\n",
      " [ 339   12]]\n",
      "F1 score valid: 0.06217616580310882\n"
     ]
    }
   ],
   "source": [
    "y_pred = logreg_grid.best_estimator_.predict(X_valid)\n",
    "print(confusion_matrix(y_valid, y_pred))\n",
    "print('F1 score valid:', f1_score(y_valid, y_pred))"
   ]
  }
 ],
 "metadata": {
  "kernelspec": {
   "display_name": "Python 3 (ipykernel)",
   "language": "python",
   "name": "python3"
  },
  "language_info": {
   "codemirror_mode": {
    "name": "ipython",
    "version": 3
   },
   "file_extension": ".py",
   "mimetype": "text/x-python",
   "name": "python",
   "nbconvert_exporter": "python",
   "pygments_lexer": "ipython3",
   "version": "3.8.10"
  }
 },
 "nbformat": 4,
 "nbformat_minor": 5
}
