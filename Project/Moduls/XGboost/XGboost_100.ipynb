{
 "cells": [
  {
   "cell_type": "code",
   "execution_count": 1,
   "metadata": {
    "collapsed": true
   },
   "outputs": [],
   "source": [
    "import warnings\n",
    "\n",
    "import numpy as np\n",
    "from imblearn.pipeline import Pipeline\n",
    "\n",
    "warnings.simplefilter(action='ignore')\n",
    "\n",
    "import pandas as pd\n",
    "import seaborn as sns\n",
    "\n",
    "from sklearn.preprocessing import StandardScaler\n",
    "from imblearn.over_sampling import RandomOverSampler\n",
    "from imblearn.under_sampling import RandomUnderSampler\n",
    "from xgboost import XGBClassifier\n",
    "from sklearn.model_selection import train_test_split, KFold, GridSearchCV, cross_val_score\n",
    "from sklearn.feature_selection import SelectKBest, f_classif\n",
    "from sklearn.metrics import accuracy_score, roc_auc_score, f1_score, recall_score, precision_score, confusion_matrix\n",
    "\n",
    "sns.set(rc={'figure.figsize':(10, 8)})"
   ]
  },
  {
   "cell_type": "code",
   "execution_count": 2,
   "outputs": [
    {
     "data": {
      "text/plain": "                 id  target  device_type  manufacturer_category  os_category  \\\n0      4.810120e+10     0.0          7.0                  592.0          3.0   \n1      4.810425e+10     0.0          7.0                 1057.0          3.0   \n2      4.811813e+09     0.0          7.0                 1057.0          3.0   \n3      4.810105e+10     0.0          7.0                  745.0          3.0   \n4      4.830019e+09     0.0          7.0                 1057.0          3.0   \n...             ...     ...          ...                    ...          ...   \n19995  4.894477e+09     1.0          7.0                 1057.0          3.0   \n19996  4.875985e+09     0.0          7.0                  592.0          3.0   \n19997  4.811248e+09     0.0          7.0                  728.0          3.0   \n19998  4.896164e+09     0.0          7.0                 1057.0          3.0   \n19999  4.852292e+09     0.0          7.0                 1228.0          3.0   \n\n       sim_count  tp_flag        lt  block_flag  days_exp  ...  \\\n0            2.0      0.0  0.632435         0.0     108.0  ...   \n1            2.0      0.0  0.540345         0.0     330.0  ...   \n2            2.0      0.0  0.951582         0.0     344.0  ...   \n3            2.0      0.0  0.659047         0.0     361.0  ...   \n4            2.0      0.0  0.926471         0.0     199.0  ...   \n...          ...      ...       ...         ...       ...  ...   \n19995        2.0      0.0  0.707827         0.0     221.0  ...   \n19996        2.0      0.0  0.824135         0.0     355.0  ...   \n19997        1.0      0.0  0.924764         0.0     208.0  ...   \n19998        2.0      0.0  0.716732         0.0     324.0  ...   \n19999        1.0      0.0  0.880862         0.0     343.0  ...   \n\n       service_5_count_m3  service_6_count_m3  service_7_cost_m3  \\\n0                     0.0                 0.0                0.0   \n1                     0.0                 0.0                0.0   \n2                     0.0                 0.0                0.0   \n3                     0.0                 0.0                0.0   \n4                     0.0                 0.0                0.0   \n...                   ...                 ...                ...   \n19995                 0.0                 0.0                0.0   \n19996                 0.0                 0.0                0.0   \n19997                 0.0                 0.0                0.0   \n19998                 0.0                 0.0                0.0   \n19999                92.0                 0.0                0.0   \n\n       service_7_flag_m3  service_8_count_m3  income_brnd_cont_m3  \\\n0                    0.0                 0.0            19.971334   \n1                    0.0                 0.0            10.894140   \n2                    0.0                 0.0             9.894929   \n3                    0.0                 0.0             8.183337   \n4                    0.0                 0.0             2.217369   \n...                  ...                 ...                  ...   \n19995                0.0                 0.0            11.649066   \n19996                0.0                 0.0             2.159549   \n19997                0.0                 0.0            10.999666   \n19998                0.0                 0.0            14.756591   \n19999                0.0                 0.0             2.745100   \n\n       data_type_1_m3  data_type_2_m3  data_type_3_m3  service_9_flag_m3  \n0          127.895751      716.420311      114.566613                1.0  \n1          234.292876       80.144736       14.630618                1.0  \n2            0.018959        0.000977       57.100249                1.0  \n3          189.579215      118.776836       53.537855                1.0  \n4          534.214973     1989.913944       29.685412                1.0  \n...               ...             ...             ...                ...  \n19995      522.172754     2286.497442      452.738112                1.0  \n19996      857.216847     5979.779220      265.482364                1.0  \n19997      196.408633       40.263622        0.071870                1.0  \n19998      274.917012       28.008975       10.813313                1.0  \n19999     4236.638531     5695.405960      109.627658                1.0  \n\n[20000 rows x 461 columns]",
      "text/html": "<div>\n<style scoped>\n    .dataframe tbody tr th:only-of-type {\n        vertical-align: middle;\n    }\n\n    .dataframe tbody tr th {\n        vertical-align: top;\n    }\n\n    .dataframe thead th {\n        text-align: right;\n    }\n</style>\n<table border=\"1\" class=\"dataframe\">\n  <thead>\n    <tr style=\"text-align: right;\">\n      <th></th>\n      <th>id</th>\n      <th>target</th>\n      <th>device_type</th>\n      <th>manufacturer_category</th>\n      <th>os_category</th>\n      <th>sim_count</th>\n      <th>tp_flag</th>\n      <th>lt</th>\n      <th>block_flag</th>\n      <th>days_exp</th>\n      <th>...</th>\n      <th>service_5_count_m3</th>\n      <th>service_6_count_m3</th>\n      <th>service_7_cost_m3</th>\n      <th>service_7_flag_m3</th>\n      <th>service_8_count_m3</th>\n      <th>income_brnd_cont_m3</th>\n      <th>data_type_1_m3</th>\n      <th>data_type_2_m3</th>\n      <th>data_type_3_m3</th>\n      <th>service_9_flag_m3</th>\n    </tr>\n  </thead>\n  <tbody>\n    <tr>\n      <th>0</th>\n      <td>4.810120e+10</td>\n      <td>0.0</td>\n      <td>7.0</td>\n      <td>592.0</td>\n      <td>3.0</td>\n      <td>2.0</td>\n      <td>0.0</td>\n      <td>0.632435</td>\n      <td>0.0</td>\n      <td>108.0</td>\n      <td>...</td>\n      <td>0.0</td>\n      <td>0.0</td>\n      <td>0.0</td>\n      <td>0.0</td>\n      <td>0.0</td>\n      <td>19.971334</td>\n      <td>127.895751</td>\n      <td>716.420311</td>\n      <td>114.566613</td>\n      <td>1.0</td>\n    </tr>\n    <tr>\n      <th>1</th>\n      <td>4.810425e+10</td>\n      <td>0.0</td>\n      <td>7.0</td>\n      <td>1057.0</td>\n      <td>3.0</td>\n      <td>2.0</td>\n      <td>0.0</td>\n      <td>0.540345</td>\n      <td>0.0</td>\n      <td>330.0</td>\n      <td>...</td>\n      <td>0.0</td>\n      <td>0.0</td>\n      <td>0.0</td>\n      <td>0.0</td>\n      <td>0.0</td>\n      <td>10.894140</td>\n      <td>234.292876</td>\n      <td>80.144736</td>\n      <td>14.630618</td>\n      <td>1.0</td>\n    </tr>\n    <tr>\n      <th>2</th>\n      <td>4.811813e+09</td>\n      <td>0.0</td>\n      <td>7.0</td>\n      <td>1057.0</td>\n      <td>3.0</td>\n      <td>2.0</td>\n      <td>0.0</td>\n      <td>0.951582</td>\n      <td>0.0</td>\n      <td>344.0</td>\n      <td>...</td>\n      <td>0.0</td>\n      <td>0.0</td>\n      <td>0.0</td>\n      <td>0.0</td>\n      <td>0.0</td>\n      <td>9.894929</td>\n      <td>0.018959</td>\n      <td>0.000977</td>\n      <td>57.100249</td>\n      <td>1.0</td>\n    </tr>\n    <tr>\n      <th>3</th>\n      <td>4.810105e+10</td>\n      <td>0.0</td>\n      <td>7.0</td>\n      <td>745.0</td>\n      <td>3.0</td>\n      <td>2.0</td>\n      <td>0.0</td>\n      <td>0.659047</td>\n      <td>0.0</td>\n      <td>361.0</td>\n      <td>...</td>\n      <td>0.0</td>\n      <td>0.0</td>\n      <td>0.0</td>\n      <td>0.0</td>\n      <td>0.0</td>\n      <td>8.183337</td>\n      <td>189.579215</td>\n      <td>118.776836</td>\n      <td>53.537855</td>\n      <td>1.0</td>\n    </tr>\n    <tr>\n      <th>4</th>\n      <td>4.830019e+09</td>\n      <td>0.0</td>\n      <td>7.0</td>\n      <td>1057.0</td>\n      <td>3.0</td>\n      <td>2.0</td>\n      <td>0.0</td>\n      <td>0.926471</td>\n      <td>0.0</td>\n      <td>199.0</td>\n      <td>...</td>\n      <td>0.0</td>\n      <td>0.0</td>\n      <td>0.0</td>\n      <td>0.0</td>\n      <td>0.0</td>\n      <td>2.217369</td>\n      <td>534.214973</td>\n      <td>1989.913944</td>\n      <td>29.685412</td>\n      <td>1.0</td>\n    </tr>\n    <tr>\n      <th>...</th>\n      <td>...</td>\n      <td>...</td>\n      <td>...</td>\n      <td>...</td>\n      <td>...</td>\n      <td>...</td>\n      <td>...</td>\n      <td>...</td>\n      <td>...</td>\n      <td>...</td>\n      <td>...</td>\n      <td>...</td>\n      <td>...</td>\n      <td>...</td>\n      <td>...</td>\n      <td>...</td>\n      <td>...</td>\n      <td>...</td>\n      <td>...</td>\n      <td>...</td>\n      <td>...</td>\n    </tr>\n    <tr>\n      <th>19995</th>\n      <td>4.894477e+09</td>\n      <td>1.0</td>\n      <td>7.0</td>\n      <td>1057.0</td>\n      <td>3.0</td>\n      <td>2.0</td>\n      <td>0.0</td>\n      <td>0.707827</td>\n      <td>0.0</td>\n      <td>221.0</td>\n      <td>...</td>\n      <td>0.0</td>\n      <td>0.0</td>\n      <td>0.0</td>\n      <td>0.0</td>\n      <td>0.0</td>\n      <td>11.649066</td>\n      <td>522.172754</td>\n      <td>2286.497442</td>\n      <td>452.738112</td>\n      <td>1.0</td>\n    </tr>\n    <tr>\n      <th>19996</th>\n      <td>4.875985e+09</td>\n      <td>0.0</td>\n      <td>7.0</td>\n      <td>592.0</td>\n      <td>3.0</td>\n      <td>2.0</td>\n      <td>0.0</td>\n      <td>0.824135</td>\n      <td>0.0</td>\n      <td>355.0</td>\n      <td>...</td>\n      <td>0.0</td>\n      <td>0.0</td>\n      <td>0.0</td>\n      <td>0.0</td>\n      <td>0.0</td>\n      <td>2.159549</td>\n      <td>857.216847</td>\n      <td>5979.779220</td>\n      <td>265.482364</td>\n      <td>1.0</td>\n    </tr>\n    <tr>\n      <th>19997</th>\n      <td>4.811248e+09</td>\n      <td>0.0</td>\n      <td>7.0</td>\n      <td>728.0</td>\n      <td>3.0</td>\n      <td>1.0</td>\n      <td>0.0</td>\n      <td>0.924764</td>\n      <td>0.0</td>\n      <td>208.0</td>\n      <td>...</td>\n      <td>0.0</td>\n      <td>0.0</td>\n      <td>0.0</td>\n      <td>0.0</td>\n      <td>0.0</td>\n      <td>10.999666</td>\n      <td>196.408633</td>\n      <td>40.263622</td>\n      <td>0.071870</td>\n      <td>1.0</td>\n    </tr>\n    <tr>\n      <th>19998</th>\n      <td>4.896164e+09</td>\n      <td>0.0</td>\n      <td>7.0</td>\n      <td>1057.0</td>\n      <td>3.0</td>\n      <td>2.0</td>\n      <td>0.0</td>\n      <td>0.716732</td>\n      <td>0.0</td>\n      <td>324.0</td>\n      <td>...</td>\n      <td>0.0</td>\n      <td>0.0</td>\n      <td>0.0</td>\n      <td>0.0</td>\n      <td>0.0</td>\n      <td>14.756591</td>\n      <td>274.917012</td>\n      <td>28.008975</td>\n      <td>10.813313</td>\n      <td>1.0</td>\n    </tr>\n    <tr>\n      <th>19999</th>\n      <td>4.852292e+09</td>\n      <td>0.0</td>\n      <td>7.0</td>\n      <td>1228.0</td>\n      <td>3.0</td>\n      <td>1.0</td>\n      <td>0.0</td>\n      <td>0.880862</td>\n      <td>0.0</td>\n      <td>343.0</td>\n      <td>...</td>\n      <td>92.0</td>\n      <td>0.0</td>\n      <td>0.0</td>\n      <td>0.0</td>\n      <td>0.0</td>\n      <td>2.745100</td>\n      <td>4236.638531</td>\n      <td>5695.405960</td>\n      <td>109.627658</td>\n      <td>1.0</td>\n    </tr>\n  </tbody>\n</table>\n<p>20000 rows × 461 columns</p>\n</div>"
     },
     "execution_count": 2,
     "metadata": {},
     "output_type": "execute_result"
    }
   ],
   "source": [
    "df_ForestImputer = pd.read_csv('../../Train_music_ForestImputer.csv')\n",
    "df_ForestImputer"
   ],
   "metadata": {
    "collapsed": false,
    "pycharm": {
     "name": "#%%\n"
    }
   }
  },
  {
   "cell_type": "code",
   "execution_count": 3,
   "outputs": [],
   "source": [
    "X = df_ForestImputer.drop(['target'], axis=1)\n",
    "y = df_ForestImputer.target"
   ],
   "metadata": {
    "collapsed": false,
    "pycharm": {
     "name": "#%%\n"
    }
   }
  },
  {
   "cell_type": "code",
   "execution_count": 4,
   "outputs": [
    {
     "data": {
      "text/plain": "       device_type  manufacturer_category  os_category  sim_count  tp_flag  \\\n0              7.0                  592.0          3.0        2.0      0.0   \n1              7.0                 1057.0          3.0        2.0      0.0   \n2              7.0                 1057.0          3.0        2.0      0.0   \n3              7.0                  745.0          3.0        2.0      0.0   \n4              7.0                 1057.0          3.0        2.0      0.0   \n...            ...                    ...          ...        ...      ...   \n19995          7.0                 1057.0          3.0        2.0      0.0   \n19996          7.0                  592.0          3.0        2.0      0.0   \n19997          7.0                  728.0          3.0        1.0      0.0   \n19998          7.0                 1057.0          3.0        2.0      0.0   \n19999          7.0                 1228.0          3.0        1.0      0.0   \n\n             lt  block_flag  days_exp  service_1_flag  service_1_count  ...  \\\n0      0.632435         0.0     108.0             0.0              0.0  ...   \n1      0.540345         0.0     330.0             0.0              0.0  ...   \n2      0.951582         0.0     344.0             0.0              0.0  ...   \n3      0.659047         0.0     361.0             0.0              0.0  ...   \n4      0.926471         0.0     199.0             1.0             25.0  ...   \n...         ...         ...       ...             ...              ...  ...   \n19995  0.707827         0.0     221.0             0.0              0.0  ...   \n19996  0.824135         0.0     355.0             0.0              0.0  ...   \n19997  0.924764         0.0     208.0             0.0              0.0  ...   \n19998  0.716732         0.0     324.0             0.0              0.0  ...   \n19999  0.880862         0.0     343.0             1.0           1236.0  ...   \n\n       service_5_count_m3  service_6_count_m3  service_7_cost_m3  \\\n0                     0.0                 0.0                0.0   \n1                     0.0                 0.0                0.0   \n2                     0.0                 0.0                0.0   \n3                     0.0                 0.0                0.0   \n4                     0.0                 0.0                0.0   \n...                   ...                 ...                ...   \n19995                 0.0                 0.0                0.0   \n19996                 0.0                 0.0                0.0   \n19997                 0.0                 0.0                0.0   \n19998                 0.0                 0.0                0.0   \n19999                92.0                 0.0                0.0   \n\n       service_7_flag_m3  service_8_count_m3  income_brnd_cont_m3  \\\n0                    0.0                 0.0            19.971334   \n1                    0.0                 0.0            10.894140   \n2                    0.0                 0.0             9.894929   \n3                    0.0                 0.0             8.183337   \n4                    0.0                 0.0             2.217369   \n...                  ...                 ...                  ...   \n19995                0.0                 0.0            11.649066   \n19996                0.0                 0.0             2.159549   \n19997                0.0                 0.0            10.999666   \n19998                0.0                 0.0            14.756591   \n19999                0.0                 0.0             2.745100   \n\n       data_type_1_m3  data_type_2_m3  data_type_3_m3  service_9_flag_m3  \n0          127.895751      716.420311      114.566613                1.0  \n1          234.292876       80.144736       14.630618                1.0  \n2            0.018959        0.000977       57.100249                1.0  \n3          189.579215      118.776836       53.537855                1.0  \n4          534.214973     1989.913944       29.685412                1.0  \n...               ...             ...             ...                ...  \n19995      522.172754     2286.497442      452.738112                1.0  \n19996      857.216847     5979.779220      265.482364                1.0  \n19997      196.408633       40.263622        0.071870                1.0  \n19998      274.917012       28.008975       10.813313                1.0  \n19999     4236.638531     5695.405960      109.627658                1.0  \n\n[20000 rows x 459 columns]",
      "text/html": "<div>\n<style scoped>\n    .dataframe tbody tr th:only-of-type {\n        vertical-align: middle;\n    }\n\n    .dataframe tbody tr th {\n        vertical-align: top;\n    }\n\n    .dataframe thead th {\n        text-align: right;\n    }\n</style>\n<table border=\"1\" class=\"dataframe\">\n  <thead>\n    <tr style=\"text-align: right;\">\n      <th></th>\n      <th>device_type</th>\n      <th>manufacturer_category</th>\n      <th>os_category</th>\n      <th>sim_count</th>\n      <th>tp_flag</th>\n      <th>lt</th>\n      <th>block_flag</th>\n      <th>days_exp</th>\n      <th>service_1_flag</th>\n      <th>service_1_count</th>\n      <th>...</th>\n      <th>service_5_count_m3</th>\n      <th>service_6_count_m3</th>\n      <th>service_7_cost_m3</th>\n      <th>service_7_flag_m3</th>\n      <th>service_8_count_m3</th>\n      <th>income_brnd_cont_m3</th>\n      <th>data_type_1_m3</th>\n      <th>data_type_2_m3</th>\n      <th>data_type_3_m3</th>\n      <th>service_9_flag_m3</th>\n    </tr>\n  </thead>\n  <tbody>\n    <tr>\n      <th>0</th>\n      <td>7.0</td>\n      <td>592.0</td>\n      <td>3.0</td>\n      <td>2.0</td>\n      <td>0.0</td>\n      <td>0.632435</td>\n      <td>0.0</td>\n      <td>108.0</td>\n      <td>0.0</td>\n      <td>0.0</td>\n      <td>...</td>\n      <td>0.0</td>\n      <td>0.0</td>\n      <td>0.0</td>\n      <td>0.0</td>\n      <td>0.0</td>\n      <td>19.971334</td>\n      <td>127.895751</td>\n      <td>716.420311</td>\n      <td>114.566613</td>\n      <td>1.0</td>\n    </tr>\n    <tr>\n      <th>1</th>\n      <td>7.0</td>\n      <td>1057.0</td>\n      <td>3.0</td>\n      <td>2.0</td>\n      <td>0.0</td>\n      <td>0.540345</td>\n      <td>0.0</td>\n      <td>330.0</td>\n      <td>0.0</td>\n      <td>0.0</td>\n      <td>...</td>\n      <td>0.0</td>\n      <td>0.0</td>\n      <td>0.0</td>\n      <td>0.0</td>\n      <td>0.0</td>\n      <td>10.894140</td>\n      <td>234.292876</td>\n      <td>80.144736</td>\n      <td>14.630618</td>\n      <td>1.0</td>\n    </tr>\n    <tr>\n      <th>2</th>\n      <td>7.0</td>\n      <td>1057.0</td>\n      <td>3.0</td>\n      <td>2.0</td>\n      <td>0.0</td>\n      <td>0.951582</td>\n      <td>0.0</td>\n      <td>344.0</td>\n      <td>0.0</td>\n      <td>0.0</td>\n      <td>...</td>\n      <td>0.0</td>\n      <td>0.0</td>\n      <td>0.0</td>\n      <td>0.0</td>\n      <td>0.0</td>\n      <td>9.894929</td>\n      <td>0.018959</td>\n      <td>0.000977</td>\n      <td>57.100249</td>\n      <td>1.0</td>\n    </tr>\n    <tr>\n      <th>3</th>\n      <td>7.0</td>\n      <td>745.0</td>\n      <td>3.0</td>\n      <td>2.0</td>\n      <td>0.0</td>\n      <td>0.659047</td>\n      <td>0.0</td>\n      <td>361.0</td>\n      <td>0.0</td>\n      <td>0.0</td>\n      <td>...</td>\n      <td>0.0</td>\n      <td>0.0</td>\n      <td>0.0</td>\n      <td>0.0</td>\n      <td>0.0</td>\n      <td>8.183337</td>\n      <td>189.579215</td>\n      <td>118.776836</td>\n      <td>53.537855</td>\n      <td>1.0</td>\n    </tr>\n    <tr>\n      <th>4</th>\n      <td>7.0</td>\n      <td>1057.0</td>\n      <td>3.0</td>\n      <td>2.0</td>\n      <td>0.0</td>\n      <td>0.926471</td>\n      <td>0.0</td>\n      <td>199.0</td>\n      <td>1.0</td>\n      <td>25.0</td>\n      <td>...</td>\n      <td>0.0</td>\n      <td>0.0</td>\n      <td>0.0</td>\n      <td>0.0</td>\n      <td>0.0</td>\n      <td>2.217369</td>\n      <td>534.214973</td>\n      <td>1989.913944</td>\n      <td>29.685412</td>\n      <td>1.0</td>\n    </tr>\n    <tr>\n      <th>...</th>\n      <td>...</td>\n      <td>...</td>\n      <td>...</td>\n      <td>...</td>\n      <td>...</td>\n      <td>...</td>\n      <td>...</td>\n      <td>...</td>\n      <td>...</td>\n      <td>...</td>\n      <td>...</td>\n      <td>...</td>\n      <td>...</td>\n      <td>...</td>\n      <td>...</td>\n      <td>...</td>\n      <td>...</td>\n      <td>...</td>\n      <td>...</td>\n      <td>...</td>\n      <td>...</td>\n    </tr>\n    <tr>\n      <th>19995</th>\n      <td>7.0</td>\n      <td>1057.0</td>\n      <td>3.0</td>\n      <td>2.0</td>\n      <td>0.0</td>\n      <td>0.707827</td>\n      <td>0.0</td>\n      <td>221.0</td>\n      <td>0.0</td>\n      <td>0.0</td>\n      <td>...</td>\n      <td>0.0</td>\n      <td>0.0</td>\n      <td>0.0</td>\n      <td>0.0</td>\n      <td>0.0</td>\n      <td>11.649066</td>\n      <td>522.172754</td>\n      <td>2286.497442</td>\n      <td>452.738112</td>\n      <td>1.0</td>\n    </tr>\n    <tr>\n      <th>19996</th>\n      <td>7.0</td>\n      <td>592.0</td>\n      <td>3.0</td>\n      <td>2.0</td>\n      <td>0.0</td>\n      <td>0.824135</td>\n      <td>0.0</td>\n      <td>355.0</td>\n      <td>0.0</td>\n      <td>0.0</td>\n      <td>...</td>\n      <td>0.0</td>\n      <td>0.0</td>\n      <td>0.0</td>\n      <td>0.0</td>\n      <td>0.0</td>\n      <td>2.159549</td>\n      <td>857.216847</td>\n      <td>5979.779220</td>\n      <td>265.482364</td>\n      <td>1.0</td>\n    </tr>\n    <tr>\n      <th>19997</th>\n      <td>7.0</td>\n      <td>728.0</td>\n      <td>3.0</td>\n      <td>1.0</td>\n      <td>0.0</td>\n      <td>0.924764</td>\n      <td>0.0</td>\n      <td>208.0</td>\n      <td>0.0</td>\n      <td>0.0</td>\n      <td>...</td>\n      <td>0.0</td>\n      <td>0.0</td>\n      <td>0.0</td>\n      <td>0.0</td>\n      <td>0.0</td>\n      <td>10.999666</td>\n      <td>196.408633</td>\n      <td>40.263622</td>\n      <td>0.071870</td>\n      <td>1.0</td>\n    </tr>\n    <tr>\n      <th>19998</th>\n      <td>7.0</td>\n      <td>1057.0</td>\n      <td>3.0</td>\n      <td>2.0</td>\n      <td>0.0</td>\n      <td>0.716732</td>\n      <td>0.0</td>\n      <td>324.0</td>\n      <td>0.0</td>\n      <td>0.0</td>\n      <td>...</td>\n      <td>0.0</td>\n      <td>0.0</td>\n      <td>0.0</td>\n      <td>0.0</td>\n      <td>0.0</td>\n      <td>14.756591</td>\n      <td>274.917012</td>\n      <td>28.008975</td>\n      <td>10.813313</td>\n      <td>1.0</td>\n    </tr>\n    <tr>\n      <th>19999</th>\n      <td>7.0</td>\n      <td>1228.0</td>\n      <td>3.0</td>\n      <td>1.0</td>\n      <td>0.0</td>\n      <td>0.880862</td>\n      <td>0.0</td>\n      <td>343.0</td>\n      <td>1.0</td>\n      <td>1236.0</td>\n      <td>...</td>\n      <td>92.0</td>\n      <td>0.0</td>\n      <td>0.0</td>\n      <td>0.0</td>\n      <td>0.0</td>\n      <td>2.745100</td>\n      <td>4236.638531</td>\n      <td>5695.405960</td>\n      <td>109.627658</td>\n      <td>1.0</td>\n    </tr>\n  </tbody>\n</table>\n<p>20000 rows × 459 columns</p>\n</div>"
     },
     "execution_count": 4,
     "metadata": {},
     "output_type": "execute_result"
    }
   ],
   "source": [
    "X.drop(['id'], axis=1, inplace=True)\n",
    "X"
   ],
   "metadata": {
    "collapsed": false,
    "pycharm": {
     "name": "#%%\n"
    }
   }
  },
  {
   "cell_type": "code",
   "execution_count": 5,
   "outputs": [],
   "source": [
    "selector_100 = SelectKBest(f_classif, k=100)\n",
    "selector_100.fit(X, y)\n",
    "# Get columns to keep and create new dataframe with those only\n",
    "cols_100 = selector_100.get_support(indices=True)\n",
    "df_new_100 = X.iloc[:,cols_100]"
   ],
   "metadata": {
    "collapsed": false,
    "pycharm": {
     "name": "#%%\n"
    }
   }
  },
  {
   "cell_type": "code",
   "execution_count": 6,
   "outputs": [],
   "source": [
    "scaler = StandardScaler()\n",
    "df_new_100 = scaler.fit_transform(df_new_100)"
   ],
   "metadata": {
    "collapsed": false,
    "pycharm": {
     "name": "#%%\n"
    }
   }
  },
  {
   "cell_type": "code",
   "execution_count": 7,
   "outputs": [
    {
     "data": {
      "text/plain": "array([[-0.49491972, -0.29708197, -1.00193147, ..., -0.4140771 ,\n        -0.26601647, -0.22551651],\n       [-0.49491972, -0.29708197, -1.5903347 , ..., -0.37724397,\n        -0.38109724, -0.33350717],\n       [-0.49491972, -0.29708197,  1.03724168, ..., -0.45834618,\n        -0.39559254, -0.28761456],\n       ...,\n       [-0.49491972, -0.29708197,  0.86588853, ..., -0.39035894,\n        -0.38831039, -0.34923933],\n       [-0.49491972, -0.29708197, -0.46331898, ..., -0.36318049,\n        -0.39052684, -0.33763215],\n       [-0.49491972, -0.29708197,  0.58538111, ...,  1.00830965,\n         0.63451393, -0.23085354]])"
     },
     "execution_count": 7,
     "metadata": {},
     "output_type": "execute_result"
    }
   ],
   "source": [
    "df_new_100"
   ],
   "metadata": {
    "collapsed": false,
    "pycharm": {
     "name": "#%%\n"
    }
   }
  },
  {
   "cell_type": "code",
   "execution_count": 8,
   "outputs": [],
   "source": [
    "def count(df_y):\n",
    "    a = df_y[df_y == 0].count()\n",
    "    b = df_y[df_y == 1].count()\n",
    "    print(\"Will not download\", a)\n",
    "    print(\"Will download\", b)\n",
    "    print(\"Not download / Will download\", a/b)\n",
    "    return a/b"
   ],
   "metadata": {
    "collapsed": false,
    "pycharm": {
     "name": "#%%\n"
    }
   }
  },
  {
   "cell_type": "code",
   "execution_count": 9,
   "outputs": [],
   "source": [
    "def makeScore(model):\n",
    "    roc_auc = roc_auc_score(y_test, model.predict(X_test))\n",
    "    f1 = f1_score(y_test, model.predict(X_test))\n",
    "    accuracy = accuracy_score(y_test, model.predict(X_test))\n",
    "    recall = recall_score(y_test, model.predict(X_test))\n",
    "    precision = precision_score(y_test, model.predict(X_test))\n",
    "\n",
    "    print(confusion_matrix(y_test, model.predict(X_test)))\n",
    "    print(\"ROC_AUC: %.5f%%\" % (roc_auc * 100.0))\n",
    "    print(\"F1_score: %.5f%%\" % (f1 * 100.0))\n",
    "    print(\"Accuracy: %.5f%%\" % (accuracy * 100.0))\n",
    "    print(\"Recall: %.5f%%\" % (recall * 100.0))\n",
    "    print(\"Precision: %.5f%% \"% (precision * 100.0))"
   ],
   "metadata": {
    "collapsed": false,
    "pycharm": {
     "name": "#%%\n"
    }
   }
  },
  {
   "cell_type": "raw",
   "source": [
    "        100 ПРИЗНАКОВ"
   ],
   "metadata": {
    "collapsed": false,
    "pycharm": {
     "name": "#%% raw\n"
    }
   }
  },
  {
   "cell_type": "raw",
   "source": [
    "Разделение"
   ],
   "metadata": {
    "collapsed": false
   }
  },
  {
   "cell_type": "code",
   "execution_count": 11,
   "outputs": [],
   "source": [
    "X_train, X_test, y_train, y_test = train_test_split(df_new_100, y, test_size=0.2, random_state=42)"
   ],
   "metadata": {
    "collapsed": false,
    "pycharm": {
     "name": "#%%\n"
    }
   }
  },
  {
   "cell_type": "raw",
   "source": [
    "    OVERSAMPLING"
   ],
   "metadata": {
    "collapsed": false,
    "pycharm": {
     "name": "#%% raw\n"
    }
   }
  },
  {
   "cell_type": "code",
   "execution_count": 12,
   "outputs": [
    {
     "name": "stdout",
     "output_type": "stream",
     "text": [
      "\n",
      "\tIMBALANCED CLASS\n",
      "\n",
      "Will not download 14792\n",
      "Will download 1208\n",
      "Not download / Will download 12.245033112582782\n",
      "\n",
      "[[3545  167]\n",
      " [ 225   63]]\n",
      "ROC_AUC: 58.68804%\n",
      "F1_score: 24.32432%\n",
      "Accuracy: 90.20000%\n",
      "Recall: 21.87500%\n",
      "Precision: 27.39130% \n",
      "\n",
      "\tRANDOM OVERSAMPLING\n",
      "\n",
      "Will not download 14792\n",
      "Will download 14792\n",
      "Not download / Will download 1.0\n",
      "\n",
      "[[3567  145]\n",
      " [ 224   64]]\n",
      "ROC_AUC: 59.15799%\n",
      "F1_score: 25.75453%\n",
      "Accuracy: 90.77500%\n",
      "Recall: 22.22222%\n",
      "Precision: 30.62201% \n",
      "\n",
      "\tRANDOM UNDERSAMPLING\n",
      "\n",
      "Will not download 1208\n",
      "Will download 1208\n",
      "Not download / Will download 1.0\n",
      "\n",
      "[[2601 1111]\n",
      " [  83  205]]\n",
      "ROC_AUC: 70.62530%\n",
      "F1_score: 25.56110%\n",
      "Accuracy: 70.15000%\n",
      "Recall: 71.18056%\n",
      "Precision: 15.57751% \n",
      "\n",
      "\tRANDOM OVERSEMPLING AND UNDERSAMPLING\n",
      "\n",
      "Will not download 3286\n",
      "Will download 2958\n",
      "Not download / Will download 1.1108857336037863\n",
      "\n",
      "[[3220  492]\n",
      " [ 144  144]]\n",
      "ROC_AUC: 68.37284%\n",
      "F1_score: 31.16883%\n",
      "Accuracy: 84.10000%\n",
      "Recall: 50.00000%\n",
      "Precision: 22.64151% \n"
     ]
    }
   ],
   "source": [
    "print(\"\\n\\tIMBALANCED CLASS\\n\")\n",
    "difference = count(y_train)\n",
    "model = XGBClassifier(scale_pos_weight = difference, use_rmm = 'true', eval_metric='mlogloss').fit(X_train, y_train)\n",
    "print()\n",
    "makeScore(model)\n",
    "\n",
    "\n",
    "print(\"\\n\\tRANDOM OVERSAMPLING\\n\")\n",
    "oversample = RandomOverSampler(random_state= 42, sampling_strategy = 'minority')\n",
    "X_ros, y_ros = oversample.fit_resample(X_train, y_train)\n",
    "model = XGBClassifier(use_rmm = 'true', eval_metric='mlogloss').fit(X_ros, y_ros)\n",
    "count(y_ros)\n",
    "print()\n",
    "makeScore(model)\n",
    "\n",
    "\n",
    "print(\"\\n\\tRANDOM UNDERSAMPLING\\n\")\n",
    "undersample = RandomUnderSampler(random_state= 42, sampling_strategy = 'majority')\n",
    "X_rus, y_rus = undersample.fit_resample(X_train, y_train)\n",
    "model = XGBClassifier(use_rmm = 'true', eval_metric='mlogloss').fit(X_rus, y_rus)\n",
    "count(y_rus)\n",
    "print()\n",
    "makeScore(model)\n",
    "\n",
    "\n",
    "print(\"\\n\\tRANDOM OVERSEMPLING AND UNDERSAMPLING\\n\")\n",
    "over = RandomOverSampler(random_state=42, sampling_strategy=0.2)\n",
    "X_rous, y_rous = over.fit_resample(X_train, y_train)\n",
    "under = RandomUnderSampler(random_state=42, sampling_strategy=0.9) # sampling_strategy = float - количество выборок в классе большинства после повторной выборки и количество выборок в классе меньшинства, соответственно.\n",
    "X_rous, y_rous = under.fit_resample(X_rous, y_rous)\n",
    "model = XGBClassifier(use_rmm = 'true', eval_metric='mlogloss').fit(X_rous, y_rous)\n",
    "count(y_rous)\n",
    "print()\n",
    "makeScore(model)"
   ],
   "metadata": {
    "collapsed": false,
    "pycharm": {
     "name": "#%%\n"
    }
   }
  },
  {
   "cell_type": "raw",
   "source": [
    "    ПОДБИРАЕМ ГИПЕРПАРАМЕТРЫ"
   ],
   "metadata": {
    "collapsed": false,
    "pycharm": {
     "name": "#%% raw\n"
    }
   }
  },
  {
   "cell_type": "code",
   "execution_count": 13,
   "outputs": [],
   "source": [
    "kf = KFold(n_splits=5, shuffle=True, random_state=42)"
   ],
   "metadata": {
    "collapsed": false,
    "pycharm": {
     "name": "#%%\n"
    }
   }
  },
  {
   "cell_type": "code",
   "execution_count": 14,
   "outputs": [
    {
     "name": "stdout",
     "output_type": "stream",
     "text": [
      "[18:56:10] WARNING: C:/Users/Administrator/workspace/xgboost-win64_release_1.5.1/src/learner.cc:1115: Starting in XGBoost 1.3.0, the default evaluation metric used with the objective 'binary:logistic' was changed from 'error' to 'logloss'. Explicitly set eval_metric if you'd like to restore the old behavior.\n"
     ]
    },
    {
     "data": {
      "text/plain": "GridSearchCV(cv=KFold(n_splits=5, random_state=42, shuffle=True),\n             estimator=XGBClassifier(base_score=None, booster=None,\n                                     colsample_bylevel=None,\n                                     colsample_bynode=None,\n                                     colsample_bytree=None,\n                                     enable_categorical=False, gamma=None,\n                                     gpu_id=None, importance_type=None,\n                                     interaction_constraints=None,\n                                     learning_rate=None, max_delta_step=None,\n                                     max_depth=None, min_child_weigh...\n                                     n_estimators=100, n_jobs=None,\n                                     num_parallel_tree=None, predictor=None,\n                                     random_state=None, reg_alpha=None,\n                                     reg_lambda=None,\n                                     scale_pos_weight=12.245033112582782,\n                                     subsample=None, tree_method=None,\n                                     use_rmm='true', validate_parameters=None,\n                                     verbosity=None),\n             n_jobs=-1,\n             param_grid={'eta': [0.01, 0.1, 0.2, 0.3],\n                         'gamma': array([0.1, 0.2, 0.3, 0.4, 0.5]),\n                         'n_estimators': array([ 50, 100, 150, 200])},\n             scoring='f1')"
     },
     "execution_count": 14,
     "metadata": {},
     "output_type": "execute_result"
    }
   ],
   "source": [
    "params={'eta': [0.01, 0.1, 0.2, 0.3], 'gamma':np.arange(0.1,0.6,0.1), \"n_estimators\": np.arange(50, 201, 50)}\n",
    "model = XGBClassifier(scale_pos_weight = difference, use_rmm = 'true')\n",
    "\n",
    "grid = GridSearchCV(model, params, cv=kf, scoring='f1', n_jobs = -1)\n",
    "grid.fit(df_new_100, y)"
   ],
   "metadata": {
    "collapsed": false,
    "pycharm": {
     "name": "#%%\n"
    }
   }
  },
  {
   "cell_type": "code",
   "execution_count": 15,
   "outputs": [
    {
     "name": "stdout",
     "output_type": "stream",
     "text": [
      "Найлучшее качество модели при {'eta': 0.2, 'gamma': 0.5, 'n_estimators': 50}\n",
      "Наилучшая оценка качества модели: 0.3304974083083055\n"
     ]
    }
   ],
   "source": [
    "print(\"Найлучшее качество модели при\", grid.best_params_)\n",
    "print(\"Наилучшая оценка качества модели:\", grid.best_score_)"
   ],
   "metadata": {
    "collapsed": false,
    "pycharm": {
     "name": "#%%\n"
    }
   }
  },
  {
   "cell_type": "code",
   "execution_count": 16,
   "outputs": [
    {
     "name": "stdout",
     "output_type": "stream",
     "text": [
      "[19:05:31] WARNING: C:/Users/Administrator/workspace/xgboost-win64_release_1.5.1/src/learner.cc:1115: Starting in XGBoost 1.3.0, the default evaluation metric used with the objective 'binary:logistic' was changed from 'error' to 'logloss'. Explicitly set eval_metric if you'd like to restore the old behavior.\n"
     ]
    },
    {
     "data": {
      "text/plain": "GridSearchCV(cv=KFold(n_splits=5, random_state=42, shuffle=True),\n             estimator=Pipeline(steps=[('under',\n                                        RandomUnderSampler(random_state=42,\n                                                           sampling_strategy='majority')),\n                                       ('model',\n                                        XGBClassifier(base_score=None,\n                                                      booster=None,\n                                                      colsample_bylevel=None,\n                                                      colsample_bynode=None,\n                                                      colsample_bytree=None,\n                                                      enable_categorical=False,\n                                                      gamma=None, gpu_id=None,\n                                                      importance_type=Non...\n                                                      num_parallel_tree=None,\n                                                      predictor=None,\n                                                      random_state=None,\n                                                      reg_alpha=None,\n                                                      reg_lambda=None,\n                                                      scale_pos_weight=None,\n                                                      subsample=None,\n                                                      tree_method=None,\n                                                      use_rmm='true',\n                                                      validate_parameters=None,\n                                                      verbosity=None))]),\n             n_jobs=-1,\n             param_grid={'model__eta': [0.01, 0.1, 0.2, 0.3],\n                         'model__gamma': array([0.1, 0.2, 0.3, 0.4, 0.5]),\n                         'model__n_estimators': array([ 50, 100, 150, 200])},\n             scoring='f1')"
     },
     "execution_count": 16,
     "metadata": {},
     "output_type": "execute_result"
    }
   ],
   "source": [
    "steps = [('under', RandomUnderSampler(sampling_strategy = 'majority', random_state=42)), ('model', XGBClassifier(use_rmm = 'true'))]\n",
    "pipeline = Pipeline(steps=steps)\n",
    "\n",
    "params={\n",
    "    'model__eta': [0.01, 0.1, 0.2, 0.3],\n",
    "    'model__gamma':np.arange(0.1,0.6,0.1),\n",
    "    'model__n_estimators': np.arange(50, 201, 50)\n",
    "}\n",
    "grid = GridSearchCV(pipeline, params, cv=kf, scoring='f1', n_jobs = -1)\n",
    "grid.fit(df_new_100, y)"
   ],
   "metadata": {
    "collapsed": false,
    "pycharm": {
     "name": "#%%\n"
    }
   }
  },
  {
   "cell_type": "code",
   "execution_count": 17,
   "outputs": [
    {
     "name": "stdout",
     "output_type": "stream",
     "text": [
      "Найлучшее качество модели при {'model__eta': 0.1, 'model__gamma': 0.30000000000000004, 'model__n_estimators': 50}\n",
      "Наилучшая оценка качества модели: 0.28065406717266805\n"
     ]
    }
   ],
   "source": [
    "# scores = cross_val_score(pipeline, df_new_50, y, scoring='roc_auc', cv=kf, n_jobs=-1)\n",
    "# print(scores)\n",
    "# print(statistics.mean(scores))\n",
    "print(\"Найлучшее качество модели при\", grid.best_params_)\n",
    "print(\"Наилучшая оценка качества модели:\", grid.best_score_)"
   ],
   "metadata": {
    "collapsed": false,
    "pycharm": {
     "name": "#%%\n"
    }
   }
  },
  {
   "cell_type": "code",
   "execution_count": 18,
   "outputs": [
    {
     "name": "stdout",
     "output_type": "stream",
     "text": [
      "[19:37:11] WARNING: C:/Users/Administrator/workspace/xgboost-win64_release_1.5.1/src/learner.cc:1115: Starting in XGBoost 1.3.0, the default evaluation metric used with the objective 'binary:logistic' was changed from 'error' to 'logloss'. Explicitly set eval_metric if you'd like to restore the old behavior.\n"
     ]
    },
    {
     "data": {
      "text/plain": "GridSearchCV(cv=KFold(n_splits=5, random_state=42, shuffle=True),\n             estimator=Pipeline(steps=[('over',\n                                        RandomOverSampler(random_state=42,\n                                                          sampling_strategy='minority')),\n                                       ('model',\n                                        XGBClassifier(base_score=None,\n                                                      booster=None,\n                                                      colsample_bylevel=None,\n                                                      colsample_bynode=None,\n                                                      colsample_bytree=None,\n                                                      enable_categorical=False,\n                                                      gamma=None, gpu_id=None,\n                                                      importance_type=None,...\n                                                      num_parallel_tree=None,\n                                                      predictor=None,\n                                                      random_state=None,\n                                                      reg_alpha=None,\n                                                      reg_lambda=None,\n                                                      scale_pos_weight=None,\n                                                      subsample=None,\n                                                      tree_method=None,\n                                                      use_rmm='true',\n                                                      validate_parameters=None,\n                                                      verbosity=None))]),\n             n_jobs=-1,\n             param_grid={'model__eta': [0.01, 0.1, 0.2, 0.3],\n                         'model__gamma': array([0.1, 0.2, 0.3, 0.4, 0.5]),\n                         'model__n_estimators': array([ 50, 100, 150, 200])},\n             scoring='f1')"
     },
     "execution_count": 18,
     "metadata": {},
     "output_type": "execute_result"
    }
   ],
   "source": [
    "steps = [('over', RandomOverSampler(sampling_strategy = 'minority', random_state=42)), ('model', XGBClassifier(use_rmm = 'true'))]\n",
    "pipeline = Pipeline(steps=steps)\n",
    "\n",
    "params={\n",
    "    'model__eta': [0.01, 0.1, 0.2, 0.3],\n",
    "    'model__gamma':np.arange(0.1,0.6,0.1),\n",
    "    'model__n_estimators': np.arange(50, 201, 50)\n",
    "}\n",
    "grid = GridSearchCV(pipeline, params, cv=kf, scoring='f1', n_jobs = -1)\n",
    "grid.fit(df_new_100, y)"
   ],
   "metadata": {
    "collapsed": false,
    "pycharm": {
     "name": "#%%\n"
    }
   }
  },
  {
   "cell_type": "code",
   "execution_count": 20,
   "outputs": [
    {
     "name": "stdout",
     "output_type": "stream",
     "text": [
      "Найлучшее качество модели при {'model__eta': 0.1, 'model__gamma': 0.30000000000000004, 'model__n_estimators': 100}\n",
      "Наилучшая оценка качества модели: 0.32700818878169663\n"
     ]
    }
   ],
   "source": [
    "print(\"Найлучшее качество модели при\", grid.best_params_)\n",
    "print(\"Наилучшая оценка качества модели:\", grid.best_score_)"
   ],
   "metadata": {
    "collapsed": false,
    "pycharm": {
     "name": "#%%\n"
    }
   }
  },
  {
   "cell_type": "code",
   "execution_count": 21,
   "outputs": [
    {
     "name": "stdout",
     "output_type": "stream",
     "text": [
      "[19:45:54] WARNING: C:/Users/Administrator/workspace/xgboost-win64_release_1.5.1/src/learner.cc:1115: Starting in XGBoost 1.3.0, the default evaluation metric used with the objective 'binary:logistic' was changed from 'error' to 'logloss'. Explicitly set eval_metric if you'd like to restore the old behavior.\n"
     ]
    },
    {
     "data": {
      "text/plain": "GridSearchCV(cv=KFold(n_splits=5, random_state=42, shuffle=True),\n             estimator=Pipeline(steps=[('over',\n                                        RandomOverSampler(random_state=42,\n                                                          sampling_strategy=0.2)),\n                                       ('under',\n                                        RandomUnderSampler(random_state=42,\n                                                           sampling_strategy=0.9)),\n                                       ('model',\n                                        XGBClassifier(base_score=None,\n                                                      booster=None,\n                                                      colsample_bylevel=None,\n                                                      colsample_bynode=None,\n                                                      colsample_bytree=None,\n                                                      enable_c...\n                                                      num_parallel_tree=None,\n                                                      predictor=None,\n                                                      random_state=None,\n                                                      reg_alpha=None,\n                                                      reg_lambda=None,\n                                                      scale_pos_weight=None,\n                                                      subsample=None,\n                                                      tree_method=None,\n                                                      use_rmm='true',\n                                                      validate_parameters=None,\n                                                      verbosity=None))]),\n             n_jobs=-1,\n             param_grid={'model__eta': [0.01, 0.1, 0.2, 0.3],\n                         'model__gamma': array([0.1, 0.2, 0.3, 0.4, 0.5]),\n                         'model__n_estimators': array([ 50, 100, 150, 200])},\n             scoring='f1')"
     },
     "execution_count": 21,
     "metadata": {},
     "output_type": "execute_result"
    }
   ],
   "source": [
    "steps = [('over', RandomOverSampler(random_state=42, sampling_strategy=0.2)), ('under', RandomUnderSampler(random_state=42, sampling_strategy=0.9)) ,('model', XGBClassifier(use_rmm = 'true'))]\n",
    "pipeline = Pipeline(steps=steps)\n",
    "\n",
    "params={\n",
    "    'model__eta': [0.01, 0.1, 0.2, 0.3],\n",
    "    'model__gamma':np.arange(0.1,0.6,0.1),\n",
    "    'model__n_estimators': np.arange(50, 201, 50)\n",
    "}\n",
    "grid = GridSearchCV(pipeline, params, cv=kf, scoring='f1', n_jobs = -1)\n",
    "grid.fit(df_new_100, y)"
   ],
   "metadata": {
    "collapsed": false,
    "pycharm": {
     "name": "#%%\n"
    }
   }
  },
  {
   "cell_type": "code",
   "execution_count": 22,
   "outputs": [
    {
     "name": "stdout",
     "output_type": "stream",
     "text": [
      "Найлучшее качество модели при {'model__eta': 0.2, 'model__gamma': 0.30000000000000004, 'model__n_estimators': 200}\n",
      "Наилучшая оценка качества модели: 0.33909550361777924\n"
     ]
    }
   ],
   "source": [
    "print(\"Найлучшее качество модели при\", grid.best_params_)\n",
    "print(\"Наилучшая оценка качества модели:\", grid.best_score_)"
   ],
   "metadata": {
    "collapsed": false,
    "pycharm": {
     "name": "#%%\n"
    }
   }
  },
  {
   "cell_type": "code",
   "execution_count": null,
   "outputs": [],
   "source": [],
   "metadata": {
    "collapsed": false,
    "pycharm": {
     "name": "#%%\n"
    }
   }
  }
 ],
 "metadata": {
  "kernelspec": {
   "display_name": "Python 3",
   "language": "python",
   "name": "python3"
  },
  "language_info": {
   "codemirror_mode": {
    "name": "ipython",
    "version": 2
   },
   "file_extension": ".py",
   "mimetype": "text/x-python",
   "name": "python",
   "nbconvert_exporter": "python",
   "pygments_lexer": "ipython2",
   "version": "2.7.6"
  }
 },
 "nbformat": 4,
 "nbformat_minor": 0
}