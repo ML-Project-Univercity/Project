{
 "cells": [
  {
   "cell_type": "code",
   "execution_count": 1,
   "id": "21849ad6",
   "metadata": {},
   "outputs": [],
   "source": [
    "import warnings\n",
    "warnings.simplefilter(action='ignore')\n",
    "\n",
    "import matplotlib.pyplot as plt\n",
    "import pandas as pd\n",
    "from sklearn.feature_selection import SelectKBest\n",
    "from sklearn.feature_selection import f_classif\n",
    "import numpy as np"
   ]
  },
  {
   "cell_type": "code",
   "execution_count": 2,
   "id": "98250f6c",
   "metadata": {},
   "outputs": [],
   "source": [
    "df = pd.read_csv('Train_music_ForestImputer.csv')"
   ]
  },
  {
   "cell_type": "code",
   "execution_count": 3,
   "id": "8592e917",
   "metadata": {},
   "outputs": [],
   "source": [
    "X = df.drop(['target', 'id'], axis=1)\n",
    "y = df['target']"
   ]
  },
  {
   "cell_type": "code",
   "execution_count": 4,
   "id": "5baa5120",
   "metadata": {},
   "outputs": [],
   "source": [
    "selector_50 = SelectKBest(f_classif, k=50)\n",
    "selector_100 = SelectKBest(f_classif, k=100)\n",
    "selector_50.fit(X, y)\n",
    "selector_100.fit(X, y)\n",
    "# Get columns to keep and create new dataframe with those only\n",
    "cols_50 = selector_50.get_support(indices=True)\n",
    "cols_100 = selector_100.get_support(indices=True)\n",
    "df_new_50 = X.iloc[:,cols_50]\n",
    "df_new_100 = X.iloc[:,cols_100]"
   ]
  },
  {
   "cell_type": "code",
   "execution_count": 5,
   "id": "0103d308",
   "metadata": {},
   "outputs": [],
   "source": [
    "df_new_50['target'] = y\n",
    "df_new_100['target'] = y"
   ]
  },
  {
   "cell_type": "code",
   "execution_count": 6,
   "id": "3cf17dd5",
   "metadata": {},
   "outputs": [],
   "source": [
    "X_50, y_50 = df_new_50.drop(['target'], axis=1), df_new_50['target']\n",
    "X_100, y_100 = df_new_100.drop(['target'], axis=1), df_new_100['target']"
   ]
  },
  {
   "cell_type": "markdown",
   "id": "0db19428",
   "metadata": {},
   "source": [
    "# SVM method"
   ]
  },
  {
   "cell_type": "code",
   "execution_count": 7,
   "id": "07070711",
   "metadata": {},
   "outputs": [],
   "source": [
    "from sklearn.svm import SVC"
   ]
  },
  {
   "cell_type": "markdown",
   "id": "6e5dd60e",
   "metadata": {},
   "source": [
    "Используем StandardScaler для подготовки данных. После этого создаем сборку на train и test."
   ]
  },
  {
   "cell_type": "code",
   "execution_count": 8,
   "id": "97940878",
   "metadata": {},
   "outputs": [],
   "source": [
    "from sklearn.preprocessing import StandardScaler\n",
    "scaler = StandardScaler()\n",
    "X_sc = scaler.fit_transform(X_100)"
   ]
  },
  {
   "cell_type": "code",
   "execution_count": 9,
   "id": "f544ab9d",
   "metadata": {},
   "outputs": [],
   "source": [
    "from sklearn.model_selection import train_test_split\n",
    "from sklearn.metrics import confusion_matrix, ConfusionMatrixDisplay\n",
    "X_train, X_valid, y_train, y_valid = train_test_split(X_sc, y_100, test_size=0.25, random_state=42)"
   ]
  },
  {
   "cell_type": "markdown",
   "id": "0ba19ae4",
   "metadata": {},
   "source": [
    "Для начала построим модель по-умолчанию."
   ]
  },
  {
   "cell_type": "code",
   "execution_count": 10,
   "id": "b691d19f",
   "metadata": {},
   "outputs": [
    {
     "data": {
      "text/plain": [
       "SVC()"
      ]
     },
     "execution_count": 10,
     "metadata": {},
     "output_type": "execute_result"
    }
   ],
   "source": [
    "clf = SVC()\n",
    "clf.fit(X_train, y_train)"
   ]
  },
  {
   "cell_type": "code",
   "execution_count": 11,
   "id": "bd057fc9",
   "metadata": {},
   "outputs": [],
   "source": [
    "y_pred = clf.predict(X_valid)"
   ]
  },
  {
   "cell_type": "code",
   "execution_count": 12,
   "id": "ba1bd28f",
   "metadata": {},
   "outputs": [
    {
     "name": "stdout",
     "output_type": "stream",
     "text": [
      "[[4649    0]\n",
      " [ 351    0]]\n"
     ]
    }
   ],
   "source": [
    "cm = confusion_matrix(y_valid, y_pred)\n",
    "print(cm)"
   ]
  },
  {
   "cell_type": "code",
   "execution_count": 13,
   "id": "8259a57c",
   "metadata": {},
   "outputs": [
    {
     "data": {
      "image/png": "[encoded data removed]",
      "text/plain": [
       "<Figure size 432x288 with 2 Axes>"
      ]
     },
     "metadata": {
      "needs_background": "light"
     },
     "output_type": "display_data"
    }
   ],
   "source": [
    "disp = ConfusionMatrixDisplay(confusion_matrix=cm)\n",
    "disp.plot()\n",
    "plt.show()"
   ]
  },
  {
   "cell_type": "code",
   "execution_count": 14,
   "id": "832c3d29",
   "metadata": {},
   "outputs": [
    {
     "name": "stdout",
     "output_type": "stream",
     "text": [
      "Precision: 0.0\n",
      "Recall: 0.0\n",
      "F1 score: 0.0\n",
      "ROC AUC score: 0.5\n"
     ]
    }
   ],
   "source": [
    "from sklearn.metrics import precision_score, recall_score, f1_score, roc_auc_score\n",
    "print('Precision:', precision_score(y_valid, y_pred))\n",
    "print('Recall:', recall_score(y_valid, y_pred))\n",
    "print('F1 score:', f1_score(y_valid, y_pred))\n",
    "print('ROC AUC score:', roc_auc_score(y_valid, y_pred))"
   ]
  },
  {
   "cell_type": "markdown",
   "id": "8769486c",
   "metadata": {},
   "source": [
    "Как видим, модель нисколько не справляется, попробуем подобрать гиперпараметры."
   ]
  },
  {
   "cell_type": "markdown",
   "id": "d6231c45",
   "metadata": {},
   "source": [
    "## Настройка гиперпараметров"
   ]
  },
  {
   "cell_type": "markdown",
   "id": "ca486fef",
   "metadata": {},
   "source": [
    "Для начала попробуем найти метрику, которая выдает наилучший результат."
   ]
  },
  {
   "cell_type": "code",
   "execution_count": 15,
   "id": "4410883c",
   "metadata": {},
   "outputs": [
    {
     "data": {
      "text/plain": [
       "GridSearchCV(cv=5, estimator=SVC(),\n",
       "             param_grid={'kernel': ['linear', 'sigmoid', 'poly']},\n",
       "             scoring='f1')"
      ]
     },
     "execution_count": 15,
     "metadata": {},
     "output_type": "execute_result"
    }
   ],
   "source": [
    "from sklearn.model_selection import GridSearchCV\n",
    "\n",
    "clf = SVC()\n",
    "\n",
    "kernel_values = {'kernel': ['linear', 'sigmoid', 'poly']}\n",
    "\n",
    "clf_grid = GridSearchCV(clf, kernel_values, cv=5, scoring='f1')\n",
    "clf_grid.fit(X_train, y_train)"
   ]
  },
  {
   "cell_type": "code",
   "execution_count": 16,
   "id": "ad3a4573",
   "metadata": {},
   "outputs": [
    {
     "name": "stdout",
     "output_type": "stream",
     "text": [
      "{'kernel': 'sigmoid'}\n",
      "0.13632943461995956\n"
     ]
    }
   ],
   "source": [
    "print(clf_grid.best_params_)\n",
    "print(clf_grid.best_score_)\n",
    "kernel_best = clf_grid.best_params_['kernel']"
   ]
  },
  {
   "cell_type": "code",
   "execution_count": 17,
   "id": "e45e4e17",
   "metadata": {},
   "outputs": [
    {
     "data": {
      "image/png": "[encoded data removed]",
      "text/plain": [
       "<Figure size 432x288 with 1 Axes>"
      ]
     },
     "metadata": {
      "needs_background": "light"
     },
     "output_type": "display_data"
    }
   ],
   "source": [
    "results_df = pd.DataFrame(clf_grid.cv_results_)\n",
    "plt.plot(results_df['param_kernel'], results_df['mean_test_score'])\n",
    "\n",
    "# Подписываем оси и график\n",
    "plt.xlabel('kernel')\n",
    "plt.ylabel('Test accuracy')\n",
    "plt.title('Validation curve')\n",
    "plt.show()"
   ]
  },
  {
   "cell_type": "code",
   "execution_count": 18,
   "id": "590edb75",
   "metadata": {
    "scrolled": false
   },
   "outputs": [
    {
     "name": "stdout",
     "output_type": "stream",
     "text": [
      "[[4374  275]\n",
      " [ 299   52]]\n",
      "F1 score valid: 0.15339233038348085\n"
     ]
    }
   ],
   "source": [
    "y_pred = clf_grid.best_estimator_.predict(X_valid)\n",
    "print(confusion_matrix(y_valid, y_pred))\n",
    "print('F1 score valid:', f1_score(y_valid, y_pred))"
   ]
  },
  {
   "cell_type": "markdown",
   "id": "ecf8fc46",
   "metadata": {},
   "source": [
    "Можно увидеть, что лучше всего себя показала сигмоида, F1 составила около 15%. Теперь попробуем подобрать параметр С."
   ]
  },
  {
   "cell_type": "code",
   "execution_count": 23,
   "id": "0b680ec9",
   "metadata": {},
   "outputs": [
    {
     "data": {
      "text/plain": [
       "GridSearchCV(cv=5, estimator=SVC(kernel='sigmoid'),\n",
       "             param_grid={'C': array([1.00000000e-01, 1.61026203e-01, 2.59294380e-01, 4.17531894e-01,\n",
       "       6.72335754e-01, 1.08263673e+00, 1.74332882e+00, 2.80721620e+00,\n",
       "       4.52035366e+00, 7.27895384e+00, 1.17210230e+01, 1.88739182e+01,\n",
       "       3.03919538e+01, 4.89390092e+01, 7.88046282e+01, 1.26896100e+02,\n",
       "       2.04335972e+02, 3.29034456e+02, 5.29831691e+02, 8.53167852e+02,\n",
       "       1.37382380e+03, 2.21221629e+03, 3.56224789e+03, 5.73615251e+03,\n",
       "       9.23670857e+03, 1.48735211e+04, 2.39502662e+04, 3.85662042e+04,\n",
       "       6.21016942e+04, 1.00000000e+05])},\n",
       "             scoring='f1')"
      ]
     },
     "execution_count": 23,
     "metadata": {},
     "output_type": "execute_result"
    }
   ],
   "source": [
    "clf = SVC(kernel='sigmoid')\n",
    "\n",
    "C_values = {'C': np.logspace(-1, 5, 30)}\n",
    "\n",
    "clf_grid = GridSearchCV(clf, C_values, cv=5, scoring='f1')\n",
    "clf_grid.fit(X_train, y_train)"
   ]
  },
  {
   "cell_type": "code",
   "execution_count": 24,
   "id": "c4bad705",
   "metadata": {},
   "outputs": [
    {
     "name": "stdout",
     "output_type": "stream",
     "text": [
      "{'C': 48.93900918477494}\n",
      "0.14371930589972054\n"
     ]
    }
   ],
   "source": [
    "print(clf_grid.best_params_)\n",
    "print(clf_grid.best_score_)\n",
    "C_best = clf_grid.best_params_['C']"
   ]
  },
  {
   "cell_type": "code",
   "execution_count": 25,
   "id": "f28ee065",
   "metadata": {},
   "outputs": [
    {
     "data": {
      "image/png": "[encoded data removed]",
      "text/plain": [
       "<Figure size 432x288 with 1 Axes>"
      ]
     },
     "metadata": {
      "needs_background": "light"
     },
     "output_type": "display_data"
    }
   ],
   "source": [
    "results_df = pd.DataFrame(clf_grid.cv_results_)\n",
    "plt.plot(results_df['param_C'], results_df['mean_test_score'])\n",
    "\n",
    "# Подписываем оси и график\n",
    "plt.xlabel('C')\n",
    "plt.ylabel('Test accuracy')\n",
    "plt.title('Validation curve')\n",
    "plt.show()"
   ]
  },
  {
   "cell_type": "code",
   "execution_count": 26,
   "id": "1c594138",
   "metadata": {
    "scrolled": false
   },
   "outputs": [
    {
     "name": "stdout",
     "output_type": "stream",
     "text": [
      "[[4295  354]\n",
      " [ 291   60]]\n",
      "F1 score valid: 0.1568627450980392\n"
     ]
    }
   ],
   "source": [
    "y_pred = clf_grid.best_estimator_.predict(X_valid)\n",
    "print(confusion_matrix(y_valid, y_pred))\n",
    "print('F1 score valid:', f1_score(y_valid, y_pred))"
   ]
  },
  {
   "cell_type": "markdown",
   "id": "860c2926",
   "metadata": {},
   "source": [
    "Даже при подобранном параметре С никаких особых улучшений не наблюдается."
   ]
  }
 ],
 "metadata": {
  "kernelspec": {
   "display_name": "Python 3 (ipykernel)",
   "language": "python",
   "name": "python3"
  },
  "language_info": {
   "codemirror_mode": {
    "name": "ipython",
    "version": 3
   },
   "file_extension": ".py",
   "mimetype": "text/x-python",
   "name": "python",
   "nbconvert_exporter": "python",
   "pygments_lexer": "ipython3",
   "version": "3.8.10"
  }
 },
 "nbformat": 4,
 "nbformat_minor": 5
}
