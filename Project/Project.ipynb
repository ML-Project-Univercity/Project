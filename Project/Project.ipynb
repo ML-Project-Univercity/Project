{
 "cells": [
  {
   "cell_type": "raw",
   "source": [
    "1.Загрузка Dataset."
   ],
   "metadata": {
    "collapsed": false
   }
  },
  {
   "cell_type": "code",
   "execution_count": null,
   "outputs": [],
   "source": [
    "import warnings\n",
    "\n",
    "import numpy as np\n",
    "warnings.simplefilter(action='ignore')\n",
    "\n",
    "import pandas as pd\n",
    "import seaborn as sns\n",
    "import missingno as msno\n",
    "from missingpy import MissForest\n",
    "from matplotlib import pyplot as plt\n",
    "from sklearn.feature_selection import SelectKBest\n",
    "from sklearn.feature_selection import f_classif\n",
    "from sklearn.metrics import roc_auc_score, f1_score, accuracy_score, recall_score, precision_score, confusion_matrix\n",
    "from sklearn.model_selection import train_test_split, KFold, GridSearchCV\n",
    "from sklearn.preprocessing import StandardScaler\n",
    "from imblearn.pipeline import Pipeline\n",
    "from imblearn.over_sampling import RandomOverSampler\n",
    "from imblearn.under_sampling import RandomUnderSampler\n",
    "from xgboost import XGBClassifier, plot_importance\n",
    "\n",
    "sns.set(rc={'figure.figsize':(10, 8)})"
   ],
   "metadata": {
    "collapsed": false,
    "pycharm": {
     "name": "#%%\n"
    }
   }
  },
  {
   "cell_type": "code",
   "execution_count": null,
   "outputs": [],
   "source": [
    "df = pd.read_csv('train_music.csv', sep =',')\n",
    "df"
   ],
   "metadata": {
    "collapsed": false,
    "pycharm": {
     "name": "#%%\n"
    }
   }
  },
  {
   "cell_type": "code",
   "execution_count": null,
   "outputs": [],
   "source": [
    "df.info();"
   ],
   "metadata": {
    "collapsed": false,
    "pycharm": {
     "name": "#%%\n"
    }
   }
  },
  {
   "cell_type": "code",
   "execution_count": null,
   "outputs": [],
   "source": [
    "df = df.sample(n = 20000, random_state=42)\n",
    "df"
   ],
   "metadata": {
    "collapsed": false,
    "pycharm": {
     "name": "#%%\n"
    }
   }
  },
  {
   "cell_type": "code",
   "execution_count": null,
   "outputs": [],
   "source": [
    "df.info()"
   ],
   "metadata": {
    "collapsed": false,
    "pycharm": {
     "name": "#%%\n"
    }
   }
  },
  {
   "cell_type": "raw",
   "source": [
    "    2. Анализ"
   ],
   "metadata": {
    "collapsed": false
   }
  },
  {
   "cell_type": "raw",
   "source": [
    "Первым делом, посмотрим общую информацию о нашем датасете. Понять, с чем имеем дело. Проверить баланс классов, проверить количество пропущенных сообщений и собрать общие данные о нашем датасете."
   ],
   "metadata": {
    "collapsed": false
   }
  },
  {
   "cell_type": "code",
   "execution_count": null,
   "outputs": [],
   "source": [
    "df.describe(include='all').T"
   ],
   "metadata": {
    "collapsed": false,
    "pycharm": {
     "name": "#%%\n"
    }
   }
  },
  {
   "cell_type": "raw",
   "source": [
    "Как видим, у нас в датасете есть много элементов null. Выведем все значения и отсортируем их в порядке убывания."
   ],
   "metadata": {
    "collapsed": false
   }
  },
  {
   "cell_type": "code",
   "execution_count": null,
   "outputs": [],
   "source": [
    "s = df.isna().sum()\n",
    "nan = pd.DataFrame(data = s[s != 0].sort_values(ascending=False), columns=['Total NaN count'])\n",
    "nan['Percent'] = df.isna().mean() * 100.0\n",
    "\n",
    "nan.T"
   ],
   "metadata": {
    "collapsed": false,
    "pycharm": {
     "name": "#%%\n"
    }
   }
  },
  {
   "cell_type": "markdown",
   "source": [
    "Ситуация с null ужасна, перед тем как делать окончательные выводы, посмотрим что у нас с балансом."
   ],
   "metadata": {
    "collapsed": false
   }
  },
  {
   "cell_type": "code",
   "execution_count": null,
   "outputs": [],
   "source": [
    "figure, ax = plt.subplots(figsize=(10, 10))\n",
    "\n",
    "ax.set_title(\"Class balance\")\n",
    "\n",
    "pd.DataFrame(\n",
    "    {'count': [df['target'].isin([0]).sum(),\n",
    "               df['target'].isin([1]).sum()]},\n",
    "    index=['Will not download','Will download']\n",
    ").plot.pie(subplots=True, figsize=(8, 8), autopct='%1.1f%%', shadow=False, startangle=90, explode=(0.05, 0.05), ax=ax)\n",
    "\n",
    "plt.show()"
   ],
   "metadata": {
    "collapsed": false,
    "pycharm": {
     "name": "#%%\n"
    }
   }
  },
  {
   "cell_type": "markdown",
   "source": [
    "На первый взгляд всё плохо. Огромное количество пропущенных данных и плохой баланс.\n",
    "Очевидно, что семантику данных восстановить не получится, поскольку это данные пользователей и они как-то обработаны.\n",
    "Прийдется работать с тем, что есть.\n",
    "\n",
    "Итого:\n",
    "\n",
    "    1) Слишком много NaN.\n",
    "    РЕШЕНИЕ: Заполним пропущенные значения с самым выгодным условими для каждого признака.\n",
    "\n",
    "    2) Слишком большое количество признаков, что не используется.\n",
    "    РЕШЕНИЕ: Прийдется уменьшить количество признаков и выделить только самые нужные. Воспользуемся методом для нахождения тех признаков, что влияют на результат и уже будем проводить анализ и работать с этими признаками. (Feature Selection)\n",
    "\n",
    "    3) Imbalance class.\n",
    "    РЕШЕНИЕ: Воспользеумся методом Undersampling для уравнения классов. В качестве метрики будем использовать F1."
   ],
   "metadata": {
    "collapsed": false
   }
  },
  {
   "cell_type": "raw",
   "source": [
    "    УДАЛЕНИЕ NaN"
   ],
   "metadata": {
    "collapsed": false
   }
  },
  {
   "cell_type": "raw",
   "source": [
    "    Анализировать мы будем на старом датасете с NaN, но для дальнейших действий (как подсчет коррелляции) мы удалим NaN"
   ],
   "metadata": {
    "collapsed": false
   }
  },
  {
   "cell_type": "markdown",
   "source": [
    "Для анализа пропущенных значений я попробую использовать - missingo.\n",
    "Он позволяет наглядно построить графики пропущенных значений.\n",
    "\n",
    "Для заполнения пропусков значений воспользеумся - missingpy\n",
    "Он позволяет заполнить NaN найлучшим способом для каждого признака"
   ],
   "metadata": {
    "collapsed": false
   }
  },
  {
   "cell_type": "code",
   "execution_count": null,
   "outputs": [],
   "source": [
    "msno.heatmap(df[:20], figsize=(50,30))"
   ],
   "metadata": {
    "collapsed": false,
    "pycharm": {
     "name": "#%%\n"
    }
   }
  },
  {
   "cell_type": "code",
   "execution_count": null,
   "outputs": [],
   "source": [
    "# НЕ ЗАПУСКАЕМ ЭТО\n",
    "# imputer = MissForest(random_state=42, n_estimators = 35,  oob_score = True, n_jobs= -1)\n",
    "# df_KNNImputer = imputer.fit_transform(df)"
   ],
   "metadata": {
    "collapsed": false,
    "pycharm": {
     "name": "#%%\n"
    }
   }
  },
  {
   "cell_type": "markdown",
   "source": [
    "Сохраняем изменения в таблицу и сохраняем саму таблицу, чтобы, в случае перезагрузки JupyterNotebook не пришлось использовать этот метод еще раз"
   ],
   "metadata": {
    "collapsed": false
   }
  },
  {
   "cell_type": "code",
   "execution_count": null,
   "outputs": [],
   "source": [
    "# НЕ ЗАПУСКАЕМ ЭТО\n",
    "# df_ForestImputer = df_KNNImputer\n",
    "# df_ForestImputer = pd.DataFrame(df_ForestImputer, columns = df.columns)\n",
    "# df_ForestImputer.to_csv('Train_music_ForestImputer.csv', index=False)"
   ],
   "metadata": {
    "collapsed": false,
    "pycharm": {
     "name": "#%%\n"
    }
   }
  },
  {
   "cell_type": "code",
   "execution_count": null,
   "outputs": [],
   "source": [
    "df_ForestImputer = pd.read_csv('Train_music_ForestImputer.csv')\n",
    "df_ForestImputer"
   ],
   "metadata": {
    "collapsed": false,
    "pycharm": {
     "name": "#%%\n"
    }
   }
  },
  {
   "cell_type": "raw",
   "source": [
    "    ПРОДОЛЖАЕМ АНАЛИЗ"
   ],
   "metadata": {
    "collapsed": false
   }
  },
  {
   "cell_type": "code",
   "execution_count": null,
   "outputs": [],
   "source": [
    "df['device_type'] = df['device_type'].map(str)\n",
    "df['manufacturer_category'] = df['manufacturer_category'].map(int)\n",
    "df['os_category'] = df['os_category'].map(str)"
   ],
   "metadata": {
    "collapsed": false,
    "pycharm": {
     "name": "#%%\n"
    }
   }
  },
  {
   "cell_type": "code",
   "execution_count": null,
   "outputs": [],
   "source": [
    "df['device_type'].value_counts()"
   ],
   "metadata": {
    "collapsed": false,
    "pycharm": {
     "name": "#%%\n"
    }
   }
  },
  {
   "cell_type": "code",
   "execution_count": null,
   "outputs": [],
   "source": [
    "df['manufacturer_category'].value_counts()"
   ],
   "metadata": {
    "collapsed": false,
    "pycharm": {
     "name": "#%%\n"
    }
   }
  },
  {
   "cell_type": "code",
   "execution_count": null,
   "outputs": [],
   "source": [
    "df['os_category'].value_counts()"
   ],
   "metadata": {
    "collapsed": false,
    "pycharm": {
     "name": "#%%\n"
    }
   }
  },
  {
   "cell_type": "code",
   "execution_count": null,
   "outputs": [],
   "source": [
    "fig, (ax0, ax1) = plt.subplots(1, 2, figsize=(24, 8))\n",
    "\n",
    "dt_value_counts = df['device_type'].value_counts()\n",
    "dt_col_list = list(dt_value_counts.index)\n",
    "dt_val_list = list(dt_value_counts.values)\n",
    "ax0.bar(dt_col_list, dt_val_list, label='device_type')\n",
    "ax0.set_xlabel('Types')\n",
    "ax0.set_ylabel('Counts')\n",
    "ax0.legend(loc=0)\n",
    "\n",
    "oc_value_counts = df['os_category'].value_counts()\n",
    "oc_col_list = list(oc_value_counts.index)\n",
    "oc_val_list = list(oc_value_counts.values)\n",
    "ax1.bar(oc_col_list, oc_val_list, label='os_category')\n",
    "ax1.set_xlabel('Categories')\n",
    "ax1.legend(loc=0)\n",
    "\n",
    "plt.show()"
   ],
   "metadata": {
    "collapsed": false,
    "pycharm": {
     "name": "#%%\n"
    }
   }
  },
  {
   "cell_type": "markdown",
   "source": [
    "Категорий производителей очень много (около 300), поэтому построим гистограмму."
   ],
   "metadata": {
    "collapsed": false
   }
  },
  {
   "cell_type": "code",
   "execution_count": null,
   "outputs": [],
   "source": [
    "df['manufacturer_category'].hist(bins=30)"
   ],
   "metadata": {
    "collapsed": false,
    "pycharm": {
     "name": "#%%\n"
    }
   }
  },
  {
   "cell_type": "code",
   "execution_count": null,
   "outputs": [],
   "source": [
    "df['manufacturer_category'].value_counts().index[0]"
   ],
   "metadata": {
    "collapsed": false,
    "pycharm": {
     "name": "#%%\n"
    }
   }
  },
  {
   "cell_type": "markdown",
   "source": [
    "Как можно увидеть, в значениях данных признаков присутствуют как популярные (для типа устройства, категории операционной системы и производителя соответственно - 7, 3, 1057), так и редкие значения. Есть также значения, которые присутствуют в виде нескольких экземпляров."
   ],
   "metadata": {
    "collapsed": false
   }
  },
  {
   "cell_type": "markdown",
   "source": [
    "Рассмотрим общее количвество времени жизни клиента."
   ],
   "metadata": {
    "collapsed": false
   }
  },
  {
   "cell_type": "markdown",
   "source": [
    "Рассмотрим распределение таргета по тому, есть ли у клиента специальный тарифный план или нет."
   ],
   "metadata": {
    "collapsed": false
   }
  },
  {
   "cell_type": "code",
   "execution_count": null,
   "outputs": [],
   "source": [
    "df['tp_flag'].value_counts().plot(kind='bar', xlabel='tp_flag', ylabel='count', color=['blue', 'red'])"
   ],
   "metadata": {
    "collapsed": false,
    "pycharm": {
     "name": "#%%\n"
    }
   }
  },
  {
   "cell_type": "code",
   "execution_count": null,
   "outputs": [],
   "source": [
    "sns.heatmap(pd.crosstab(df['tp_flag'], df['target']),\n",
    "            cmap=\"YlGnBu\", annot=True, cbar=False);"
   ],
   "metadata": {
    "collapsed": false,
    "pycharm": {
     "name": "#%%\n"
    }
   }
  },
  {
   "cell_type": "markdown",
   "source": [
    "Можно увидеть, что люди без тарифного плана охотнее устанавливают прложение, чем люди с тарифным планом."
   ],
   "metadata": {
    "collapsed": false
   }
  },
  {
   "cell_type": "markdown",
   "source": [
    "Посмотрим, правда ли, что люди из обласных центров охотнее покупают тарифный план."
   ],
   "metadata": {
    "collapsed": false
   }
  },
  {
   "cell_type": "code",
   "execution_count": null,
   "outputs": [],
   "source": [
    "sns.heatmap(pd.crosstab(df['tp_flag'], df['is_obl_center']),\n",
    "            cmap=\"YlGnBu\", annot=True, cbar=False);"
   ],
   "metadata": {
    "collapsed": false,
    "pycharm": {
     "name": "#%%\n"
    }
   }
  },
  {
   "cell_type": "markdown",
   "source": [
    "Есть небольшой перевес со стороны людей из обласного центра касательно покупки плана, но небольшой."
   ],
   "metadata": {
    "collapsed": false
   }
  },
  {
   "cell_type": "markdown",
   "source": [
    "Посмотрим, как связаны данные о денежных счетах клиентов и установкой мобильного приложения."
   ],
   "metadata": {
    "collapsed": false
   }
  },
  {
   "cell_type": "code",
   "execution_count": null,
   "outputs": [],
   "source": [
    "df['balance_sum'].hist(bins=50)"
   ],
   "metadata": {
    "collapsed": false,
    "pycharm": {
     "name": "#%%\n"
    }
   }
  },
  {
   "cell_type": "markdown",
   "source": [
    "Можно понять, что в данной колонке присутствуют ощутимые выбросы. Используем boxplot."
   ],
   "metadata": {
    "collapsed": false
   }
  },
  {
   "cell_type": "code",
   "execution_count": null,
   "outputs": [],
   "source": [
    "sns.boxplot(df['balance_sum'])"
   ],
   "metadata": {
    "collapsed": false,
    "pycharm": {
     "name": "#%%\n"
    }
   }
  },
  {
   "cell_type": "markdown",
   "source": [
    "Видим, что есть значительные выбросы. Избавимся от них."
   ],
   "metadata": {
    "collapsed": false
   }
  },
  {
   "cell_type": "code",
   "execution_count": null,
   "outputs": [],
   "source": [
    "df['balance_sum'] = df[df['balance_sum'] < 1000]['balance_sum']"
   ],
   "metadata": {
    "collapsed": false,
    "pycharm": {
     "name": "#%%\n"
    }
   }
  },
  {
   "cell_type": "code",
   "execution_count": null,
   "outputs": [],
   "source": [
    "sns.boxplot(df['balance_sum'])"
   ],
   "metadata": {
    "collapsed": false,
    "pycharm": {
     "name": "#%%\n"
    }
   }
  },
  {
   "cell_type": "markdown",
   "source": [
    "Можно понять, что большинство клиентов в момент сбора данных не имели средств на балансе. У некоторых даже отрицательный баланс."
   ],
   "metadata": {
    "collapsed": false
   }
  },
  {
   "cell_type": "markdown",
   "source": [
    "Проверим, кто устанавливает приложение чаще - клиент с малым количеством средств (до 50) или большим (от 50)."
   ],
   "metadata": {
    "collapsed": false
   }
  },
  {
   "cell_type": "code",
   "execution_count": null,
   "outputs": [],
   "source": [
    "small_sum = df[df['balance_sum'] <= 10]\n",
    "big_sum = df[df['balance_sum'] > 10]"
   ],
   "metadata": {
    "collapsed": false,
    "pycharm": {
     "name": "#%%\n"
    }
   }
  },
  {
   "cell_type": "code",
   "execution_count": null,
   "outputs": [],
   "source": [
    "print('small sum:', len(small_sum))\n",
    "print('big sum:', len(big_sum))"
   ],
   "metadata": {
    "collapsed": false,
    "pycharm": {
     "name": "#%%\n"
    }
   }
  },
  {
   "cell_type": "code",
   "execution_count": null,
   "outputs": [],
   "source": [
    "small_sum['target'].value_counts().plot(kind='bar', xlabel='target', ylabel='count', title='Small sum', color=['red', 'blue'])"
   ],
   "metadata": {
    "collapsed": false,
    "pycharm": {
     "name": "#%%\n"
    }
   }
  },
  {
   "cell_type": "code",
   "execution_count": null,
   "outputs": [],
   "source": [
    "big_sum['target'].value_counts().plot(kind='bar', xlabel='target', ylabel='count', title='big sum', color=['red', 'blue'])"
   ],
   "metadata": {
    "collapsed": false,
    "pycharm": {
     "name": "#%%\n"
    }
   }
  },
  {
   "cell_type": "markdown",
   "source": [
    "Как оказалось, люди с малым балансом даже немного чаще устанавливают приложение, чем люди с достаточно большим количеством средств. Возможно, именно установка приложения так сказалась на этом. Проверим."
   ],
   "metadata": {
    "collapsed": false
   }
  },
  {
   "cell_type": "markdown",
   "source": [
    "Для коэфф.кореляции необходим датасет без нанов."
   ],
   "metadata": {
    "collapsed": false
   }
  },
  {
   "cell_type": "code",
   "execution_count": null,
   "outputs": [],
   "source": [
    "df_ForestImputer = pd.read_csv('Train_music_ForestImputer.csv')\n",
    "df_ForestImputer"
   ],
   "metadata": {
    "collapsed": false,
    "pycharm": {
     "name": "#%%\n"
    }
   }
  },
  {
   "cell_type": "code",
   "execution_count": null,
   "outputs": [],
   "source": [
    "from scipy.stats import pointbiserialr\n",
    "r = pointbiserialr(df_ForestImputer['target'], df_ForestImputer['balance_sum'])\n",
    "print('Bicerial correlation:', r[0], 'p-value:', r[1])"
   ],
   "metadata": {
    "collapsed": false,
    "pycharm": {
     "name": "#%%\n"
    }
   }
  },
  {
   "cell_type": "markdown",
   "source": [
    "Так как p-value=0.007 < 0.05, тогда согласно теории мы можем принять альтернативную гипотезу о том, что значимая взаимосвязь есть. Сила взаимосвязи - слабая, направление - обратное.Замечание: к.к. Пирсона выявляет силу и направление линейной взаимосвязи между двумя количественными непрерывными признаками."
   ],
   "metadata": {
    "collapsed": false
   }
  },
  {
   "cell_type": "code",
   "execution_count": null,
   "outputs": [],
   "source": [
    "df['paym_last_days'].hist(bins=50)"
   ],
   "metadata": {
    "collapsed": false,
    "pycharm": {
     "name": "#%%\n"
    }
   }
  },
  {
   "cell_type": "code",
   "execution_count": null,
   "outputs": [],
   "source": [
    "sns.boxplot(df['paym_last_days'])"
   ],
   "metadata": {
    "collapsed": false,
    "pycharm": {
     "name": "#%%\n"
    }
   }
  },
  {
   "cell_type": "code",
   "execution_count": null,
   "outputs": [],
   "source": [
    "sns.boxplot(df[df['paym_last_days'] < 10000]['paym_last_days'])"
   ],
   "metadata": {
    "collapsed": false,
    "pycharm": {
     "name": "#%%\n"
    }
   }
  },
  {
   "cell_type": "code",
   "execution_count": null,
   "outputs": [],
   "source": [
    "small_paym = df[df['paym_last_days'] <= 1000]\n",
    "big_paym = df[df['paym_last_days'] > 1000]"
   ],
   "metadata": {
    "collapsed": false,
    "pycharm": {
     "name": "#%%\n"
    }
   }
  },
  {
   "cell_type": "code",
   "execution_count": null,
   "outputs": [],
   "source": [
    "print('small sum:', len(small_paym))\n",
    "print('big sum:', len(big_paym))"
   ],
   "metadata": {
    "collapsed": false,
    "pycharm": {
     "name": "#%%\n"
    }
   }
  },
  {
   "cell_type": "code",
   "execution_count": null,
   "outputs": [],
   "source": [
    "small_paym['target'].value_counts().plot(kind='bar', xlabel='target', ylabel='count', title='Small paym', color=['red', 'blue'])"
   ],
   "metadata": {
    "collapsed": false,
    "pycharm": {
     "name": "#%%\n"
    }
   }
  },
  {
   "cell_type": "code",
   "execution_count": null,
   "outputs": [],
   "source": [
    "big_paym['target'].value_counts().plot(kind='bar', xlabel='target', ylabel='count', title='Big paym', color=['red', 'blue'])"
   ],
   "metadata": {
    "collapsed": false,
    "pycharm": {
     "name": "#%%\n"
    }
   }
  },
  {
   "cell_type": "markdown",
   "source": [
    "Определенное количество людей и вправду тратили деньги, по столбчатым диаграммам можно увидеть, что у тех, кто потратил много денег, приложение установлено чаще."
   ],
   "metadata": {
    "collapsed": false
   }
  },
  {
   "cell_type": "code",
   "execution_count": null,
   "outputs": [],
   "source": [
    "r = pointbiserialr(df_ForestImputer['target'], df_ForestImputer['paym_last_days'])\n",
    "print('Bicerial correlation:', r[0], 'p-value:', r[1])"
   ],
   "metadata": {
    "collapsed": false,
    "pycharm": {
     "name": "#%%\n"
    }
   }
  },
  {
   "cell_type": "markdown",
   "source": [
    "Так как p-value=0.29 > 0.05, тогда согласно теории мы не можем принять альтернативную гипотезу о том, что значимая взаимосвязь есть."
   ],
   "metadata": {
    "collapsed": false
   }
  },
  {
   "cell_type": "markdown",
   "source": [
    "Проанализируем lifetime каждого клиента."
   ],
   "metadata": {
    "collapsed": false
   }
  },
  {
   "cell_type": "code",
   "execution_count": null,
   "outputs": [],
   "source": [
    "figure, ax = plt.subplots(figsize=(10, 10))\n",
    "\n",
    "ax.set_title(\"Class balance\")\n",
    "a = 0.5\n",
    "pd.DataFrame(\n",
    "    {'count': [df[df['lt'] >= a]['target'].isin([0]).sum(),\n",
    "               df[df['lt'] < a]['target'].isin([0]).sum(),\n",
    "               df[df['lt'] >= a]['target'].isin([1]).sum(),\n",
    "               df[df['lt'] < a]['target'].isin([1]).sum()\n",
    "               ]},\n",
    "    index=['Will not download (lt >= 0.5)',\n",
    "           'Will not download (lt < 0.5)',\n",
    "           'Will download lt >= (0.5)',\n",
    "           'Will download lt < (0.5)']\n",
    ").plot.pie(subplots=True, figsize=(8, 8), autopct='%1.1f%%', shadow=False, startangle=90, explode=(0.05, 0.05, 0.05, 0.05), ax=ax)\n",
    "\n",
    "plt.show()"
   ],
   "metadata": {
    "collapsed": false,
    "pycharm": {
     "name": "#%%\n"
    }
   }
  },
  {
   "cell_type": "code",
   "execution_count": null,
   "outputs": [],
   "source": [
    "figure, ax = plt.subplots(figsize=(10, 10))\n",
    "\n",
    "ax.set_title(\"Class balance\")\n",
    "a = 0.75\n",
    "pd.DataFrame(\n",
    "    {'count': [df[df['lt'] >= a]['target'].isin([0]).sum(),\n",
    "               df[df['lt'] < a]['target'].isin([0]).sum(),\n",
    "               df[df['lt'] >= a]['target'].isin([1]).sum(),\n",
    "               df[df['lt'] < a]['target'].isin([1]).sum()\n",
    "               ]},\n",
    "    index=['Will not download (lt >= 0.75)',\n",
    "           'Will not download (lt < 0.75)',\n",
    "           'Will download lt >= (0.75)',\n",
    "           'Will download lt < (0.75)']\n",
    ").plot.pie(subplots=True, figsize=(8, 8), autopct='%1.1f%%', shadow=False, startangle=90, explode=(0.05, 0.05, 0.05, 0.05), ax=ax)\n",
    "\n",
    "plt.show()"
   ],
   "metadata": {
    "collapsed": false,
    "pycharm": {
     "name": "#%%\n"
    }
   }
  },
  {
   "cell_type": "code",
   "execution_count": null,
   "outputs": [],
   "source": [
    "r = pointbiserialr(df_ForestImputer['target'], df_ForestImputer['lt'])\n",
    "print('Bicerial correlation:', r[0], 'p-value:', r[1])"
   ],
   "metadata": {
    "collapsed": false,
    "pycharm": {
     "name": "#%%\n"
    }
   }
  },
  {
   "cell_type": "markdown",
   "source": [
    "Так как p-value < 0.05, тогда мы можем принять альтернативную гипотезу. Сила взаимосвязи слабая, направление взаимосвязи - обратное. На данный момент, признак lifetime из всех наилучшим образом коррелирует с таргетом. Хоть, конечно, и сила слабая."
   ],
   "metadata": {
    "collapsed": false
   }
  },
  {
   "cell_type": "markdown",
   "source": [
    "В датасете также присутствует информация про посещения веб-сайтов разной направленности. Посмотрим, кто чаще всего скачивал приложение исходя из данной информации, и существуют ли некоторые связи."
   ],
   "metadata": {
    "collapsed": false
   }
  },
  {
   "cell_type": "code",
   "execution_count": null,
   "outputs": [],
   "source": [
    "categories = ['count_url_category_%d' % i for i in range(1, 16) if i != 5 and i != 14]\n",
    "titles = ['sport', 'hitech', 'business', 'family', 'culture', 'news', 'society',\n",
    "          'info', 'leisure', 'science', 'purchase', 'turism', 'health']\n",
    "\n",
    "fig, ax = plt.subplots(5, 3, figsize=(18, 30))\n",
    "\n",
    "c = 0\n",
    "for i in range(5):\n",
    "    for j in range(3):\n",
    "        if c == 13:\n",
    "            continue\n",
    "        df.groupby('target')[categories[c]].sum().plot(kind='bar', color=['blue', 'red'], title=titles[c], ax=ax[i][j])\n",
    "        c += 1"
   ],
   "metadata": {
    "collapsed": false,
    "pycharm": {
     "name": "#%%\n"
    }
   }
  },
  {
   "cell_type": "markdown",
   "source": [
    "Видно, что люди, интересующиеся определенными категориями, охотнее устанавливают приложение. Найдем самые популярные категории в процентном соотношении."
   ],
   "metadata": {
    "collapsed": false
   }
  },
  {
   "cell_type": "code",
   "execution_count": null,
   "outputs": [],
   "source": [
    "percentage = []\n",
    "\n",
    "for i in range(13):\n",
    "    download_part = df.groupby('target')[categories[i]].sum()[1] / df[categories[i]].sum()\n",
    "    percentage.append([download_part, titles[i]])\n",
    "\n",
    "percentage.sort(reverse=True)\n",
    "for i in range(13):\n",
    "    print(percentage[i][1], ': ', percentage[i][0], sep='')"
   ],
   "metadata": {
    "collapsed": false,
    "pycharm": {
     "name": "#%%\n"
    }
   }
  },
  {
   "cell_type": "markdown",
   "source": [
    "Можем увидеть, что приложение скачали больше всего те, кто заходит на сайты, связанные с **информацией**, **досугом**, **обществом**, **технологиями** и **спортом**."
   ],
   "metadata": {
    "collapsed": false
   }
  },
  {
   "cell_type": "markdown",
   "source": [
    "Посмотрим наличие взаимсвязи и ее характер:"
   ],
   "metadata": {
    "collapsed": false
   }
  },
  {
   "cell_type": "code",
   "execution_count": null,
   "outputs": [],
   "source": [
    "from scipy.stats import pointbiserialr\n",
    "r = pointbiserialr(df_ForestImputer['count_url_category_9'], df_ForestImputer['target'])\n",
    "print('Bicerial correlation between info and target:', r[0], 'p-value:', r[1])\n",
    "r = pointbiserialr(df_ForestImputer['count_url_category_10'], df_ForestImputer['target'])\n",
    "print('Bicerial correlation between leisure and target:', r[0], 'p-value:', r[1])\n",
    "r = pointbiserialr(df_ForestImputer['count_url_category_8'], df_ForestImputer['target'])\n",
    "print('Bicerial correlation between society and target:', r[0], 'p-value:', r[1])\n",
    "r = pointbiserialr(df_ForestImputer['count_url_category_2'], df_ForestImputer['target'])\n",
    "print('Bicerial correlation between hitech and target:', r[0], 'p-value:', r[1])\n",
    "r = pointbiserialr(df_ForestImputer['count_url_category_1'], df_ForestImputer['target'])\n",
    "print('Bicerial correlation between  sport and target:', r[0], 'p-value:', r[1])"
   ],
   "metadata": {
    "collapsed": false,
    "pycharm": {
     "name": "#%%\n"
    }
   }
  },
  {
   "cell_type": "markdown",
   "source": [
    "Так как все p-value < 0.05, тогда согласно теории мы можем принять альтернативные гипотезу о том, что значимая взаимосвязь есть. Сила взаимосвязи - слабая, направление - прямое."
   ],
   "metadata": {
    "collapsed": false
   }
  },
  {
   "cell_type": "markdown",
   "source": [
    "Проделаем аналогичые шаги для мобильных приложений, которыми пользуются люди."
   ],
   "metadata": {
    "collapsed": false
   }
  },
  {
   "cell_type": "code",
   "execution_count": null,
   "outputs": [],
   "source": [
    "apps = ['vol_app_%d' % i for i in range(1, 17)]\n",
    "titles = ['facebook', 'odnoklassniki', 'tumblr', 'viber', 'youtube', 'apple', 'instagram',\n",
    "          'linkedin', 'skype', 'twitter', 'uber', 'vkontakte', 'foursquare', 'soundcloud', 'whatsapp', 'telegram']\n",
    "\n",
    "fig, ax = plt.subplots(4, 4, figsize=(18, 25))\n",
    "\n",
    "c = 0\n",
    "for i in range(4):\n",
    "    for j in range(4):\n",
    "        df.groupby('target')[apps[c]].sum().plot(kind='bar', color=['blue', 'red'], title=titles[c], ax=ax[i][j])\n",
    "        c += 1"
   ],
   "metadata": {
    "collapsed": false,
    "pycharm": {
     "name": "#%%\n"
    }
   }
  },
  {
   "cell_type": "code",
   "execution_count": null,
   "outputs": [],
   "source": [
    "percentage = []\n",
    "\n",
    "for i in range(16):\n",
    "    download_part = df.groupby('target')[apps[i]].sum()[1] / df[apps[i]].sum()\n",
    "    percentage.append([download_part, titles[i]])\n",
    "\n",
    "percentage.sort(reverse=True)\n",
    "for i in range(16):\n",
    "    print(percentage[i][1], ': ', percentage[i][0], sep='')"
   ],
   "metadata": {
    "collapsed": false,
    "pycharm": {
     "name": "#%%\n"
    }
   }
  },
  {
   "cell_type": "markdown",
   "source": [
    "Можем увидеть, что приложение скачали больше всего те, кто пользуется такими приложениями как **whatsapp**, **soundcloud**, **youtube** и **twitter**."
   ],
   "metadata": {
    "collapsed": false
   }
  },
  {
   "cell_type": "code",
   "execution_count": null,
   "outputs": [],
   "source": [
    "columns=['vol_app_15','vol_app_14','vol_app_5', 'vol_app_10','vol_app_1','vol_app_7', 'target']"
   ],
   "metadata": {
    "collapsed": false,
    "pycharm": {
     "name": "#%%\n"
    }
   }
  },
  {
   "cell_type": "code",
   "execution_count": null,
   "outputs": [],
   "source": [
    "from scipy.stats import pointbiserialr\n",
    "r = pointbiserialr(df_ForestImputer['vol_app_15'], df_ForestImputer['target'])\n",
    "print('Bicerial correlation between whatsapp and target:', r[0], 'p-value:', r[1])\n",
    "r = pointbiserialr(df_ForestImputer['vol_app_14'], df_ForestImputer['target'])\n",
    "print('Bicerial correlation between soundcloud and target:', r[0], 'p-value:', r[1])\n",
    "r = pointbiserialr(df_ForestImputer['vol_app_5'], df_ForestImputer['target'])\n",
    "print('Bicerial correlation between youtube and target:', r[0], 'p-value:', r[1])\n",
    "r = pointbiserialr(df_ForestImputer['vol_app_10'], df_ForestImputer['target'])\n",
    "print('Bicerial correlation between twitter and target:', r[0], 'p-value:', r[1])\n",
    "r = pointbiserialr(df_ForestImputer['vol_app_1'], df_ForestImputer['target'])\n",
    "print('Bicerial correlation between  facebook and target:', r[0], 'p-value:', r[1])\n",
    "r = pointbiserialr(df_ForestImputer['vol_app_7'], df_ForestImputer['target'])\n",
    "print('Bicerial correlation between  instagram and target:', r[0], 'p-value:', r[1])"
   ],
   "metadata": {
    "collapsed": false,
    "pycharm": {
     "name": "#%%\n"
    }
   }
  },
  {
   "cell_type": "markdown",
   "source": [
    "То есть принять альтернативую гипотезу мы можем только в случае 3-х первых коэффициентов.\n",
    "Сила взаимосвязи - слабая, направление - прямое."
   ],
   "metadata": {
    "collapsed": false
   }
  },
  {
   "cell_type": "markdown",
   "source": [
    "У нас также есть информация об участии пользователя в различных акциях от оператора за полгода. Проверим, действительно ли те, кто охотнее учавствует в акциях, устанавливают приложение."
   ],
   "metadata": {
    "collapsed": false
   }
  },
  {
   "cell_type": "markdown",
   "source": [
    "Воспользуемся информацией о количестве отправленных sms, связанных с различной активностью, а также скоростью отклика на активность."
   ],
   "metadata": {
    "collapsed": false
   }
  },
  {
   "cell_type": "code",
   "execution_count": null,
   "outputs": [],
   "source": [
    "df1 = df.iloc[:, 80:104]\n",
    "df1['target'] = df['target']"
   ],
   "metadata": {
    "collapsed": false,
    "pycharm": {
     "name": "#%%\n"
    }
   }
  },
  {
   "cell_type": "code",
   "execution_count": null,
   "outputs": [],
   "source": [
    "df1['rr_act'] = (df1['rr_act_type_1'] + df1['rr_act_type_2'] + df1['rr_act_type_3'] + df1['rr_act_type_4'] \\\n",
    "                + df1['rr_act_type_5'] + df1['rr_act_type_6'] + df1['rr_act_type_7'] + df1['rr_act_type_8']) / 8\n",
    "\n",
    "df1['count_act'] = df1['count_act_type_1'] + df1['count_act_type_2'] + df1['count_act_type_3'] + df1['count_act_type_4'] \\\n",
    "                + df1['count_act_type_5'] + df1['count_act_type_6'] + df1['count_act_type_7'] + df1['count_act_type_8']"
   ],
   "metadata": {
    "collapsed": false,
    "pycharm": {
     "name": "#%%\n"
    }
   }
  },
  {
   "cell_type": "code",
   "execution_count": null,
   "outputs": [],
   "source": [
    "df1['rr_act'].fillna(0, inplace=True)\n",
    "df1['count_act'].fillna(0, inplace=True)"
   ],
   "metadata": {
    "collapsed": false,
    "pycharm": {
     "name": "#%%\n"
    }
   }
  },
  {
   "cell_type": "code",
   "execution_count": null,
   "outputs": [],
   "source": [
    "df1.groupby('target')['rr_act'].mean().plot(kind='bar', color=['blue', 'red'])"
   ],
   "metadata": {
    "collapsed": false,
    "pycharm": {
     "name": "#%%\n"
    }
   }
  },
  {
   "cell_type": "code",
   "execution_count": null,
   "outputs": [],
   "source": [
    "df1.groupby('target')['count_act'].mean().plot(kind='bar', color=['blue', 'red'])"
   ],
   "metadata": {
    "collapsed": false,
    "pycharm": {
     "name": "#%%\n"
    }
   }
  },
  {
   "cell_type": "markdown",
   "source": [
    "Также у нас имеется информация про количество отправленных sms в различные учреждения. Посмотрим на распределение здесь."
   ],
   "metadata": {
    "collapsed": false
   }
  },
  {
   "cell_type": "code",
   "execution_count": null,
   "outputs": [],
   "source": [
    "sms = ['count_sms_source_%d' % i for i in range(1, 17) if i not in list(range(5, 12))]\n",
    "titles = ['fest services', 'online shops', 'banks', 'online shop', 'delivery services', 'avto services', 'women shops',\n",
    "          'taxi']\n",
    "\n",
    "fig, ax = plt.subplots(4, 2, figsize=(18, 25))\n",
    "\n",
    "c = 0\n",
    "for i in range(4):\n",
    "    for j in range(2):\n",
    "        df.groupby('target')[sms[c]].sum().plot(kind='bar', color=['blue', 'red'], title=titles[c], ax=ax[i][j])\n",
    "        c += 1"
   ],
   "metadata": {
    "collapsed": false,
    "pycharm": {
     "name": "#%%\n"
    }
   }
  },
  {
   "cell_type": "markdown",
   "source": [
    "Больше всего сообщений поступает от онлайн-магазинов и служб доставки."
   ],
   "metadata": {
    "collapsed": false
   }
  },
  {
   "cell_type": "raw",
   "source": [
    "    3.XGBOOST"
   ],
   "metadata": {
    "collapsed": false
   }
  },
  {
   "cell_type": "code",
   "execution_count": 58,
   "outputs": [],
   "source": [
    "X = df_ForestImputer.drop(['target'], axis=1)\n",
    "y = df_ForestImputer.target"
   ],
   "metadata": {
    "collapsed": false,
    "pycharm": {
     "name": "#%%\n"
    }
   }
  },
  {
   "cell_type": "code",
   "execution_count": 59,
   "outputs": [
    {
     "data": {
      "text/plain": "       device_type  manufacturer_category  os_category  sim_count  tp_flag  \\\n0              7.0                  592.0          3.0        2.0      0.0   \n1              7.0                 1057.0          3.0        2.0      0.0   \n2              7.0                 1057.0          3.0        2.0      0.0   \n3              7.0                  745.0          3.0        2.0      0.0   \n4              7.0                 1057.0          3.0        2.0      0.0   \n...            ...                    ...          ...        ...      ...   \n19995          7.0                 1057.0          3.0        2.0      0.0   \n19996          7.0                  592.0          3.0        2.0      0.0   \n19997          7.0                  728.0          3.0        1.0      0.0   \n19998          7.0                 1057.0          3.0        2.0      0.0   \n19999          7.0                 1228.0          3.0        1.0      0.0   \n\n             lt  block_flag  days_exp  service_1_flag  service_1_count  ...  \\\n0      0.632435         0.0     108.0             0.0              0.0  ...   \n1      0.540345         0.0     330.0             0.0              0.0  ...   \n2      0.951582         0.0     344.0             0.0              0.0  ...   \n3      0.659047         0.0     361.0             0.0              0.0  ...   \n4      0.926471         0.0     199.0             1.0             25.0  ...   \n...         ...         ...       ...             ...              ...  ...   \n19995  0.707827         0.0     221.0             0.0              0.0  ...   \n19996  0.824135         0.0     355.0             0.0              0.0  ...   \n19997  0.924764         0.0     208.0             0.0              0.0  ...   \n19998  0.716732         0.0     324.0             0.0              0.0  ...   \n19999  0.880862         0.0     343.0             1.0           1236.0  ...   \n\n       service_5_count_m3  service_6_count_m3  service_7_cost_m3  \\\n0                     0.0                 0.0                0.0   \n1                     0.0                 0.0                0.0   \n2                     0.0                 0.0                0.0   \n3                     0.0                 0.0                0.0   \n4                     0.0                 0.0                0.0   \n...                   ...                 ...                ...   \n19995                 0.0                 0.0                0.0   \n19996                 0.0                 0.0                0.0   \n19997                 0.0                 0.0                0.0   \n19998                 0.0                 0.0                0.0   \n19999                92.0                 0.0                0.0   \n\n       service_7_flag_m3  service_8_count_m3  income_brnd_cont_m3  \\\n0                    0.0                 0.0            19.971334   \n1                    0.0                 0.0            10.894140   \n2                    0.0                 0.0             9.894929   \n3                    0.0                 0.0             8.183337   \n4                    0.0                 0.0             2.217369   \n...                  ...                 ...                  ...   \n19995                0.0                 0.0            11.649066   \n19996                0.0                 0.0             2.159549   \n19997                0.0                 0.0            10.999666   \n19998                0.0                 0.0            14.756591   \n19999                0.0                 0.0             2.745100   \n\n       data_type_1_m3  data_type_2_m3  data_type_3_m3  service_9_flag_m3  \n0          127.895751      716.420311      114.566613                1.0  \n1          234.292876       80.144736       14.630618                1.0  \n2            0.018959        0.000977       57.100249                1.0  \n3          189.579215      118.776836       53.537855                1.0  \n4          534.214973     1989.913944       29.685412                1.0  \n...               ...             ...             ...                ...  \n19995      522.172754     2286.497442      452.738112                1.0  \n19996      857.216847     5979.779220      265.482364                1.0  \n19997      196.408633       40.263622        0.071870                1.0  \n19998      274.917012       28.008975       10.813313                1.0  \n19999     4236.638531     5695.405960      109.627658                1.0  \n\n[20000 rows x 459 columns]",
      "text/html": "<div>\n<style scoped>\n    .dataframe tbody tr th:only-of-type {\n        vertical-align: middle;\n    }\n\n    .dataframe tbody tr th {\n        vertical-align: top;\n    }\n\n    .dataframe thead th {\n        text-align: right;\n    }\n</style>\n<table border=\"1\" class=\"dataframe\">\n  <thead>\n    <tr style=\"text-align: right;\">\n      <th></th>\n      <th>device_type</th>\n      <th>manufacturer_category</th>\n      <th>os_category</th>\n      <th>sim_count</th>\n      <th>tp_flag</th>\n      <th>lt</th>\n      <th>block_flag</th>\n      <th>days_exp</th>\n      <th>service_1_flag</th>\n      <th>service_1_count</th>\n      <th>...</th>\n      <th>service_5_count_m3</th>\n      <th>service_6_count_m3</th>\n      <th>service_7_cost_m3</th>\n      <th>service_7_flag_m3</th>\n      <th>service_8_count_m3</th>\n      <th>income_brnd_cont_m3</th>\n      <th>data_type_1_m3</th>\n      <th>data_type_2_m3</th>\n      <th>data_type_3_m3</th>\n      <th>service_9_flag_m3</th>\n    </tr>\n  </thead>\n  <tbody>\n    <tr>\n      <th>0</th>\n      <td>7.0</td>\n      <td>592.0</td>\n      <td>3.0</td>\n      <td>2.0</td>\n      <td>0.0</td>\n      <td>0.632435</td>\n      <td>0.0</td>\n      <td>108.0</td>\n      <td>0.0</td>\n      <td>0.0</td>\n      <td>...</td>\n      <td>0.0</td>\n      <td>0.0</td>\n      <td>0.0</td>\n      <td>0.0</td>\n      <td>0.0</td>\n      <td>19.971334</td>\n      <td>127.895751</td>\n      <td>716.420311</td>\n      <td>114.566613</td>\n      <td>1.0</td>\n    </tr>\n    <tr>\n      <th>1</th>\n      <td>7.0</td>\n      <td>1057.0</td>\n      <td>3.0</td>\n      <td>2.0</td>\n      <td>0.0</td>\n      <td>0.540345</td>\n      <td>0.0</td>\n      <td>330.0</td>\n      <td>0.0</td>\n      <td>0.0</td>\n      <td>...</td>\n      <td>0.0</td>\n      <td>0.0</td>\n      <td>0.0</td>\n      <td>0.0</td>\n      <td>0.0</td>\n      <td>10.894140</td>\n      <td>234.292876</td>\n      <td>80.144736</td>\n      <td>14.630618</td>\n      <td>1.0</td>\n    </tr>\n    <tr>\n      <th>2</th>\n      <td>7.0</td>\n      <td>1057.0</td>\n      <td>3.0</td>\n      <td>2.0</td>\n      <td>0.0</td>\n      <td>0.951582</td>\n      <td>0.0</td>\n      <td>344.0</td>\n      <td>0.0</td>\n      <td>0.0</td>\n      <td>...</td>\n      <td>0.0</td>\n      <td>0.0</td>\n      <td>0.0</td>\n      <td>0.0</td>\n      <td>0.0</td>\n      <td>9.894929</td>\n      <td>0.018959</td>\n      <td>0.000977</td>\n      <td>57.100249</td>\n      <td>1.0</td>\n    </tr>\n    <tr>\n      <th>3</th>\n      <td>7.0</td>\n      <td>745.0</td>\n      <td>3.0</td>\n      <td>2.0</td>\n      <td>0.0</td>\n      <td>0.659047</td>\n      <td>0.0</td>\n      <td>361.0</td>\n      <td>0.0</td>\n      <td>0.0</td>\n      <td>...</td>\n      <td>0.0</td>\n      <td>0.0</td>\n      <td>0.0</td>\n      <td>0.0</td>\n      <td>0.0</td>\n      <td>8.183337</td>\n      <td>189.579215</td>\n      <td>118.776836</td>\n      <td>53.537855</td>\n      <td>1.0</td>\n    </tr>\n    <tr>\n      <th>4</th>\n      <td>7.0</td>\n      <td>1057.0</td>\n      <td>3.0</td>\n      <td>2.0</td>\n      <td>0.0</td>\n      <td>0.926471</td>\n      <td>0.0</td>\n      <td>199.0</td>\n      <td>1.0</td>\n      <td>25.0</td>\n      <td>...</td>\n      <td>0.0</td>\n      <td>0.0</td>\n      <td>0.0</td>\n      <td>0.0</td>\n      <td>0.0</td>\n      <td>2.217369</td>\n      <td>534.214973</td>\n      <td>1989.913944</td>\n      <td>29.685412</td>\n      <td>1.0</td>\n    </tr>\n    <tr>\n      <th>...</th>\n      <td>...</td>\n      <td>...</td>\n      <td>...</td>\n      <td>...</td>\n      <td>...</td>\n      <td>...</td>\n      <td>...</td>\n      <td>...</td>\n      <td>...</td>\n      <td>...</td>\n      <td>...</td>\n      <td>...</td>\n      <td>...</td>\n      <td>...</td>\n      <td>...</td>\n      <td>...</td>\n      <td>...</td>\n      <td>...</td>\n      <td>...</td>\n      <td>...</td>\n      <td>...</td>\n    </tr>\n    <tr>\n      <th>19995</th>\n      <td>7.0</td>\n      <td>1057.0</td>\n      <td>3.0</td>\n      <td>2.0</td>\n      <td>0.0</td>\n      <td>0.707827</td>\n      <td>0.0</td>\n      <td>221.0</td>\n      <td>0.0</td>\n      <td>0.0</td>\n      <td>...</td>\n      <td>0.0</td>\n      <td>0.0</td>\n      <td>0.0</td>\n      <td>0.0</td>\n      <td>0.0</td>\n      <td>11.649066</td>\n      <td>522.172754</td>\n      <td>2286.497442</td>\n      <td>452.738112</td>\n      <td>1.0</td>\n    </tr>\n    <tr>\n      <th>19996</th>\n      <td>7.0</td>\n      <td>592.0</td>\n      <td>3.0</td>\n      <td>2.0</td>\n      <td>0.0</td>\n      <td>0.824135</td>\n      <td>0.0</td>\n      <td>355.0</td>\n      <td>0.0</td>\n      <td>0.0</td>\n      <td>...</td>\n      <td>0.0</td>\n      <td>0.0</td>\n      <td>0.0</td>\n      <td>0.0</td>\n      <td>0.0</td>\n      <td>2.159549</td>\n      <td>857.216847</td>\n      <td>5979.779220</td>\n      <td>265.482364</td>\n      <td>1.0</td>\n    </tr>\n    <tr>\n      <th>19997</th>\n      <td>7.0</td>\n      <td>728.0</td>\n      <td>3.0</td>\n      <td>1.0</td>\n      <td>0.0</td>\n      <td>0.924764</td>\n      <td>0.0</td>\n      <td>208.0</td>\n      <td>0.0</td>\n      <td>0.0</td>\n      <td>...</td>\n      <td>0.0</td>\n      <td>0.0</td>\n      <td>0.0</td>\n      <td>0.0</td>\n      <td>0.0</td>\n      <td>10.999666</td>\n      <td>196.408633</td>\n      <td>40.263622</td>\n      <td>0.071870</td>\n      <td>1.0</td>\n    </tr>\n    <tr>\n      <th>19998</th>\n      <td>7.0</td>\n      <td>1057.0</td>\n      <td>3.0</td>\n      <td>2.0</td>\n      <td>0.0</td>\n      <td>0.716732</td>\n      <td>0.0</td>\n      <td>324.0</td>\n      <td>0.0</td>\n      <td>0.0</td>\n      <td>...</td>\n      <td>0.0</td>\n      <td>0.0</td>\n      <td>0.0</td>\n      <td>0.0</td>\n      <td>0.0</td>\n      <td>14.756591</td>\n      <td>274.917012</td>\n      <td>28.008975</td>\n      <td>10.813313</td>\n      <td>1.0</td>\n    </tr>\n    <tr>\n      <th>19999</th>\n      <td>7.0</td>\n      <td>1228.0</td>\n      <td>3.0</td>\n      <td>1.0</td>\n      <td>0.0</td>\n      <td>0.880862</td>\n      <td>0.0</td>\n      <td>343.0</td>\n      <td>1.0</td>\n      <td>1236.0</td>\n      <td>...</td>\n      <td>92.0</td>\n      <td>0.0</td>\n      <td>0.0</td>\n      <td>0.0</td>\n      <td>0.0</td>\n      <td>2.745100</td>\n      <td>4236.638531</td>\n      <td>5695.405960</td>\n      <td>109.627658</td>\n      <td>1.0</td>\n    </tr>\n  </tbody>\n</table>\n<p>20000 rows × 459 columns</p>\n</div>"
     },
     "execution_count": 59,
     "metadata": {},
     "output_type": "execute_result"
    }
   ],
   "source": [
    "X.drop(['id'], axis=1, inplace=True)\n",
    "X"
   ],
   "metadata": {
    "collapsed": false,
    "pycharm": {
     "name": "#%%\n"
    }
   }
  },
  {
   "cell_type": "raw",
   "source": [
    "    Выбираем 100 лучших признаков спомощью Feature Selection"
   ],
   "metadata": {
    "collapsed": false,
    "pycharm": {
     "name": "#%% raw\n"
    }
   }
  },
  {
   "cell_type": "code",
   "execution_count": 60,
   "outputs": [],
   "source": [
    "selector_100 = SelectKBest(f_classif, k=100)\n",
    "selector_100.fit(X, y)\n",
    "# Get columns to keep and create new dataframe with those only\n",
    "cols_100 = selector_100.get_support(indices=True)\n",
    "df_new_100 = X.iloc[:,cols_100]"
   ],
   "metadata": {
    "collapsed": false,
    "pycharm": {
     "name": "#%%\n"
    }
   }
  },
  {
   "cell_type": "code",
   "execution_count": 61,
   "outputs": [],
   "source": [
    "scaler = StandardScaler()\n",
    "df_new_100 = pd.DataFrame(scaler.fit_transform(df_new_100), columns=df_new_100.columns)"
   ],
   "metadata": {
    "collapsed": false,
    "pycharm": {
     "name": "#%%\n"
    }
   }
  },
  {
   "cell_type": "code",
   "execution_count": 62,
   "outputs": [
    {
     "data": {
      "text/plain": "       os_category   tp_flag        lt  service_3_flag  is_obl_center  \\\n0         -0.49492 -0.297082 -1.001931       -0.175409      -0.894075   \n1         -0.49492 -0.297082 -1.590335       -0.175409       1.118474   \n2         -0.49492 -0.297082  1.037242       -0.175409      -0.894075   \n3         -0.49492 -0.297082 -0.831893       -0.175409      -0.894075   \n4         -0.49492 -0.297082  0.876793       -0.175409      -0.894075   \n...            ...       ...       ...             ...            ...   \n19995     -0.49492 -0.297082 -0.520217       -0.175409      -0.894075   \n19996     -0.49492 -0.297082  0.222928       -0.175409       1.118474   \n19997     -0.49492 -0.297082  0.865889       -0.175409       1.118474   \n19998     -0.49492 -0.297082 -0.463319       -0.175409      -0.894075   \n19999     -0.49492 -0.297082  0.585381       -0.175409       1.118474   \n\n       count_sms_source_3  count_sms_source_5  count_sms_source_15  vol_app_5  \\\n0               -0.267228            0.313444            -0.256878  -0.301414   \n1               -0.267228           -0.848216             2.081547  -0.141346   \n2               -0.267228            2.636763            -0.256878  -0.300726   \n3               -0.267228           -0.848216            -0.256878  -0.301515   \n4               -0.267228            0.313444            -0.256878  -0.301445   \n...                   ...                 ...                  ...        ...   \n19995           -0.267228           -0.848216            -0.256878  -0.301244   \n19996           -0.267228            1.475104            -0.256878  -0.227828   \n19997           -0.267228           -0.848216            -0.256878  -0.246916   \n19998           -0.267228            0.313444            -0.256878  -0.299100   \n19999            2.469572           -0.848216            -0.256878   0.091044   \n\n       vol_app_15  ...  voice_omo_in_night_work_count_m3  \\\n0       -0.450033  ...                         -0.188588   \n1       -0.203051  ...                         -0.401439   \n2       -0.146423  ...                         -0.401439   \n3       -0.316188  ...                         -0.401439   \n4       -0.501774  ...                         -0.401439   \n...           ...  ...                               ...   \n19995    0.275779  ...                         -0.401439   \n19996    0.004822  ...                          0.449963   \n19997    0.162907  ...                         -0.401439   \n19998    2.526424  ...                          0.449963   \n19999   -0.132007  ...                          1.727064   \n\n       voice_omo_in_night_rest_count_m3  voice_out_uniq_count_m3  \\\n0                             -0.369218                 1.097161   \n1                             -0.369218                -0.854600   \n2                             -0.369218                -0.277318   \n3                             -0.369218                -0.689662   \n4                             -0.369218                 0.822265   \n...                                 ...                      ...   \n19995                         -0.369218                -0.937068   \n19996                          0.557914                 3.158879   \n19997                         -0.369218                -0.937068   \n19998                          1.485046                 3.048921   \n19999                          1.948612                 0.437411   \n\n       voice_in_uniq_count_m3  sms_in_count_m3  content_count_m3  \\\n0                    1.108343        -0.315446         -0.753311   \n1                   -0.834637        -0.660410         -0.453244   \n2                   -0.621708        -0.591417          0.061156   \n3                   -0.861253        -0.522424         -0.946211   \n4                    0.868798        -0.246453         -0.324644   \n...                       ...              ...               ...   \n19995               -0.994334        -0.660410         -1.053378   \n19996                3.423950         0.742442          0.018290   \n19997               -0.914485        -0.660410         -0.260344   \n19998                2.865010         1.708339         -0.324644   \n19999                0.389707         2.030305         -0.453244   \n\n       service_7_flag_m3  data_type_1_m3  data_type_2_m3  data_type_3_m3  \n0              -0.151725       -0.414077       -0.266016       -0.225517  \n1              -0.151725       -0.377244       -0.381097       -0.333507  \n2              -0.151725       -0.458346       -0.395593       -0.287615  \n3              -0.151725       -0.392723       -0.374110       -0.291464  \n4              -0.151725       -0.273415       -0.035684       -0.317239  \n...                  ...             ...             ...             ...  \n19995          -0.151725       -0.277584        0.017957        0.139911  \n19996          -0.151725       -0.161597        0.685947       -0.062437  \n19997          -0.151725       -0.390359       -0.388310       -0.349239  \n19998          -0.151725       -0.363180       -0.390527       -0.337632  \n19999          -0.151725        1.008310        0.634514       -0.230854  \n\n[20000 rows x 100 columns]",
      "text/html": "<div>\n<style scoped>\n    .dataframe tbody tr th:only-of-type {\n        vertical-align: middle;\n    }\n\n    .dataframe tbody tr th {\n        vertical-align: top;\n    }\n\n    .dataframe thead th {\n        text-align: right;\n    }\n</style>\n<table border=\"1\" class=\"dataframe\">\n  <thead>\n    <tr style=\"text-align: right;\">\n      <th></th>\n      <th>os_category</th>\n      <th>tp_flag</th>\n      <th>lt</th>\n      <th>service_3_flag</th>\n      <th>is_obl_center</th>\n      <th>count_sms_source_3</th>\n      <th>count_sms_source_5</th>\n      <th>count_sms_source_15</th>\n      <th>vol_app_5</th>\n      <th>vol_app_15</th>\n      <th>...</th>\n      <th>voice_omo_in_night_work_count_m3</th>\n      <th>voice_omo_in_night_rest_count_m3</th>\n      <th>voice_out_uniq_count_m3</th>\n      <th>voice_in_uniq_count_m3</th>\n      <th>sms_in_count_m3</th>\n      <th>content_count_m3</th>\n      <th>service_7_flag_m3</th>\n      <th>data_type_1_m3</th>\n      <th>data_type_2_m3</th>\n      <th>data_type_3_m3</th>\n    </tr>\n  </thead>\n  <tbody>\n    <tr>\n      <th>0</th>\n      <td>-0.49492</td>\n      <td>-0.297082</td>\n      <td>-1.001931</td>\n      <td>-0.175409</td>\n      <td>-0.894075</td>\n      <td>-0.267228</td>\n      <td>0.313444</td>\n      <td>-0.256878</td>\n      <td>-0.301414</td>\n      <td>-0.450033</td>\n      <td>...</td>\n      <td>-0.188588</td>\n      <td>-0.369218</td>\n      <td>1.097161</td>\n      <td>1.108343</td>\n      <td>-0.315446</td>\n      <td>-0.753311</td>\n      <td>-0.151725</td>\n      <td>-0.414077</td>\n      <td>-0.266016</td>\n      <td>-0.225517</td>\n    </tr>\n    <tr>\n      <th>1</th>\n      <td>-0.49492</td>\n      <td>-0.297082</td>\n      <td>-1.590335</td>\n      <td>-0.175409</td>\n      <td>1.118474</td>\n      <td>-0.267228</td>\n      <td>-0.848216</td>\n      <td>2.081547</td>\n      <td>-0.141346</td>\n      <td>-0.203051</td>\n      <td>...</td>\n      <td>-0.401439</td>\n      <td>-0.369218</td>\n      <td>-0.854600</td>\n      <td>-0.834637</td>\n      <td>-0.660410</td>\n      <td>-0.453244</td>\n      <td>-0.151725</td>\n      <td>-0.377244</td>\n      <td>-0.381097</td>\n      <td>-0.333507</td>\n    </tr>\n    <tr>\n      <th>2</th>\n      <td>-0.49492</td>\n      <td>-0.297082</td>\n      <td>1.037242</td>\n      <td>-0.175409</td>\n      <td>-0.894075</td>\n      <td>-0.267228</td>\n      <td>2.636763</td>\n      <td>-0.256878</td>\n      <td>-0.300726</td>\n      <td>-0.146423</td>\n      <td>...</td>\n      <td>-0.401439</td>\n      <td>-0.369218</td>\n      <td>-0.277318</td>\n      <td>-0.621708</td>\n      <td>-0.591417</td>\n      <td>0.061156</td>\n      <td>-0.151725</td>\n      <td>-0.458346</td>\n      <td>-0.395593</td>\n      <td>-0.287615</td>\n    </tr>\n    <tr>\n      <th>3</th>\n      <td>-0.49492</td>\n      <td>-0.297082</td>\n      <td>-0.831893</td>\n      <td>-0.175409</td>\n      <td>-0.894075</td>\n      <td>-0.267228</td>\n      <td>-0.848216</td>\n      <td>-0.256878</td>\n      <td>-0.301515</td>\n      <td>-0.316188</td>\n      <td>...</td>\n      <td>-0.401439</td>\n      <td>-0.369218</td>\n      <td>-0.689662</td>\n      <td>-0.861253</td>\n      <td>-0.522424</td>\n      <td>-0.946211</td>\n      <td>-0.151725</td>\n      <td>-0.392723</td>\n      <td>-0.374110</td>\n      <td>-0.291464</td>\n    </tr>\n    <tr>\n      <th>4</th>\n      <td>-0.49492</td>\n      <td>-0.297082</td>\n      <td>0.876793</td>\n      <td>-0.175409</td>\n      <td>-0.894075</td>\n      <td>-0.267228</td>\n      <td>0.313444</td>\n      <td>-0.256878</td>\n      <td>-0.301445</td>\n      <td>-0.501774</td>\n      <td>...</td>\n      <td>-0.401439</td>\n      <td>-0.369218</td>\n      <td>0.822265</td>\n      <td>0.868798</td>\n      <td>-0.246453</td>\n      <td>-0.324644</td>\n      <td>-0.151725</td>\n      <td>-0.273415</td>\n      <td>-0.035684</td>\n      <td>-0.317239</td>\n    </tr>\n    <tr>\n      <th>...</th>\n      <td>...</td>\n      <td>...</td>\n      <td>...</td>\n      <td>...</td>\n      <td>...</td>\n      <td>...</td>\n      <td>...</td>\n      <td>...</td>\n      <td>...</td>\n      <td>...</td>\n      <td>...</td>\n      <td>...</td>\n      <td>...</td>\n      <td>...</td>\n      <td>...</td>\n      <td>...</td>\n      <td>...</td>\n      <td>...</td>\n      <td>...</td>\n      <td>...</td>\n      <td>...</td>\n    </tr>\n    <tr>\n      <th>19995</th>\n      <td>-0.49492</td>\n      <td>-0.297082</td>\n      <td>-0.520217</td>\n      <td>-0.175409</td>\n      <td>-0.894075</td>\n      <td>-0.267228</td>\n      <td>-0.848216</td>\n      <td>-0.256878</td>\n      <td>-0.301244</td>\n      <td>0.275779</td>\n      <td>...</td>\n      <td>-0.401439</td>\n      <td>-0.369218</td>\n      <td>-0.937068</td>\n      <td>-0.994334</td>\n      <td>-0.660410</td>\n      <td>-1.053378</td>\n      <td>-0.151725</td>\n      <td>-0.277584</td>\n      <td>0.017957</td>\n      <td>0.139911</td>\n    </tr>\n    <tr>\n      <th>19996</th>\n      <td>-0.49492</td>\n      <td>-0.297082</td>\n      <td>0.222928</td>\n      <td>-0.175409</td>\n      <td>1.118474</td>\n      <td>-0.267228</td>\n      <td>1.475104</td>\n      <td>-0.256878</td>\n      <td>-0.227828</td>\n      <td>0.004822</td>\n      <td>...</td>\n      <td>0.449963</td>\n      <td>0.557914</td>\n      <td>3.158879</td>\n      <td>3.423950</td>\n      <td>0.742442</td>\n      <td>0.018290</td>\n      <td>-0.151725</td>\n      <td>-0.161597</td>\n      <td>0.685947</td>\n      <td>-0.062437</td>\n    </tr>\n    <tr>\n      <th>19997</th>\n      <td>-0.49492</td>\n      <td>-0.297082</td>\n      <td>0.865889</td>\n      <td>-0.175409</td>\n      <td>1.118474</td>\n      <td>-0.267228</td>\n      <td>-0.848216</td>\n      <td>-0.256878</td>\n      <td>-0.246916</td>\n      <td>0.162907</td>\n      <td>...</td>\n      <td>-0.401439</td>\n      <td>-0.369218</td>\n      <td>-0.937068</td>\n      <td>-0.914485</td>\n      <td>-0.660410</td>\n      <td>-0.260344</td>\n      <td>-0.151725</td>\n      <td>-0.390359</td>\n      <td>-0.388310</td>\n      <td>-0.349239</td>\n    </tr>\n    <tr>\n      <th>19998</th>\n      <td>-0.49492</td>\n      <td>-0.297082</td>\n      <td>-0.463319</td>\n      <td>-0.175409</td>\n      <td>-0.894075</td>\n      <td>-0.267228</td>\n      <td>0.313444</td>\n      <td>-0.256878</td>\n      <td>-0.299100</td>\n      <td>2.526424</td>\n      <td>...</td>\n      <td>0.449963</td>\n      <td>1.485046</td>\n      <td>3.048921</td>\n      <td>2.865010</td>\n      <td>1.708339</td>\n      <td>-0.324644</td>\n      <td>-0.151725</td>\n      <td>-0.363180</td>\n      <td>-0.390527</td>\n      <td>-0.337632</td>\n    </tr>\n    <tr>\n      <th>19999</th>\n      <td>-0.49492</td>\n      <td>-0.297082</td>\n      <td>0.585381</td>\n      <td>-0.175409</td>\n      <td>1.118474</td>\n      <td>2.469572</td>\n      <td>-0.848216</td>\n      <td>-0.256878</td>\n      <td>0.091044</td>\n      <td>-0.132007</td>\n      <td>...</td>\n      <td>1.727064</td>\n      <td>1.948612</td>\n      <td>0.437411</td>\n      <td>0.389707</td>\n      <td>2.030305</td>\n      <td>-0.453244</td>\n      <td>-0.151725</td>\n      <td>1.008310</td>\n      <td>0.634514</td>\n      <td>-0.230854</td>\n    </tr>\n  </tbody>\n</table>\n<p>20000 rows × 100 columns</p>\n</div>"
     },
     "execution_count": 62,
     "metadata": {},
     "output_type": "execute_result"
    }
   ],
   "source": [
    "df_new_100"
   ],
   "metadata": {
    "collapsed": false,
    "pycharm": {
     "name": "#%%\n"
    }
   }
  },
  {
   "cell_type": "code",
   "execution_count": 63,
   "outputs": [],
   "source": [
    "def count(df_y):\n",
    "    a = df_y[df_y == 0].count()\n",
    "    b = df_y[df_y == 1].count()\n",
    "    print(\"Will not download\", a)\n",
    "    print(\"Will download\", b)\n",
    "    print(\"Not download / Will download\", a/b)\n",
    "    return a/b"
   ],
   "metadata": {
    "collapsed": false,
    "pycharm": {
     "name": "#%%\n"
    }
   }
  },
  {
   "cell_type": "code",
   "execution_count": 64,
   "outputs": [],
   "source": [
    "def makeScore(model):\n",
    "    roc_auc = roc_auc_score(y_test, model.predict(X_test))\n",
    "    f1 = f1_score(y_test, model.predict(X_test))\n",
    "    accuracy = accuracy_score(y_test, model.predict(X_test))\n",
    "    recall = recall_score(y_test, model.predict(X_test))\n",
    "    precision = precision_score(y_test, model.predict(X_test))\n",
    "\n",
    "    print(confusion_matrix(y_test, model.predict(X_test)))\n",
    "    print(\"ROC_AUC: %.5f%%\" % (roc_auc * 100.0))\n",
    "    print(\"F1_score: %.5f%%\" % (f1 * 100.0))\n",
    "    print(\"Accuracy: %.5f%%\" % (accuracy * 100.0))\n",
    "    print(\"Recall: %.5f%%\" % (recall * 100.0))\n",
    "    print(\"Precision: %.5f%% \"% (precision * 100.0))"
   ],
   "metadata": {
    "collapsed": false,
    "pycharm": {
     "name": "#%%\n"
    }
   }
  },
  {
   "cell_type": "raw",
   "source": [
    "Разделение"
   ],
   "metadata": {
    "collapsed": false
   }
  },
  {
   "cell_type": "code",
   "execution_count": 65,
   "outputs": [],
   "source": [
    "X_train, X_test, y_train, y_test = train_test_split(df_new_100, y, test_size=0.2, random_state=42)"
   ],
   "metadata": {
    "collapsed": false,
    "pycharm": {
     "name": "#%%\n"
    }
   }
  },
  {
   "cell_type": "raw",
   "source": [
    "    OVERSAMPLING"
   ],
   "metadata": {
    "collapsed": false
   }
  },
  {
   "cell_type": "code",
   "execution_count": 66,
   "outputs": [
    {
     "name": "stdout",
     "output_type": "stream",
     "text": [
      "\n",
      "\tIMBALANCED CLASS\n",
      "\n",
      "Will not download 14792\n",
      "Will download 1208\n",
      "Not download / Will download 12.245033112582782\n",
      "\n",
      "[[3545  167]\n",
      " [ 225   63]]\n",
      "ROC_AUC: 58.68804%\n",
      "F1_score: 24.32432%\n",
      "Accuracy: 90.20000%\n",
      "Recall: 21.87500%\n",
      "Precision: 27.39130% \n",
      "\n",
      "\tRANDOM OVERSAMPLING\n",
      "\n",
      "Will not download 14792\n",
      "Will download 14792\n",
      "Not download / Will download 1.0\n",
      "\n",
      "[[3567  145]\n",
      " [ 224   64]]\n",
      "ROC_AUC: 59.15799%\n",
      "F1_score: 25.75453%\n",
      "Accuracy: 90.77500%\n",
      "Recall: 22.22222%\n",
      "Precision: 30.62201% \n",
      "\n",
      "\tRANDOM UNDERSAMPLING\n",
      "\n",
      "Will not download 1208\n",
      "Will download 1208\n",
      "Not download / Will download 1.0\n",
      "\n",
      "[[2601 1111]\n",
      " [  83  205]]\n",
      "ROC_AUC: 70.62530%\n",
      "F1_score: 25.56110%\n",
      "Accuracy: 70.15000%\n",
      "Recall: 71.18056%\n",
      "Precision: 15.57751% \n",
      "\n",
      "\tRANDOM OVERSEMPLING AND UNDERSAMPLING\n",
      "\n",
      "Will not download 3286\n",
      "Will download 2958\n",
      "Not download / Will download 1.1108857336037863\n",
      "\n",
      "[[3220  492]\n",
      " [ 144  144]]\n",
      "ROC_AUC: 68.37284%\n",
      "F1_score: 31.16883%\n",
      "Accuracy: 84.10000%\n",
      "Recall: 50.00000%\n",
      "Precision: 22.64151% \n"
     ]
    }
   ],
   "source": [
    "print(\"\\n\\tIMBALANCED CLASS\\n\")\n",
    "difference = count(y_train)\n",
    "model = XGBClassifier(scale_pos_weight = difference, use_rmm = 'true', eval_metric='mlogloss').fit(X_train, y_train)\n",
    "print()\n",
    "makeScore(model)\n",
    "\n",
    "\n",
    "print(\"\\n\\tRANDOM OVERSAMPLING\\n\")\n",
    "oversample = RandomOverSampler(random_state= 42, sampling_strategy = 'minority')\n",
    "X_ros, y_ros = oversample.fit_resample(X_train, y_train)\n",
    "model = XGBClassifier(use_rmm = 'true', eval_metric='mlogloss').fit(X_ros, y_ros)\n",
    "count(y_ros)\n",
    "print()\n",
    "makeScore(model)\n",
    "\n",
    "\n",
    "print(\"\\n\\tRANDOM UNDERSAMPLING\\n\")\n",
    "undersample = RandomUnderSampler(random_state= 42, sampling_strategy = 'majority')\n",
    "X_rus, y_rus = undersample.fit_resample(X_train, y_train)\n",
    "model = XGBClassifier(use_rmm = 'true', eval_metric='mlogloss').fit(X_rus, y_rus)\n",
    "count(y_rus)\n",
    "print()\n",
    "makeScore(model)\n",
    "\n",
    "\n",
    "print(\"\\n\\tRANDOM OVERSEMPLING AND UNDERSAMPLING\\n\")\n",
    "over = RandomOverSampler(random_state=42, sampling_strategy=0.2)\n",
    "X_rous, y_rous = over.fit_resample(X_train, y_train)\n",
    "under = RandomUnderSampler(random_state=42, sampling_strategy=0.9) # sampling_strategy = float - количество выборок в классе большинства после повторной выборки и количество выборок в классе меньшинства, соответственно.\n",
    "X_rous, y_rous = under.fit_resample(X_rous, y_rous)\n",
    "model = XGBClassifier(use_rmm = 'true', eval_metric='mlogloss').fit(X_rous, y_rous)\n",
    "count(y_rous)\n",
    "print()\n",
    "makeScore(model)"
   ],
   "metadata": {
    "collapsed": false,
    "pycharm": {
     "name": "#%%\n"
    }
   }
  },
  {
   "cell_type": "raw",
   "source": [
    "    ПОДБИРАЕМ ГИПЕРПАРАМЕТРЫ"
   ],
   "metadata": {
    "collapsed": false
   }
  },
  {
   "cell_type": "code",
   "execution_count": 67,
   "outputs": [],
   "source": [
    "kf = KFold(n_splits=5, shuffle=True, random_state=42)"
   ],
   "metadata": {
    "collapsed": false,
    "pycharm": {
     "name": "#%%\n"
    }
   }
  },
  {
   "cell_type": "code",
   "execution_count": 14,
   "outputs": [
    {
     "name": "stdout",
     "output_type": "stream",
     "text": [
      "[18:56:10] WARNING: C:/Users/Administrator/workspace/xgboost-win64_release_1.5.1/src/learner.cc:1115: Starting in XGBoost 1.3.0, the default evaluation metric used with the objective 'binary:logistic' was changed from 'error' to 'logloss'. Explicitly set eval_metric if you'd like to restore the old behavior.\n"
     ]
    },
    {
     "data": {
      "text/plain": "GridSearchCV(cv=KFold(n_splits=5, random_state=42, shuffle=True),\n             estimator=XGBClassifier(base_score=None, booster=None,\n                                     colsample_bylevel=None,\n                                     colsample_bynode=None,\n                                     colsample_bytree=None,\n                                     enable_categorical=False, gamma=None,\n                                     gpu_id=None, importance_type=None,\n                                     interaction_constraints=None,\n                                     learning_rate=None, max_delta_step=None,\n                                     max_depth=None, min_child_weigh...\n                                     n_estimators=100, n_jobs=None,\n                                     num_parallel_tree=None, predictor=None,\n                                     random_state=None, reg_alpha=None,\n                                     reg_lambda=None,\n                                     scale_pos_weight=12.245033112582782,\n                                     subsample=None, tree_method=None,\n                                     use_rmm='true', validate_parameters=None,\n                                     verbosity=None),\n             n_jobs=-1,\n             param_grid={'eta': [0.01, 0.1, 0.2, 0.3],\n                         'gamma': array([0.1, 0.2, 0.3, 0.4, 0.5]),\n                         'n_estimators': array([ 50, 100, 150, 200])},\n             scoring='f1')"
     },
     "execution_count": 14,
     "metadata": {},
     "output_type": "execute_result"
    }
   ],
   "source": [
    "params={'eta': [0.01, 0.1, 0.2, 0.3], 'gamma':np.arange(0.1,0.6,0.1), \"n_estimators\": np.arange(50, 201, 50)}\n",
    "model = XGBClassifier(scale_pos_weight = difference, use_rmm = 'true')\n",
    "\n",
    "grid = GridSearchCV(model, params, cv=kf, scoring='f1', n_jobs = -1)\n",
    "grid.fit(df_new_100, y)"
   ],
   "metadata": {
    "collapsed": false,
    "pycharm": {
     "name": "#%%\n"
    }
   }
  },
  {
   "cell_type": "code",
   "execution_count": 15,
   "outputs": [
    {
     "name": "stdout",
     "output_type": "stream",
     "text": [
      "Найлучшее качество модели при {'eta': 0.2, 'gamma': 0.5, 'n_estimators': 50}\n",
      "Наилучшая оценка качества модели: 0.3304974083083055\n"
     ]
    }
   ],
   "source": [
    "print(\"Найлучшее качество модели при\", grid.best_params_)\n",
    "print(\"Наилучшая оценка качества модели:\", grid.best_score_)"
   ],
   "metadata": {
    "collapsed": false,
    "pycharm": {
     "name": "#%%\n"
    }
   }
  },
  {
   "cell_type": "code",
   "execution_count": 16,
   "outputs": [
    {
     "name": "stdout",
     "output_type": "stream",
     "text": [
      "[19:05:31] WARNING: C:/Users/Administrator/workspace/xgboost-win64_release_1.5.1/src/learner.cc:1115: Starting in XGBoost 1.3.0, the default evaluation metric used with the objective 'binary:logistic' was changed from 'error' to 'logloss'. Explicitly set eval_metric if you'd like to restore the old behavior.\n"
     ]
    },
    {
     "data": {
      "text/plain": "GridSearchCV(cv=KFold(n_splits=5, random_state=42, shuffle=True),\n             estimator=Pipeline(steps=[('under',\n                                        RandomUnderSampler(random_state=42,\n                                                           sampling_strategy='majority')),\n                                       ('model',\n                                        XGBClassifier(base_score=None,\n                                                      booster=None,\n                                                      colsample_bylevel=None,\n                                                      colsample_bynode=None,\n                                                      colsample_bytree=None,\n                                                      enable_categorical=False,\n                                                      gamma=None, gpu_id=None,\n                                                      importance_type=Non...\n                                                      num_parallel_tree=None,\n                                                      predictor=None,\n                                                      random_state=None,\n                                                      reg_alpha=None,\n                                                      reg_lambda=None,\n                                                      scale_pos_weight=None,\n                                                      subsample=None,\n                                                      tree_method=None,\n                                                      use_rmm='true',\n                                                      validate_parameters=None,\n                                                      verbosity=None))]),\n             n_jobs=-1,\n             param_grid={'model__eta': [0.01, 0.1, 0.2, 0.3],\n                         'model__gamma': array([0.1, 0.2, 0.3, 0.4, 0.5]),\n                         'model__n_estimators': array([ 50, 100, 150, 200])},\n             scoring='f1')"
     },
     "execution_count": 16,
     "metadata": {},
     "output_type": "execute_result"
    }
   ],
   "source": [
    "steps = [('under', RandomUnderSampler(sampling_strategy = 'majority', random_state=42)), ('model', XGBClassifier(use_rmm = 'true'))]\n",
    "pipeline = Pipeline(steps=steps)\n",
    "\n",
    "params={\n",
    "    'model__eta': [0.01, 0.1, 0.2, 0.3],\n",
    "    'model__gamma':np.arange(0.1,0.6,0.1),\n",
    "    'model__n_estimators': np.arange(50, 201, 50)\n",
    "}\n",
    "grid = GridSearchCV(pipeline, params, cv=kf, scoring='f1', n_jobs = -1)\n",
    "grid.fit(df_new_100, y)"
   ],
   "metadata": {
    "collapsed": false,
    "pycharm": {
     "name": "#%%\n"
    }
   }
  },
  {
   "cell_type": "code",
   "execution_count": 17,
   "outputs": [
    {
     "name": "stdout",
     "output_type": "stream",
     "text": [
      "Найлучшее качество модели при {'model__eta': 0.1, 'model__gamma': 0.30000000000000004, 'model__n_estimators': 50}\n",
      "Наилучшая оценка качества модели: 0.28065406717266805\n"
     ]
    }
   ],
   "source": [
    "# scores = cross_val_score(pipeline, df_new_50, y, scoring='roc_auc', cv=kf, n_jobs=-1)\n",
    "# print(scores)\n",
    "# print(statistics.mean(scores))\n",
    "print(\"Найлучшее качество модели при\", grid.best_params_)\n",
    "print(\"Наилучшая оценка качества модели:\", grid.best_score_)"
   ],
   "metadata": {
    "collapsed": false,
    "pycharm": {
     "name": "#%%\n"
    }
   }
  },
  {
   "cell_type": "code",
   "execution_count": 18,
   "outputs": [
    {
     "name": "stdout",
     "output_type": "stream",
     "text": [
      "[19:37:11] WARNING: C:/Users/Administrator/workspace/xgboost-win64_release_1.5.1/src/learner.cc:1115: Starting in XGBoost 1.3.0, the default evaluation metric used with the objective 'binary:logistic' was changed from 'error' to 'logloss'. Explicitly set eval_metric if you'd like to restore the old behavior.\n"
     ]
    },
    {
     "data": {
      "text/plain": "GridSearchCV(cv=KFold(n_splits=5, random_state=42, shuffle=True),\n             estimator=Pipeline(steps=[('over',\n                                        RandomOverSampler(random_state=42,\n                                                          sampling_strategy='minority')),\n                                       ('model',\n                                        XGBClassifier(base_score=None,\n                                                      booster=None,\n                                                      colsample_bylevel=None,\n                                                      colsample_bynode=None,\n                                                      colsample_bytree=None,\n                                                      enable_categorical=False,\n                                                      gamma=None, gpu_id=None,\n                                                      importance_type=None,...\n                                                      num_parallel_tree=None,\n                                                      predictor=None,\n                                                      random_state=None,\n                                                      reg_alpha=None,\n                                                      reg_lambda=None,\n                                                      scale_pos_weight=None,\n                                                      subsample=None,\n                                                      tree_method=None,\n                                                      use_rmm='true',\n                                                      validate_parameters=None,\n                                                      verbosity=None))]),\n             n_jobs=-1,\n             param_grid={'model__eta': [0.01, 0.1, 0.2, 0.3],\n                         'model__gamma': array([0.1, 0.2, 0.3, 0.4, 0.5]),\n                         'model__n_estimators': array([ 50, 100, 150, 200])},\n             scoring='f1')"
     },
     "execution_count": 18,
     "metadata": {},
     "output_type": "execute_result"
    }
   ],
   "source": [
    "steps = [('over', RandomOverSampler(sampling_strategy = 'minority', random_state=42)), ('model', XGBClassifier(use_rmm = 'true'))]\n",
    "pipeline = Pipeline(steps=steps)\n",
    "\n",
    "params={\n",
    "    'model__eta': [0.01, 0.1, 0.2, 0.3],\n",
    "    'model__gamma':np.arange(0.1,0.6,0.1),\n",
    "    'model__n_estimators': np.arange(50, 201, 50)\n",
    "}\n",
    "grid = GridSearchCV(pipeline, params, cv=kf, scoring='f1', n_jobs = -1)\n",
    "grid.fit(df_new_100, y)"
   ],
   "metadata": {
    "collapsed": false,
    "pycharm": {
     "name": "#%%\n"
    }
   }
  },
  {
   "cell_type": "code",
   "execution_count": 20,
   "outputs": [
    {
     "name": "stdout",
     "output_type": "stream",
     "text": [
      "Найлучшее качество модели при {'model__eta': 0.1, 'model__gamma': 0.30000000000000004, 'model__n_estimators': 100}\n",
      "Наилучшая оценка качества модели: 0.32700818878169663\n"
     ]
    }
   ],
   "source": [
    "print(\"Найлучшее качество модели при\", grid.best_params_)\n",
    "print(\"Наилучшая оценка качества модели:\", grid.best_score_)"
   ],
   "metadata": {
    "collapsed": false,
    "pycharm": {
     "name": "#%%\n"
    }
   }
  },
  {
   "cell_type": "code",
   "execution_count": 21,
   "outputs": [
    {
     "name": "stdout",
     "output_type": "stream",
     "text": [
      "[19:45:54] WARNING: C:/Users/Administrator/workspace/xgboost-win64_release_1.5.1/src/learner.cc:1115: Starting in XGBoost 1.3.0, the default evaluation metric used with the objective 'binary:logistic' was changed from 'error' to 'logloss'. Explicitly set eval_metric if you'd like to restore the old behavior.\n"
     ]
    },
    {
     "data": {
      "text/plain": "GridSearchCV(cv=KFold(n_splits=5, random_state=42, shuffle=True),\n             estimator=Pipeline(steps=[('over',\n                                        RandomOverSampler(random_state=42,\n                                                          sampling_strategy=0.2)),\n                                       ('under',\n                                        RandomUnderSampler(random_state=42,\n                                                           sampling_strategy=0.9)),\n                                       ('model',\n                                        XGBClassifier(base_score=None,\n                                                      booster=None,\n                                                      colsample_bylevel=None,\n                                                      colsample_bynode=None,\n                                                      colsample_bytree=None,\n                                                      enable_c...\n                                                      num_parallel_tree=None,\n                                                      predictor=None,\n                                                      random_state=None,\n                                                      reg_alpha=None,\n                                                      reg_lambda=None,\n                                                      scale_pos_weight=None,\n                                                      subsample=None,\n                                                      tree_method=None,\n                                                      use_rmm='true',\n                                                      validate_parameters=None,\n                                                      verbosity=None))]),\n             n_jobs=-1,\n             param_grid={'model__eta': [0.01, 0.1, 0.2, 0.3],\n                         'model__gamma': array([0.1, 0.2, 0.3, 0.4, 0.5]),\n                         'model__n_estimators': array([ 50, 100, 150, 200])},\n             scoring='f1')"
     },
     "execution_count": 21,
     "metadata": {},
     "output_type": "execute_result"
    }
   ],
   "source": [
    "steps = [('over', RandomOverSampler(random_state=42, sampling_strategy=0.2)), ('under', RandomUnderSampler(random_state=42, sampling_strategy=0.9)) ,('model', XGBClassifier(use_rmm = 'true'))]\n",
    "pipeline = Pipeline(steps=steps)\n",
    "\n",
    "params={\n",
    "    'model__eta': [0.01, 0.1, 0.2, 0.3],\n",
    "    'model__gamma':np.arange(0.1,0.6,0.1),\n",
    "    'model__n_estimators': np.arange(50, 201, 50)\n",
    "}\n",
    "grid = GridSearchCV(pipeline, params, cv=kf, scoring='f1', n_jobs = -1)\n",
    "grid.fit(df_new_100, y)"
   ],
   "metadata": {
    "collapsed": false,
    "pycharm": {
     "name": "#%%\n"
    }
   }
  },
  {
   "cell_type": "code",
   "execution_count": 22,
   "outputs": [
    {
     "name": "stdout",
     "output_type": "stream",
     "text": [
      "Найлучшее качество модели при {'model__eta': 0.2, 'model__gamma': 0.30000000000000004, 'model__n_estimators': 200}\n",
      "Наилучшая оценка качества модели: 0.33909550361777924\n"
     ]
    }
   ],
   "source": [
    "print(\"Найлучшее качество модели при\", grid.best_params_)\n",
    "print(\"Наилучшая оценка качества модели:\", grid.best_score_)"
   ],
   "metadata": {
    "collapsed": false,
    "pycharm": {
     "name": "#%%\n"
    }
   }
  },
  {
   "cell_type": "code",
   "execution_count": 83,
   "outputs": [
    {
     "data": {
      "text/plain": "<Figure size 1440x360 with 1 Axes>",
      "image/png": "[encoded data removed]"
     },
     "metadata": {},
     "output_type": "display_data"
    }
   ],
   "source": [
    "model = XGBClassifier(eta= 0.2, gamma= 0.3, n_estimators= 200, use_rmm= True, eval_metric='mlogloss')\n",
    "model.fit(X_rous, y_rous)\n",
    "ax = plot_importance(model, max_num_features=10)\n",
    "fig = ax.figure\n",
    "fig.set_size_inches(20, 5)"
   ],
   "metadata": {
    "collapsed": false,
    "pycharm": {
     "name": "#%%\n"
    }
   }
  }
 ],
 "metadata": {
  "kernelspec": {
   "display_name": "Python 3",
   "language": "python",
   "name": "python3"
  },
  "language_info": {
   "codemirror_mode": {
    "name": "ipython",
    "version": 2
   },
   "file_extension": ".py",
   "mimetype": "text/x-python",
   "name": "python",
   "nbconvert_exporter": "python",
   "pygments_lexer": "ipython2",
   "version": "2.7.6"
  }
 },
 "nbformat": 4,
 "nbformat_minor": 0
}